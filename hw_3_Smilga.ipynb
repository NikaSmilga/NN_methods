{
  "cells": [
    {
      "cell_type": "code",
      "execution_count": 5,
      "metadata": {
        "id": "SsSC0_G4eRiB"
      },
      "outputs": [],
      "source": [
        "import pandas as pd\n",
        "import os\n",
        "\n",
        "import pandas as pd\n",
        "import numpy as np\n",
        "from string import punctuation\n",
        "from collections import Counter\n",
        "\n",
        "from sklearn.model_selection import train_test_split\n",
        "from sklearn.utils import shuffle\n",
        "import torch\n",
        "import torch.nn as nn\n",
        "import torch.nn.functional as F\n",
        "from torch.utils.data import Dataset, DataLoader, RandomSampler, SequentialSampler\n",
        "from torch.nn.utils.rnn import pad_sequence\n",
        "import torch.optim as optim\n",
        "from torchmetrics import F1\n",
        "from torchmetrics.functional import f1, recall, accuracy\n",
        "from sklearn.metrics import accuracy_score\n",
        "import ipdb"
      ]
    },
    {
      "cell_type": "code",
      "source": [
        "pip install torchmetrics"
      ],
      "metadata": {
        "colab": {
          "base_uri": "https://localhost:8080/"
        },
        "id": "Sw1hbeOdlALA",
        "outputId": "31f0d004-4925-4fa4-ca55-4fa9fa2279ae"
      },
      "execution_count": 3,
      "outputs": [
        {
          "output_type": "stream",
          "name": "stdout",
          "text": [
            "Collecting torchmetrics\n",
            "  Downloading torchmetrics-0.6.2-py3-none-any.whl (332 kB)\n",
            "\u001b[?25l\r\u001b[K     |█                               | 10 kB 25.1 MB/s eta 0:00:01\r\u001b[K     |██                              | 20 kB 27.1 MB/s eta 0:00:01\r\u001b[K     |███                             | 30 kB 29.8 MB/s eta 0:00:01\r\u001b[K     |████                            | 40 kB 26.5 MB/s eta 0:00:01\r\u001b[K     |█████                           | 51 kB 17.2 MB/s eta 0:00:01\r\u001b[K     |██████                          | 61 kB 16.0 MB/s eta 0:00:01\r\u001b[K     |███████                         | 71 kB 12.2 MB/s eta 0:00:01\r\u001b[K     |███████▉                        | 81 kB 13.2 MB/s eta 0:00:01\r\u001b[K     |████████▉                       | 92 kB 13.8 MB/s eta 0:00:01\r\u001b[K     |█████████▉                      | 102 kB 13.4 MB/s eta 0:00:01\r\u001b[K     |██████████▉                     | 112 kB 13.4 MB/s eta 0:00:01\r\u001b[K     |███████████▉                    | 122 kB 13.4 MB/s eta 0:00:01\r\u001b[K     |████████████▉                   | 133 kB 13.4 MB/s eta 0:00:01\r\u001b[K     |█████████████▉                  | 143 kB 13.4 MB/s eta 0:00:01\r\u001b[K     |██████████████▉                 | 153 kB 13.4 MB/s eta 0:00:01\r\u001b[K     |███████████████▊                | 163 kB 13.4 MB/s eta 0:00:01\r\u001b[K     |████████████████▊               | 174 kB 13.4 MB/s eta 0:00:01\r\u001b[K     |█████████████████▊              | 184 kB 13.4 MB/s eta 0:00:01\r\u001b[K     |██████████████████▊             | 194 kB 13.4 MB/s eta 0:00:01\r\u001b[K     |███████████████████▊            | 204 kB 13.4 MB/s eta 0:00:01\r\u001b[K     |████████████████████▊           | 215 kB 13.4 MB/s eta 0:00:01\r\u001b[K     |█████████████████████▊          | 225 kB 13.4 MB/s eta 0:00:01\r\u001b[K     |██████████████████████▋         | 235 kB 13.4 MB/s eta 0:00:01\r\u001b[K     |███████████████████████▋        | 245 kB 13.4 MB/s eta 0:00:01\r\u001b[K     |████████████████████████▋       | 256 kB 13.4 MB/s eta 0:00:01\r\u001b[K     |█████████████████████████▋      | 266 kB 13.4 MB/s eta 0:00:01\r\u001b[K     |██████████████████████████▋     | 276 kB 13.4 MB/s eta 0:00:01\r\u001b[K     |███████████████████████████▋    | 286 kB 13.4 MB/s eta 0:00:01\r\u001b[K     |████████████████████████████▋   | 296 kB 13.4 MB/s eta 0:00:01\r\u001b[K     |█████████████████████████████▋  | 307 kB 13.4 MB/s eta 0:00:01\r\u001b[K     |██████████████████████████████▌ | 317 kB 13.4 MB/s eta 0:00:01\r\u001b[K     |███████████████████████████████▌| 327 kB 13.4 MB/s eta 0:00:01\r\u001b[K     |████████████████████████████████| 332 kB 13.4 MB/s \n",
            "\u001b[?25hRequirement already satisfied: numpy>=1.17.2 in /usr/local/lib/python3.7/dist-packages (from torchmetrics) (1.19.5)\n",
            "Requirement already satisfied: packaging in /usr/local/lib/python3.7/dist-packages (from torchmetrics) (21.3)\n",
            "Requirement already satisfied: torch>=1.3.1 in /usr/local/lib/python3.7/dist-packages (from torchmetrics) (1.10.0+cu111)\n",
            "Requirement already satisfied: typing-extensions in /usr/local/lib/python3.7/dist-packages (from torch>=1.3.1->torchmetrics) (3.10.0.2)\n",
            "Requirement already satisfied: pyparsing!=3.0.5,>=2.0.2 in /usr/local/lib/python3.7/dist-packages (from packaging->torchmetrics) (3.0.6)\n",
            "Installing collected packages: torchmetrics\n",
            "Successfully installed torchmetrics-0.6.2\n"
          ]
        }
      ]
    },
    {
      "cell_type": "code",
      "source": [
        "pip install ipdb"
      ],
      "metadata": {
        "colab": {
          "base_uri": "https://localhost:8080/",
          "height": 849
        },
        "id": "9RahanYcHJ8T",
        "outputId": "617b680d-1117-480e-aa1b-e3c7afe29973"
      },
      "execution_count": 4,
      "outputs": [
        {
          "output_type": "stream",
          "name": "stdout",
          "text": [
            "Collecting ipdb\n",
            "  Downloading ipdb-0.13.9.tar.gz (16 kB)\n",
            "Requirement already satisfied: setuptools in /usr/local/lib/python3.7/dist-packages (from ipdb) (57.4.0)\n",
            "Collecting ipython>=7.17.0\n",
            "  Downloading ipython-7.30.1-py3-none-any.whl (791 kB)\n",
            "\u001b[K     |████████████████████████████████| 791 kB 16.1 MB/s \n",
            "\u001b[?25hRequirement already satisfied: toml>=0.10.2 in /usr/local/lib/python3.7/dist-packages (from ipdb) (0.10.2)\n",
            "Requirement already satisfied: decorator in /usr/local/lib/python3.7/dist-packages (from ipdb) (4.4.2)\n",
            "Requirement already satisfied: pickleshare in /usr/local/lib/python3.7/dist-packages (from ipython>=7.17.0->ipdb) (0.7.5)\n",
            "Collecting prompt-toolkit!=3.0.0,!=3.0.1,<3.1.0,>=2.0.0\n",
            "  Downloading prompt_toolkit-3.0.24-py3-none-any.whl (374 kB)\n",
            "\u001b[K     |████████████████████████████████| 374 kB 69.9 MB/s \n",
            "\u001b[?25hRequirement already satisfied: backcall in /usr/local/lib/python3.7/dist-packages (from ipython>=7.17.0->ipdb) (0.2.0)\n",
            "Requirement already satisfied: pygments in /usr/local/lib/python3.7/dist-packages (from ipython>=7.17.0->ipdb) (2.6.1)\n",
            "Requirement already satisfied: pexpect>4.3 in /usr/local/lib/python3.7/dist-packages (from ipython>=7.17.0->ipdb) (4.8.0)\n",
            "Requirement already satisfied: jedi>=0.16 in /usr/local/lib/python3.7/dist-packages (from ipython>=7.17.0->ipdb) (0.18.1)\n",
            "Requirement already satisfied: matplotlib-inline in /usr/local/lib/python3.7/dist-packages (from ipython>=7.17.0->ipdb) (0.1.3)\n",
            "Requirement already satisfied: traitlets>=4.2 in /usr/local/lib/python3.7/dist-packages (from ipython>=7.17.0->ipdb) (5.1.1)\n",
            "Requirement already satisfied: parso<0.9.0,>=0.8.0 in /usr/local/lib/python3.7/dist-packages (from jedi>=0.16->ipython>=7.17.0->ipdb) (0.8.3)\n",
            "Requirement already satisfied: ptyprocess>=0.5 in /usr/local/lib/python3.7/dist-packages (from pexpect>4.3->ipython>=7.17.0->ipdb) (0.7.0)\n",
            "Requirement already satisfied: wcwidth in /usr/local/lib/python3.7/dist-packages (from prompt-toolkit!=3.0.0,!=3.0.1,<3.1.0,>=2.0.0->ipython>=7.17.0->ipdb) (0.2.5)\n",
            "Building wheels for collected packages: ipdb\n",
            "  Building wheel for ipdb (setup.py) ... \u001b[?25l\u001b[?25hdone\n",
            "  Created wheel for ipdb: filename=ipdb-0.13.9-py3-none-any.whl size=11648 sha256=a031ce799f793d96c99f36e0610a282fc6ee5768f0a42f281df71754ba6e885c\n",
            "  Stored in directory: /root/.cache/pip/wheels/65/cd/cc/aaf92acae337a28fdd2aa4d632196a59745c8c39f76eaeed01\n",
            "Successfully built ipdb\n",
            "Installing collected packages: prompt-toolkit, ipython, ipdb\n",
            "  Attempting uninstall: prompt-toolkit\n",
            "    Found existing installation: prompt-toolkit 1.0.18\n",
            "    Uninstalling prompt-toolkit-1.0.18:\n",
            "      Successfully uninstalled prompt-toolkit-1.0.18\n",
            "  Attempting uninstall: ipython\n",
            "    Found existing installation: ipython 5.5.0\n",
            "    Uninstalling ipython-5.5.0:\n",
            "      Successfully uninstalled ipython-5.5.0\n",
            "\u001b[31mERROR: pip's dependency resolver does not currently take into account all the packages that are installed. This behaviour is the source of the following dependency conflicts.\n",
            "jupyter-console 5.2.0 requires prompt-toolkit<2.0.0,>=1.0.0, but you have prompt-toolkit 3.0.24 which is incompatible.\n",
            "google-colab 1.0.0 requires ipython~=5.5.0, but you have ipython 7.30.1 which is incompatible.\u001b[0m\n",
            "Successfully installed ipdb-0.13.9 ipython-7.30.1 prompt-toolkit-3.0.24\n"
          ]
        },
        {
          "output_type": "display_data",
          "data": {
            "application/vnd.colab-display-data+json": {
              "pip_warning": {
                "packages": [
                  "IPython",
                  "prompt_toolkit"
                ]
              }
            }
          },
          "metadata": {}
        }
      ]
    },
    {
      "cell_type": "code",
      "execution_count": 6,
      "metadata": {
        "colab": {
          "base_uri": "https://localhost:8080/"
        },
        "id": "kanst8IEpqo5",
        "outputId": "86cfe6fe-9af2-4633-88e2-ec9fd082128c"
      },
      "outputs": [
        {
          "output_type": "stream",
          "name": "stdout",
          "text": [
            "Collecting kaggle\n",
            "  Downloading kaggle-1.5.12.tar.gz (58 kB)\n",
            "\u001b[?25l\r\u001b[K     |█████▋                          | 10 kB 25.3 MB/s eta 0:00:01\r\u001b[K     |███████████▏                    | 20 kB 30.4 MB/s eta 0:00:01\r\u001b[K     |████████████████▊               | 30 kB 34.3 MB/s eta 0:00:01\r\u001b[K     |██████████████████████▎         | 40 kB 34.0 MB/s eta 0:00:01\r\u001b[K     |███████████████████████████▉    | 51 kB 19.0 MB/s eta 0:00:01\r\u001b[K     |████████████████████████████████| 58 kB 5.8 MB/s \n",
            "\u001b[?25hBuilding wheels for collected packages: kaggle\n",
            "  Building wheel for kaggle (setup.py) ... \u001b[?25l\u001b[?25hdone\n",
            "  Created wheel for kaggle: filename=kaggle-1.5.12-py3-none-any.whl size=73051 sha256=0b4c813dbd4cbe30671dd97f1f0cc32f9f0d215212afd0ca6093b4f8a3605e4a\n",
            "  Stored in directory: /root/.cache/pip/wheels/62/d6/58/5853130f941e75b2177d281eb7e44b4a98ed46dd155f556dc5\n",
            "Successfully built kaggle\n",
            "Installing collected packages: kaggle\n",
            "  Attempting uninstall: kaggle\n",
            "    Found existing installation: kaggle 1.5.12\n",
            "    Uninstalling kaggle-1.5.12:\n",
            "      Successfully uninstalled kaggle-1.5.12\n",
            "Successfully installed kaggle-1.5.12\n"
          ]
        }
      ],
      "source": [
        "!pip install --upgrade --force-reinstall --no-deps kaggle"
      ]
    },
    {
      "cell_type": "code",
      "execution_count": 7,
      "metadata": {
        "id": "N4BUxW40evAC"
      },
      "outputs": [],
      "source": [
        "!mkdir -p ~/.kaggle/ && mv kaggle.json ~/.kaggle/ && chmod 600 ~/.kaggle/kaggle.json"
      ]
    },
    {
      "cell_type": "code",
      "execution_count": 8,
      "metadata": {
        "id": "0bmOp_1Zgnvn"
      },
      "outputs": [],
      "source": [
        "os.environ['KAGGLE_USERNAME'] = \"\" # username from the json file\n",
        "os.environ['KAGGLE_KEY'] = \"\" # key from the json file"
      ]
    },
    {
      "cell_type": "code",
      "execution_count": 9,
      "metadata": {
        "colab": {
          "base_uri": "https://localhost:8080/"
        },
        "id": "Tw1CNllzfD1i",
        "outputId": "607d2bcc-ef86-465f-b191-49e1428abe5d"
      },
      "outputs": [
        {
          "output_type": "stream",
          "name": "stdout",
          "text": [
            "Downloading fake-and-real-news-dataset.zip to /content\n",
            "100% 41.0M/41.0M [00:00<00:00, 77.3MB/s]\n",
            "100% 41.0M/41.0M [00:00<00:00, 58.7MB/s]\n"
          ]
        }
      ],
      "source": [
        "!kaggle datasets download -d \"clmentbisaillon/fake-and-real-news-dataset\" --force "
      ]
    },
    {
      "cell_type": "code",
      "execution_count": 10,
      "metadata": {
        "colab": {
          "base_uri": "https://localhost:8080/"
        },
        "id": "a5jT46f4h1Iq",
        "outputId": "318ebd9d-4038-4723-a195-73c608b7a248"
      },
      "outputs": [
        {
          "output_type": "stream",
          "name": "stdout",
          "text": [
            "Archive:  fake-and-real-news-dataset.zip\n",
            "  inflating: Fake.csv                \n",
            "  inflating: True.csv                \n"
          ]
        }
      ],
      "source": [
        "!unzip fake-and-real-news-dataset.zip"
      ]
    },
    {
      "cell_type": "code",
      "execution_count": 493,
      "metadata": {
        "id": "oePtXsXYfaGi"
      },
      "outputs": [],
      "source": [
        "true = pd.read_csv('True.csv')\n",
        "fake_1 = pd.read_csv('Fake.csv')\n",
        "news = pd.concat([true, fake])"
      ]
    },
    {
      "cell_type": "code",
      "execution_count": 12,
      "metadata": {
        "id": "XmUoNG59p0VN"
      },
      "outputs": [],
      "source": [
        "news = pd.concat([true, fake])"
      ]
    },
    {
      "cell_type": "code",
      "execution_count": 13,
      "metadata": {
        "colab": {
          "base_uri": "https://localhost:8080/",
          "height": 424
        },
        "id": "RcnPs3OFp1FV",
        "outputId": "b22fbddf-36fe-4030-d495-4bacca56e501"
      },
      "outputs": [
        {
          "output_type": "execute_result",
          "data": {
            "text/html": [
              "\n",
              "  <div id=\"df-e8c90d60-620c-497e-b9a8-687224071eb3\">\n",
              "    <div class=\"colab-df-container\">\n",
              "      <div>\n",
              "<style scoped>\n",
              "    .dataframe tbody tr th:only-of-type {\n",
              "        vertical-align: middle;\n",
              "    }\n",
              "\n",
              "    .dataframe tbody tr th {\n",
              "        vertical-align: top;\n",
              "    }\n",
              "\n",
              "    .dataframe thead th {\n",
              "        text-align: right;\n",
              "    }\n",
              "</style>\n",
              "<table border=\"1\" class=\"dataframe\">\n",
              "  <thead>\n",
              "    <tr style=\"text-align: right;\">\n",
              "      <th></th>\n",
              "      <th>title</th>\n",
              "      <th>text</th>\n",
              "      <th>subject</th>\n",
              "      <th>date</th>\n",
              "    </tr>\n",
              "  </thead>\n",
              "  <tbody>\n",
              "    <tr>\n",
              "      <th>0</th>\n",
              "      <td>Donald Trump Sends Out Embarrassing New Year’...</td>\n",
              "      <td>Donald Trump just couldn t wish all Americans ...</td>\n",
              "      <td>News</td>\n",
              "      <td>December 31, 2017</td>\n",
              "    </tr>\n",
              "    <tr>\n",
              "      <th>1</th>\n",
              "      <td>Drunk Bragging Trump Staffer Started Russian ...</td>\n",
              "      <td>House Intelligence Committee Chairman Devin Nu...</td>\n",
              "      <td>News</td>\n",
              "      <td>December 31, 2017</td>\n",
              "    </tr>\n",
              "    <tr>\n",
              "      <th>2</th>\n",
              "      <td>Sheriff David Clarke Becomes An Internet Joke...</td>\n",
              "      <td>On Friday, it was revealed that former Milwauk...</td>\n",
              "      <td>News</td>\n",
              "      <td>December 30, 2017</td>\n",
              "    </tr>\n",
              "    <tr>\n",
              "      <th>3</th>\n",
              "      <td>Trump Is So Obsessed He Even Has Obama’s Name...</td>\n",
              "      <td>On Christmas day, Donald Trump announced that ...</td>\n",
              "      <td>News</td>\n",
              "      <td>December 29, 2017</td>\n",
              "    </tr>\n",
              "    <tr>\n",
              "      <th>4</th>\n",
              "      <td>Pope Francis Just Called Out Donald Trump Dur...</td>\n",
              "      <td>Pope Francis used his annual Christmas Day mes...</td>\n",
              "      <td>News</td>\n",
              "      <td>December 25, 2017</td>\n",
              "    </tr>\n",
              "    <tr>\n",
              "      <th>...</th>\n",
              "      <td>...</td>\n",
              "      <td>...</td>\n",
              "      <td>...</td>\n",
              "      <td>...</td>\n",
              "    </tr>\n",
              "    <tr>\n",
              "      <th>23476</th>\n",
              "      <td>McPain: John McCain Furious That Iran Treated ...</td>\n",
              "      <td>21st Century Wire says As 21WIRE reported earl...</td>\n",
              "      <td>Middle-east</td>\n",
              "      <td>January 16, 2016</td>\n",
              "    </tr>\n",
              "    <tr>\n",
              "      <th>23477</th>\n",
              "      <td>JUSTICE? Yahoo Settles E-mail Privacy Class-ac...</td>\n",
              "      <td>21st Century Wire says It s a familiar theme. ...</td>\n",
              "      <td>Middle-east</td>\n",
              "      <td>January 16, 2016</td>\n",
              "    </tr>\n",
              "    <tr>\n",
              "      <th>23478</th>\n",
              "      <td>Sunnistan: US and Allied ‘Safe Zone’ Plan to T...</td>\n",
              "      <td>Patrick Henningsen  21st Century WireRemember ...</td>\n",
              "      <td>Middle-east</td>\n",
              "      <td>January 15, 2016</td>\n",
              "    </tr>\n",
              "    <tr>\n",
              "      <th>23479</th>\n",
              "      <td>How to Blow $700 Million: Al Jazeera America F...</td>\n",
              "      <td>21st Century Wire says Al Jazeera America will...</td>\n",
              "      <td>Middle-east</td>\n",
              "      <td>January 14, 2016</td>\n",
              "    </tr>\n",
              "    <tr>\n",
              "      <th>23480</th>\n",
              "      <td>10 U.S. Navy Sailors Held by Iranian Military ...</td>\n",
              "      <td>21st Century Wire says As 21WIRE predicted in ...</td>\n",
              "      <td>Middle-east</td>\n",
              "      <td>January 12, 2016</td>\n",
              "    </tr>\n",
              "  </tbody>\n",
              "</table>\n",
              "<p>23481 rows × 4 columns</p>\n",
              "</div>\n",
              "      <button class=\"colab-df-convert\" onclick=\"convertToInteractive('df-e8c90d60-620c-497e-b9a8-687224071eb3')\"\n",
              "              title=\"Convert this dataframe to an interactive table.\"\n",
              "              style=\"display:none;\">\n",
              "        \n",
              "  <svg xmlns=\"http://www.w3.org/2000/svg\" height=\"24px\"viewBox=\"0 0 24 24\"\n",
              "       width=\"24px\">\n",
              "    <path d=\"M0 0h24v24H0V0z\" fill=\"none\"/>\n",
              "    <path d=\"M18.56 5.44l.94 2.06.94-2.06 2.06-.94-2.06-.94-.94-2.06-.94 2.06-2.06.94zm-11 1L8.5 8.5l.94-2.06 2.06-.94-2.06-.94L8.5 2.5l-.94 2.06-2.06.94zm10 10l.94 2.06.94-2.06 2.06-.94-2.06-.94-.94-2.06-.94 2.06-2.06.94z\"/><path d=\"M17.41 7.96l-1.37-1.37c-.4-.4-.92-.59-1.43-.59-.52 0-1.04.2-1.43.59L10.3 9.45l-7.72 7.72c-.78.78-.78 2.05 0 2.83L4 21.41c.39.39.9.59 1.41.59.51 0 1.02-.2 1.41-.59l7.78-7.78 2.81-2.81c.8-.78.8-2.07 0-2.86zM5.41 20L4 18.59l7.72-7.72 1.47 1.35L5.41 20z\"/>\n",
              "  </svg>\n",
              "      </button>\n",
              "      \n",
              "  <style>\n",
              "    .colab-df-container {\n",
              "      display:flex;\n",
              "      flex-wrap:wrap;\n",
              "      gap: 12px;\n",
              "    }\n",
              "\n",
              "    .colab-df-convert {\n",
              "      background-color: #E8F0FE;\n",
              "      border: none;\n",
              "      border-radius: 50%;\n",
              "      cursor: pointer;\n",
              "      display: none;\n",
              "      fill: #1967D2;\n",
              "      height: 32px;\n",
              "      padding: 0 0 0 0;\n",
              "      width: 32px;\n",
              "    }\n",
              "\n",
              "    .colab-df-convert:hover {\n",
              "      background-color: #E2EBFA;\n",
              "      box-shadow: 0px 1px 2px rgba(60, 64, 67, 0.3), 0px 1px 3px 1px rgba(60, 64, 67, 0.15);\n",
              "      fill: #174EA6;\n",
              "    }\n",
              "\n",
              "    [theme=dark] .colab-df-convert {\n",
              "      background-color: #3B4455;\n",
              "      fill: #D2E3FC;\n",
              "    }\n",
              "\n",
              "    [theme=dark] .colab-df-convert:hover {\n",
              "      background-color: #434B5C;\n",
              "      box-shadow: 0px 1px 3px 1px rgba(0, 0, 0, 0.15);\n",
              "      filter: drop-shadow(0px 1px 2px rgba(0, 0, 0, 0.3));\n",
              "      fill: #FFFFFF;\n",
              "    }\n",
              "  </style>\n",
              "\n",
              "      <script>\n",
              "        const buttonEl =\n",
              "          document.querySelector('#df-e8c90d60-620c-497e-b9a8-687224071eb3 button.colab-df-convert');\n",
              "        buttonEl.style.display =\n",
              "          google.colab.kernel.accessAllowed ? 'block' : 'none';\n",
              "\n",
              "        async function convertToInteractive(key) {\n",
              "          const element = document.querySelector('#df-e8c90d60-620c-497e-b9a8-687224071eb3');\n",
              "          const dataTable =\n",
              "            await google.colab.kernel.invokeFunction('convertToInteractive',\n",
              "                                                     [key], {});\n",
              "          if (!dataTable) return;\n",
              "\n",
              "          const docLinkHtml = 'Like what you see? Visit the ' +\n",
              "            '<a target=\"_blank\" href=https://colab.research.google.com/notebooks/data_table.ipynb>data table notebook</a>'\n",
              "            + ' to learn more about interactive tables.';\n",
              "          element.innerHTML = '';\n",
              "          dataTable['output_type'] = 'display_data';\n",
              "          await google.colab.output.renderOutput(dataTable, element);\n",
              "          const docLink = document.createElement('div');\n",
              "          docLink.innerHTML = docLinkHtml;\n",
              "          element.appendChild(docLink);\n",
              "        }\n",
              "      </script>\n",
              "    </div>\n",
              "  </div>\n",
              "  "
            ],
            "text/plain": [
              "                                                   title  ...               date\n",
              "0       Donald Trump Sends Out Embarrassing New Year’...  ...  December 31, 2017\n",
              "1       Drunk Bragging Trump Staffer Started Russian ...  ...  December 31, 2017\n",
              "2       Sheriff David Clarke Becomes An Internet Joke...  ...  December 30, 2017\n",
              "3       Trump Is So Obsessed He Even Has Obama’s Name...  ...  December 29, 2017\n",
              "4       Pope Francis Just Called Out Donald Trump Dur...  ...  December 25, 2017\n",
              "...                                                  ...  ...                ...\n",
              "23476  McPain: John McCain Furious That Iran Treated ...  ...   January 16, 2016\n",
              "23477  JUSTICE? Yahoo Settles E-mail Privacy Class-ac...  ...   January 16, 2016\n",
              "23478  Sunnistan: US and Allied ‘Safe Zone’ Plan to T...  ...   January 15, 2016\n",
              "23479  How to Blow $700 Million: Al Jazeera America F...  ...   January 14, 2016\n",
              "23480  10 U.S. Navy Sailors Held by Iranian Military ...  ...   January 12, 2016\n",
              "\n",
              "[23481 rows x 4 columns]"
            ]
          },
          "metadata": {},
          "execution_count": 13
        }
      ],
      "source": [
        "fake"
      ]
    },
    {
      "cell_type": "code",
      "execution_count": 14,
      "metadata": {
        "id": "NWo1LjUlsZRZ"
      },
      "outputs": [],
      "source": [
        "def preprocess(text):\n",
        "  return text.lower().split()"
      ]
    },
    {
      "cell_type": "code",
      "execution_count": 16,
      "metadata": {
        "id": "WmxAWqYG5iau"
      },
      "outputs": [],
      "source": [
        "from sklearn import preprocessing\n",
        "le = preprocessing.LabelEncoder()\n",
        "fake['subject'] = le.fit_transform(fake['subject'].values)"
      ]
    },
    {
      "cell_type": "code",
      "execution_count": 17,
      "metadata": {
        "colab": {
          "base_uri": "https://localhost:8080/"
        },
        "id": "fAQH2SZ6HkHn",
        "outputId": "2517f8a8-dd02-4c0e-8ad1-98bf0ec1c912"
      },
      "outputs": [
        {
          "output_type": "execute_result",
          "data": {
            "text/plain": [
              "6"
            ]
          },
          "metadata": {},
          "execution_count": 17
        }
      ],
      "source": [
        "n_classes = len(set(list(fake['subject'])))\n",
        "n_classes"
      ]
    },
    {
      "cell_type": "code",
      "source": [
        "def get_num_words(text):\n",
        "  return len(text.split())"
      ],
      "metadata": {
        "id": "A3ZwGUNzwkMm"
      },
      "execution_count": 494,
      "outputs": []
    },
    {
      "cell_type": "code",
      "source": [
        "fake_1['num_words'] = fake_1['text'].apply(get_num_words)\n",
        "mean = fake_1['num_words'].mean()\n",
        "mean_2 = mean/2"
      ],
      "metadata": {
        "id": "_k0pmrTGwBL1"
      },
      "execution_count": 526,
      "outputs": []
    },
    {
      "cell_type": "code",
      "source": [
        "first = fake_1[fake_1.num_words > mean_2].count()[1]\n",
        "second = fake_1[(fake_1.num_words > mean_2) & (fake_1.num_words < mean)].count()[1] \n",
        "third = fake_1[(fake_1.num_words > mean) & (fake_1.num_words < (mean + mean_2))].count()[1] \n",
        "fourth = fake_1[fake_1.num_words > (mean + mean_2)].count()[1] "
      ],
      "metadata": {
        "id": "jKXDJ_3-w3kT"
      },
      "execution_count": 513,
      "outputs": []
    },
    {
      "cell_type": "code",
      "source": [
        "import matplotlib.pyplot as plt; plt.rcdefaults()\n",
        "import numpy as np\n",
        "import matplotlib.pyplot as plt\n",
        "\n",
        "objects = ('less than 211', 'more than 211 less than 423', 'more than 423 less than 634', 'more than 634')\n",
        "performance = [first,second,third,fourth]\n",
        "\n",
        "plt.bar(objects, performance, align='center', alpha=0.5)\n",
        "plt.xticks(objects, objects, rotation=45)\n",
        "plt.ylabel('number of texts')\n",
        "plt.ylabel('number of words in a text')\n",
        "plt.title('number of texts by length in words')\n",
        "\n",
        "plt.show()"
      ],
      "metadata": {
        "colab": {
          "base_uri": "https://localhost:8080/",
          "height": 589
        },
        "id": "G3aew9yI31FA",
        "outputId": "f975139f-5ce4-4d13-d977-434cff955010"
      },
      "execution_count": 519,
      "outputs": [
        {
          "output_type": "display_data",
          "data": {
            "image/png": "[encoded data removed]",
            "text/plain": [
              "<Figure size 640x480 with 1 Axes>"
            ]
          },
          "metadata": {}
        }
      ]
    },
    {
      "cell_type": "markdown",
      "source": [
        "Бегло проанализировав данные узнаем, что у нас 6 классов; средняя длина текста -- 423 слова, есть совсем длинные тексты, но их мало, от их отрезков целесообразно будет избавиться, чтоб не перегружать колаб. Я обрежу все тексты до 634 символов (это значение [средняя длина + средняя длина/2]). Больше анализировать данные не буду, тк авторы предельно четко расписали то, как проходил препроцессинг -- и здесь я буду следовать за ними, обрабатывая тексты минимально (только приведу к нижнему регистру и токенизирую)."
      ],
      "metadata": {
        "id": "jdwM-LAO5SFl"
      }
    },
    {
      "cell_type": "code",
      "execution_count": 520,
      "metadata": {
        "id": "U9NzC-Sx5-3R"
      },
      "outputs": [],
      "source": [
        "fake_1['text'] = [' '.join(x.split()[:634]) for x in list(fake_1['text'])]"
      ]
    },
    {
      "cell_type": "code",
      "execution_count": 19,
      "metadata": {
        "colab": {
          "base_uri": "https://localhost:8080/"
        },
        "id": "IfQXikR48vkq",
        "outputId": "b96f2a5a-765b-447f-ee9c-e3434dbf3e90"
      },
      "outputs": [
        {
          "output_type": "stream",
          "name": "stdout",
          "text": [
            "всего уникальных токенов: 233417\n"
          ]
        }
      ],
      "source": [
        "vocab = Counter()\n",
        "for text in fake['text']:\n",
        "    vocab.update(preprocess(text)[:634])\n",
        "print('всего уникальных токенов:', len(vocab))"
      ]
    },
    {
      "cell_type": "code",
      "execution_count": 20,
      "metadata": {
        "colab": {
          "base_uri": "https://localhost:8080/"
        },
        "id": "B_y9cAFZ_Fbo",
        "outputId": "296c783f-9a14-4285-eb2b-1f30ca590bba"
      },
      "outputs": [
        {
          "output_type": "stream",
          "name": "stdout",
          "text": [
            "уникальных токенов, вcтретившихся больше 2 раз: 74755\n"
          ]
        }
      ],
      "source": [
        "filtered_vocab = set()\n",
        "\n",
        "for word in vocab:\n",
        "    if vocab[word] > 2:\n",
        "        filtered_vocab.add(word)\n",
        "print('уникальных токенов, вcтретившихся больше 2 раз:', len(filtered_vocab))"
      ]
    },
    {
      "cell_type": "code",
      "execution_count": 21,
      "metadata": {
        "id": "oEpvyV6n_Fet"
      },
      "outputs": [],
      "source": [
        "word2id = {'PAD':0}\n",
        "\n",
        "for word in filtered_vocab:\n",
        "    word2id[word] = len(word2id)"
      ]
    },
    {
      "cell_type": "code",
      "execution_count": 22,
      "metadata": {
        "id": "j8aTZQ_v_Fgc"
      },
      "outputs": [],
      "source": [
        "id2word = {i:word for word, i in word2id.items()}"
      ]
    },
    {
      "cell_type": "code",
      "execution_count": 23,
      "metadata": {
        "colab": {
          "base_uri": "https://localhost:8080/"
        },
        "id": "mwNObUMl_FiR",
        "outputId": "b1a1d38d-17f9-49c1-b033-9585405e9367"
      },
      "outputs": [
        {
          "output_type": "execute_result",
          "data": {
            "text/plain": [
              "device(type='cuda')"
            ]
          },
          "metadata": {},
          "execution_count": 23
        }
      ],
      "source": [
        "DEVICE = torch.device('cuda') if torch.cuda.is_available() else torch.device('cpu')\n",
        "DEVICE"
      ]
    },
    {
      "cell_type": "code",
      "execution_count": 24,
      "metadata": {
        "id": "G0kOoGsp_5Yx"
      },
      "outputs": [],
      "source": [
        "import gensim\n",
        "texts = fake.text.apply(preprocess).tolist()\n",
        "w2v = gensim.models.Word2Vec(texts, size=100, window=5, min_count=5)"
      ]
    },
    {
      "cell_type": "code",
      "execution_count": 25,
      "metadata": {
        "id": "Qeqp95rP_5bB"
      },
      "outputs": [],
      "source": [
        "weights = np.zeros((len(word2id), 100))\n",
        "count = 0\n",
        "for word, i in word2id.items():\n",
        "    if word == 'PAD':\n",
        "        continue   \n",
        "    try:\n",
        "        weights[i] = w2v.wv[word]    \n",
        "    except KeyError:\n",
        "      count += 1\n",
        "      weights[i] = np.random.normal(0,0.1,100)"
      ]
    },
    {
      "cell_type": "code",
      "execution_count": 153,
      "metadata": {
        "id": "_I09hi0030vL"
      },
      "outputs": [],
      "source": [
        "class TweetsDataset(Dataset):\n",
        "\n",
        "    def __init__(self, dataset, word2id, DEVICE):\n",
        "        self.dataset = dataset['text'].values\n",
        "        self.word2id = word2id\n",
        "        self.length = dataset.shape[0]\n",
        "        self.target = dataset['subject'].values\n",
        "        self.device = DEVICE\n",
        "\n",
        "    def __len__(self):\n",
        "        return self.length\n",
        "\n",
        "    def __getitem__(self, index): \n",
        "        symbols = self.dataset[index].split()\n",
        "        ids = torch.LongTensor([self.word2id[symbol] for symbol in symbols if symbol in self.word2id])\n",
        "        y = [self.target[index]]\n",
        "        return ids, y\n",
        "\n",
        "    def collate_fn(self, batch): #этот метод можно реализовывать и отдельно,\n",
        "    # он понадобится для DataLoader во время итерации по батчам\n",
        "      ids, y = list(zip(*batch))\n",
        "      padded_ids = pad_sequence(ids, batch_first=True).to(self.device)\n",
        "      y = torch.Tensor(y).to(self.device)\n",
        "      #y = F.one_hot(y.to(torch.int64) % 6).squeeze() \n",
        "      return padded_ids, y"
      ]
    },
    {
      "cell_type": "code",
      "execution_count": 305,
      "metadata": {
        "id": "7T21UUamCmk_"
      },
      "outputs": [],
      "source": [
        "tweets_data = shuffle(fake[['text','subject']])[:100000]\n",
        "train_sentences, val_sentences = train_test_split(tweets_data, test_size=0.1)"
      ]
    },
    {
      "cell_type": "code",
      "execution_count": 313,
      "metadata": {
        "id": "KAd0kfgWCTFe"
      },
      "outputs": [],
      "source": [
        "train_dataset = TweetsDataset(train_sentences, word2id, DEVICE)\n",
        "train_sampler = RandomSampler(train_dataset)\n",
        "train_iterator = DataLoader(train_dataset, collate_fn = train_dataset.collate_fn, sampler=train_sampler, batch_size=64, drop_last=True)"
      ]
    },
    {
      "cell_type": "code",
      "execution_count": 314,
      "metadata": {
        "id": "pFe3tSNRCicY"
      },
      "outputs": [],
      "source": [
        "val_dataset = TweetsDataset(val_sentences, word2id, DEVICE)\n",
        "val_sampler = SequentialSampler(val_dataset)\n",
        "val_iterator = DataLoader(val_dataset, collate_fn = val_dataset.collate_fn, sampler=val_sampler, batch_size=64, drop_last=True)"
      ]
    },
    {
      "cell_type": "markdown",
      "source": [
        "Первая попытка построить совсем примитивную модель почти без возможности задавать гиперпараметры; сначала у меня оч долго вообще ничего не работало, поэтому оставлю эту модель как памятник своему долгому труду. Обучается она кстати нормально, лосс падает адекатно, качество тоже прикольно растет."
      ],
      "metadata": {
        "id": "dEN8Njad5-Hy"
      }
    },
    {
      "cell_type": "code",
      "source": [
        "class CLSTM_0(nn.Module):\n",
        "    \n",
        "    def __init__(self, vocab_size, n_filters, embedding_dim, out_conv, hidden_lstm, out_lstm, n_classes, k):\n",
        "        super().__init__()\n",
        "        self.hidden_lstm = hidden_lstm\n",
        "        self.embedding = nn.Embedding(vocab_size, embedding_dim)\n",
        "        self.embedding.from_pretrained(torch.tensor(weights), freeze=False)\n",
        "        self.conv = nn.Conv1d(in_channels=embedding_dim, out_channels=out_conv, kernel_size=k, padding='same')\n",
        "        self.relu = nn.ReLU()\n",
        "        self.lstm = nn.LSTM(out_conv, hidden_lstm, batch_first=True)\n",
        "        self.linear = nn.Linear(in_features=hidden_lstm, out_features=6)\n",
        "\n",
        "    def forward(self, word):\n",
        "        embedded = self.embedding(word)\n",
        "        embedded = embedded.transpose(1,2)\n",
        "        conv_out = self.relu(self.conv(embedded))\n",
        "        conv_out = conv_out.transpose(1,2)\n",
        "        output, (hidden, cell) = self.lstm(conv_out)\n",
        "        lin_layer = self.linear(hidden.squeeze(0))\n",
        "        return lin_layer"
      ],
      "metadata": {
        "id": "yfeSZNcwya0z"
      },
      "execution_count": 315,
      "outputs": []
    },
    {
      "cell_type": "code",
      "execution_count": 316,
      "metadata": {
        "id": "8sJ9q0VRGHlZ"
      },
      "outputs": [],
      "source": [
        "model_CLSTM = CLSTM_0(len(word2id), 3, 100, 64, 2, 64, n_classes, 1)\n",
        "optimizer = optim.RMSprop(model_CLSTM.parameters(), lr=0.001)\n",
        "criterion = nn.CrossEntropyLoss()\n",
        "model_CLSTM = model_CLSTM.to(DEVICE)\n",
        "criterion = criterion.to(DEVICE)"
      ]
    },
    {
      "cell_type": "code",
      "execution_count": 471,
      "metadata": {
        "id": "ZeEJHfhVH2yw"
      },
      "outputs": [],
      "source": [
        "def train(model, iterator, optimizer, criterion, print_v=True):\n",
        "    epoch_loss = 0\n",
        "\n",
        "    model.train()\n",
        "\n",
        "    for i, (texts, ys) in enumerate(iterator): \n",
        "        optimizer.zero_grad() \n",
        "        ys =  ys.squeeze() \n",
        "        preds = model(texts)\n",
        "        loss = criterion(preds, ys.long()) \n",
        "        loss.backward()\n",
        "        optimizer.step() \n",
        "        epoch_loss += loss.item() \n",
        "        if print_v == True:\n",
        "          if not (i + 1) % int(len(iterator)/5):\n",
        "              print(f'Train loss: {epoch_loss/(i+1)}')      \n",
        "    return model, epoch_loss / len(iterator)"
      ]
    },
    {
      "cell_type": "code",
      "execution_count": 472,
      "metadata": {
        "id": "yeccRyOlH4zQ"
      },
      "outputs": [],
      "source": [
        "import numpy as np \n",
        "def evaluate(model, iterator, criterion, print_v=True):\n",
        "    epoch_loss = 0\n",
        "    epoch_metric = 0\n",
        "    model.eval() \n",
        "    with torch.no_grad():\n",
        "        for i, (texts, ys) in enumerate(iterator):  \n",
        "            ys =  ys.squeeze()\n",
        "            preds = model(texts)\n",
        "            act_label = [np.argmax(x) for x in ys.cpu()] \n",
        "            pred_label = [np.argmax(x) for x in preds.cpu()]\n",
        "            loss = criterion(preds, ys.long())  \n",
        "            epoch_loss += loss.item()\n",
        "            batch_metric = accuracy(preds, ys.long())\n",
        "            epoch_metric += batch_metric\n",
        "            if print_v == True:\n",
        "              if not (i + 1) % int(len(iterator)/5):\n",
        "                print(f'Val loss: {epoch_loss/(i+1)}, Val accuracy: {epoch_metric/(i+1)}')\n",
        "        \n",
        "    return epoch_metric / len(iterator), epoch_loss / len(iterator)"
      ]
    },
    {
      "cell_type": "code",
      "execution_count": 300,
      "metadata": {
        "colab": {
          "base_uri": "https://localhost:8080/"
        },
        "id": "SzDwXYs4HFUE",
        "outputId": "dba478f9-e908-41e3-f8ec-a26285ca6043"
      },
      "outputs": [
        {
          "output_type": "stream",
          "name": "stdout",
          "text": [
            "\n",
            "starting Epoch 0\n",
            "Training...\n",
            "Train loss: 1.6964196797573206\n",
            "Train loss: 1.6434330877029535\n",
            "Train loss: 1.604884866512183\n",
            "Train loss: 1.576069914933407\n",
            "Train loss: 1.5555318525343231\n",
            "\n",
            "Evaluating on train...\n",
            "Val loss: 1.464610513412591, Val accuracy: 0.39441290497779846\n",
            "Val loss: 1.4647969910592744, Val accuracy: 0.38731062412261963\n",
            "Val loss: 1.4637996891532281, Val accuracy: 0.38825756311416626\n",
            "Val loss: 1.4631322911291411, Val accuracy: 0.38725143671035767\n",
            "Val loss: 1.4658294692183986, Val accuracy: 0.3858901262283325\n",
            "\n",
            "Evaluating on test...\n",
            "Val loss: 1.5180823632649012, Val accuracy: 0.3370535969734192\n",
            "Val loss: 1.4921813096318925, Val accuracy: 0.3582589328289032\n",
            "Val loss: 1.485594732420785, Val accuracy: 0.3683035671710968\n",
            "Val loss: 1.4847573254789626, Val accuracy: 0.3699776828289032\n",
            "Val loss: 1.4808319091796875, Val accuracy: 0.3812499940395355\n",
            "\n",
            "starting Epoch 1\n",
            "Training...\n",
            "Train loss: 1.4489168615052195\n",
            "Train loss: 1.4626223309473558\n",
            "Train loss: 1.4550781532971546\n",
            "Train loss: 1.4457578550685535\n",
            "Train loss: 1.4309511112444329\n",
            "\n",
            "Evaluating on train...\n",
            "Val loss: 1.343475919781309, Val accuracy: 0.568418562412262\n",
            "Val loss: 1.3476151101516955, Val accuracy: 0.5677083730697632\n",
            "Val loss: 1.3411439729459358, Val accuracy: 0.5735479593276978\n",
            "Val loss: 1.346083137573618, Val accuracy: 0.5723839998245239\n",
            "Val loss: 1.3455123410080418, Val accuracy: 0.5730113387107849\n",
            "\n",
            "Evaluating on test...\n",
            "Val loss: 1.4185430662972587, Val accuracy: 0.5401785969734192\n",
            "Val loss: 1.3867043937955583, Val accuracy: 0.5368303656578064\n",
            "Val loss: 1.3763957648050218, Val accuracy: 0.5476190447807312\n",
            "Val loss: 1.374607856784548, Val accuracy: 0.5424107313156128\n",
            "Val loss: 1.3682783842086792, Val accuracy: 0.5459821224212646\n",
            "\n",
            "starting Epoch 2\n",
            "Training...\n",
            "Train loss: 1.3333295493414907\n",
            "Train loss: 1.3044065381541396\n",
            "Train loss: 1.289826005998284\n",
            "Train loss: 1.276919102578452\n",
            "Train loss: 1.2644793925863325\n",
            "\n",
            "Evaluating on train...\n",
            "Val loss: 1.1910035248958704, Val accuracy: 0.6079545617103577\n",
            "Val loss: 1.1926927024667913, Val accuracy: 0.607362687587738\n",
            "Val loss: 1.1939965281823668, Val accuracy: 0.604955792427063\n",
            "Val loss: 1.1934322281317278, Val accuracy: 0.6049953103065491\n",
            "Val loss: 1.1935464707287875, Val accuracy: 0.604924201965332\n",
            "\n",
            "Evaluating on test...\n",
            "Val loss: 1.2945839847837175, Val accuracy: 0.551339328289032\n",
            "Val loss: 1.2557732377733504, Val accuracy: 0.5625\n",
            "Val loss: 1.240959156127203, Val accuracy: 0.570684552192688\n",
            "Val loss: 1.2415534683636256, Val accuracy: 0.5641741156578064\n",
            "Val loss: 1.2327173573630197, Val accuracy: 0.5647321343421936\n",
            "\n",
            "starting Epoch 3\n",
            "Training...\n",
            "Train loss: 1.2077347329168608\n",
            "Train loss: 1.1825632800658543\n",
            "Train loss: 1.1692767724244282\n",
            "Train loss: 1.1633481164321755\n",
            "Train loss: 1.1536810719605648\n",
            "\n",
            "Evaluating on train...\n",
            "Val loss: 1.0907130620696328, Val accuracy: 0.6276041865348816\n",
            "Val loss: 1.080105398640488, Val accuracy: 0.6300899982452393\n",
            "Val loss: 1.0875911857142593, Val accuracy: 0.6253945827484131\n",
            "Val loss: 1.0926864235238596, Val accuracy: 0.6242306232452393\n",
            "Val loss: 1.1013876893303611, Val accuracy: 0.6205018758773804\n",
            "\n",
            "Evaluating on test...\n",
            "Val loss: 1.2253557358469283, Val accuracy: 0.5691964626312256\n",
            "Val loss: 1.1851338616439275, Val accuracy: 0.5714285969734192\n",
            "Val loss: 1.1670303770474024, Val accuracy: 0.5773809552192688\n",
            "Val loss: 1.1681784455265318, Val accuracy: 0.5725446939468384\n",
            "Val loss: 1.159286321912493, Val accuracy: 0.5714285969734192\n",
            "\n",
            "starting Epoch 4\n",
            "Training...\n",
            "Train loss: 1.082452112978155\n",
            "Train loss: 1.0786429977778234\n",
            "Train loss: 1.0762469837761888\n",
            "Train loss: 1.0777739417372327\n",
            "Train loss: 1.0796508826992728\n",
            "\n",
            "Evaluating on train...\n",
            "Val loss: 1.0557677980625269, Val accuracy: 0.6240530610084534\n",
            "Val loss: 1.0355570537574363, Val accuracy: 0.6315104365348816\n",
            "Val loss: 1.0397828633737083, Val accuracy: 0.6295770406723022\n",
            "Val loss: 1.0362060155832407, Val accuracy: 0.6316288113594055\n",
            "Val loss: 1.038385062867945, Val accuracy: 0.6311079263687134\n",
            "\n",
            "Evaluating on test...\n",
            "Val loss: 1.1600566761834281, Val accuracy: 0.578125\n",
            "Val loss: 1.1357883853571755, Val accuracy: 0.5770089626312256\n",
            "Val loss: 1.1173212698527746, Val accuracy: 0.5848214626312256\n",
            "Val loss: 1.1190172391278403, Val accuracy: 0.578125\n",
            "Val loss: 1.1092643158776418, Val accuracy: 0.5785714387893677\n",
            "\n",
            "starting Epoch 5\n",
            "Training...\n",
            "Train loss: 1.0365358852978908\n",
            "Train loss: 1.0342297608202153\n",
            "Train loss: 1.0315818684269684\n",
            "Train loss: 1.0246300993092132\n",
            "Train loss: 1.0235679574085004\n",
            "\n",
            "Evaluating on train...\n",
            "Val loss: 0.9997453743761237, Val accuracy: 0.6363636255264282\n",
            "Val loss: 0.9902845332116792, Val accuracy: 0.6400331854820251\n",
            "Val loss: 0.9876081708705786, Val accuracy: 0.6408617496490479\n",
            "Val loss: 0.9872316038518241, Val accuracy: 0.6390861868858337\n",
            "Val loss: 0.9897951985850478, Val accuracy: 0.6382575631141663\n",
            "\n",
            "Evaluating on test...\n",
            "Val loss: 1.1371912615639823, Val accuracy: 0.5758928656578064\n",
            "Val loss: 1.1070844701358251, Val accuracy: 0.5725446939468384\n",
            "Val loss: 1.0872009112721397, Val accuracy: 0.5825892686843872\n",
            "Val loss: 1.092364611370223, Val accuracy: 0.5764509439468384\n",
            "Val loss: 1.0818222335406713, Val accuracy: 0.578125\n",
            "\n",
            "starting Epoch 6\n",
            "Training...\n",
            "Train loss: 0.9693555588071997\n",
            "Train loss: 0.9814715665398221\n",
            "Train loss: 0.9859293440375665\n",
            "Train loss: 0.9875324280424551\n",
            "Train loss: 0.981925389622197\n",
            "\n",
            "Evaluating on train...\n",
            "Val loss: 0.9466131465001539, Val accuracy: 0.6389678120613098\n",
            "Val loss: 0.9453804091070638, Val accuracy: 0.646543562412262\n",
            "Val loss: 0.948881930474079, Val accuracy: 0.6443339586257935\n",
            "Val loss: 0.9504683559591119, Val accuracy: 0.6455966234207153\n",
            "Val loss: 0.950436424667185, Val accuracy: 0.6456912755966187\n",
            "\n",
            "Evaluating on test...\n",
            "Val loss: 1.0925159113747733, Val accuracy: 0.59375\n",
            "Val loss: 1.082133595432554, Val accuracy: 0.5870535969734192\n",
            "Val loss: 1.0678071833792186, Val accuracy: 0.5922619104385376\n",
            "Val loss: 1.0678433094705855, Val accuracy: 0.5848214626312256\n",
            "Val loss: 1.058066839831216, Val accuracy: 0.5866071581840515\n",
            "\n",
            "starting Epoch 7\n",
            "Training...\n",
            "Train loss: 0.9484813962921952\n",
            "Train loss: 0.9365808534802813\n",
            "Train loss: 0.9418668042529713\n",
            "Train loss: 0.9449372923735416\n",
            "Train loss: 0.9450369955915393\n",
            "\n",
            "Evaluating on train...\n",
            "Val loss: 0.9243475975412311, Val accuracy: 0.6512784361839294\n",
            "Val loss: 0.9242241725777135, Val accuracy: 0.6513968110084534\n",
            "Val loss: 0.9143261472986202, Val accuracy: 0.6550663113594055\n",
            "Val loss: 0.9147244856664629, Val accuracy: 0.654296875\n",
            "Val loss: 0.9148045005220355, Val accuracy: 0.6545454263687134\n",
            "\n",
            "Evaluating on test...\n",
            "Val loss: 1.0670296805245536, Val accuracy: 0.5959821939468384\n",
            "Val loss: 1.069099451814379, Val accuracy: 0.5859375\n",
            "Val loss: 1.049004282270159, Val accuracy: 0.5944940447807312\n",
            "Val loss: 1.0533388874360494, Val accuracy: 0.5881696939468384\n",
            "Val loss: 1.0407859768186296, Val accuracy: 0.5910714268684387\n",
            "\n",
            "starting Epoch 8\n",
            "Training...\n",
            "Train loss: 0.8973946869373322\n",
            "Train loss: 0.9071119382525935\n",
            "Train loss: 0.9157891752141895\n",
            "Train loss: 0.9150263084606691\n",
            "Train loss: 0.9143006429527745\n",
            "\n",
            "Evaluating on train...\n",
            "Val loss: 0.8597990987878857, Val accuracy: 0.6692708730697632\n",
            "Val loss: 0.8782510098182794, Val accuracy: 0.6638257503509521\n",
            "Val loss: 0.8809970316260752, Val accuracy: 0.6613793969154358\n",
            "Val loss: 0.8801700881484783, Val accuracy: 0.66015625\n",
            "Val loss: 0.886707775701176, Val accuracy: 0.6578598022460938\n",
            "\n",
            "Evaluating on test...\n",
            "Val loss: 1.0427690233503069, Val accuracy: 0.6026785969734192\n",
            "Val loss: 1.0630152864115578, Val accuracy: 0.5837053656578064\n",
            "Val loss: 1.0481546577953158, Val accuracy: 0.5915178656578064\n",
            "Val loss: 1.049417421221733, Val accuracy: 0.5859375\n",
            "Val loss: 1.037083261353629, Val accuracy: 0.5888392925262451\n",
            "\n",
            "starting Epoch 9\n",
            "Training...\n",
            "Train loss: 0.8963929911454519\n",
            "Train loss: 0.887699982433608\n",
            "Train loss: 0.8845339914162954\n",
            "Train loss: 0.8852102155938293\n",
            "Train loss: 0.8877735430544073\n",
            "\n",
            "Evaluating on train...\n",
            "Val loss: 0.8639369462475632, Val accuracy: 0.6742424368858337\n",
            "Val loss: 0.8618940291079608, Val accuracy: 0.6684422492980957\n",
            "Val loss: 0.8591272108482592, Val accuracy: 0.6669822931289673\n",
            "Val loss: 0.8643300305261756, Val accuracy: 0.6634706854820251\n",
            "Val loss: 0.8646762430667877, Val accuracy: 0.6633522510528564\n",
            "\n",
            "Evaluating on test...\n",
            "Val loss: 1.034897404057639, Val accuracy: 0.5959821939468384\n",
            "Val loss: 1.0603679588862829, Val accuracy: 0.5881696939468384\n",
            "Val loss: 1.0442020779564267, Val accuracy: 0.59375\n",
            "Val loss: 1.0489488137619836, Val accuracy: 0.5853794813156128\n",
            "Val loss: 1.0350082652909416, Val accuracy: 0.5892857313156128\n"
          ]
        }
      ],
      "source": [
        "losses = []\n",
        "losses_eval = []\n",
        "f1s = []\n",
        "f1s_eval = []\n",
        "\n",
        "for i in range(10):\n",
        "    print(f'\\nstarting Epoch {i}')\n",
        "    print('Training...')\n",
        "    epoch_loss = train(model_CLSTM, train_iterator, optimizer, criterion)\n",
        "    losses.append(epoch_loss)\n",
        "    print('\\nEvaluating on train...')\n",
        "    f1_on_train,_ = evaluate(model_CLSTM, train_iterator, criterion)\n",
        "    f1s.append(f1_on_train)\n",
        "    print('\\nEvaluating on test...')\n",
        "    f1_on_test, epoch_loss_on_test = evaluate(model_CLSTM, val_iterator, criterion)\n",
        "    losses_eval.append(epoch_loss_on_test)\n",
        "    f1s_eval.append(f1_on_test)"
      ]
    },
    {
      "cell_type": "code",
      "source": [
        "import matplotlib.pyplot as plt\n",
        "plt.plot([x[1] for x in losses])\n",
        "plt.plot(losses_eval)\n",
        "plt.title('BCE loss value')\n",
        "plt.ylabel('BCE loss')\n",
        "plt.xlabel('epoch')\n",
        "plt.legend(['train', 'val'], loc='upper right')\n",
        "plt.show()"
      ],
      "metadata": {
        "colab": {
          "base_uri": "https://localhost:8080/",
          "height": 294
        },
        "id": "8waop-q_CCsG",
        "outputId": "4ed42db8-160c-48be-fb29-16de5ded06fd"
      },
      "execution_count": 322,
      "outputs": [
        {
          "output_type": "display_data",
          "data": {
            "image/png": "[encoded data removed]",
            "text/plain": [
              "<Figure size 432x288 with 1 Axes>"
            ]
          },
          "metadata": {
            "needs_background": "light"
          }
        }
      ]
    },
    {
      "cell_type": "code",
      "source": [
        "plt.plot(f1s)\n",
        "plt.plot(f1s_eval)\n",
        "plt.title('f1 value')\n",
        "plt.ylabel('f1 value')\n",
        "plt.xlabel('epoch')\n",
        "plt.legend(['train', 'val'], loc='upper right')\n",
        "plt.show()"
      ],
      "metadata": {
        "colab": {
          "base_uri": "https://localhost:8080/",
          "height": 294
        },
        "id": "8N6x_xZjDsv2",
        "outputId": "112ea690-73b4-497c-f6cd-f7eaa25b89c1"
      },
      "execution_count": 323,
      "outputs": [
        {
          "output_type": "display_data",
          "data": {
            "image/png": "[encoded data removed]",
            "text/plain": [
              "<Figure size 432x288 with 1 Axes>"
            ]
          },
          "metadata": {
            "needs_background": "light"
          }
        }
      ]
    },
    {
      "cell_type": "markdown",
      "source": [
        "А вот и нормальная модель, где уже можно нормально задавать гиперпараметры. Сначала просто запущу ее с базовыми параметрами, прописанными в статье (они же указаны как дефолтные), потом проведу несколько экспериментов."
      ],
      "metadata": {
        "id": "-c92-xYd6OcH"
      }
    },
    {
      "cell_type": "code",
      "source": [
        "class CLSTM(nn.Module):\n",
        "    def __init__(self, vocab_size, weights, embedding_dim=100, max_len=500, n_classes=6, filter_sizes=[2, 3, 4], num_filters=150, lstm_layers=1, lstm_hidden=150, \n",
        "                 perform_dropout_1=False, perform_dropout_2=False, dropout_rate_1=0.5, dropout_rate_2=0.5):\n",
        "\n",
        "        super().__init__()\n",
        "\n",
        "        self.perform_dropout_1 = perform_dropout_1\n",
        "        self.perform_dropout_2 = perform_dropout_2\n",
        "        self.vocab_size = vocab_size\n",
        "        self.embedding_dim = embedding_dim\n",
        "        self.max_len = max_len\n",
        "        self.filter_sizes = filter_sizes\n",
        "        self.max_features = max_len - max(filter_sizes) + 1\n",
        "        self.num_filters = num_filters\n",
        "        self.embeddings = nn.Embedding.from_pretrained(torch.tensor(weights), freeze=False)\n",
        "        windows = []\n",
        "        self.dropout_1 = nn.Dropout(p=dropout_rate_1)\n",
        "        for f in self.filter_sizes:\n",
        "            conv = nn.Conv1d(in_channels=self.embedding_dim,\n",
        "                             out_channels=self.num_filters,\n",
        "                             kernel_size=f,\n",
        "                             padding='valid')\n",
        "            windows.append(conv)\n",
        "        self.windows = nn.ModuleList(windows)\n",
        "        self.relu = nn.ReLU()\n",
        "        self.dropout_2 = nn.Dropout(p=dropout_rate_2)\n",
        "        self.lstm = nn.LSTM(input_size=len(filter_sizes)* num_filters,\n",
        "                            hidden_size=lstm_hidden, \n",
        "                            num_layers=lstm_layers,\n",
        "                            batch_first=True) \n",
        "        self.linear = nn.Linear(lstm_hidden, n_classes)\n",
        "\n",
        "    def forward(self, x):\n",
        "        embeds = self.embeddings(x)\n",
        "        embeds = embeds.transpose(1, 2)\n",
        "        if self.perform_dropout_1:\n",
        "            embeds = self.dropout_1(embeds)\n",
        "        feature_maps = []\n",
        "        for conv in self.windows:\n",
        "            feature_map = self.relu(conv(embeds))[:, :, :self.max_features]\n",
        "            feature_maps.append(feature_map)\n",
        "        feature_maps = torch.cat(feature_maps, 1).transpose(1,2)\n",
        "        output, (hidden, cell) = self.lstm(feature_maps)\n",
        "        if self.perform_dropout_2:\n",
        "            embedded = self.dropout_2(hidden)\n",
        "        lin_layer = self.linear(hidden.squeeze(0))\n",
        "        \n",
        "        return lin_layer"
      ],
      "metadata": {
        "id": "_9WOtat6JBnF"
      },
      "execution_count": 481,
      "outputs": []
    },
    {
      "cell_type": "code",
      "source": [
        "model_w2v = CLSTM(len(word2id), weights=torch.FloatTensor(weights))\n",
        "optimizer = optim.RMSprop(model_w2v.parameters(), lr=0.001)\n",
        "criterion = nn.CrossEntropyLoss()\n",
        "model_w2v = model_w2v.to(DEVICE)\n",
        "criterion = criterion.to(DEVICE)"
      ],
      "metadata": {
        "colab": {
          "base_uri": "https://localhost:8080/"
        },
        "id": "ddza6F64ML78",
        "outputId": "096b815f-3a20-4d7c-b790-78deb1906972"
      },
      "execution_count": 477,
      "outputs": [
        {
          "output_type": "stream",
          "name": "stderr",
          "text": [
            "/usr/local/lib/python3.7/dist-packages/ipykernel_launcher.py:16: UserWarning: To copy construct from a tensor, it is recommended to use sourceTensor.clone().detach() or sourceTensor.clone().detach().requires_grad_(True), rather than torch.tensor(sourceTensor).\n",
            "  app.launch_new_instance()\n"
          ]
        }
      ]
    },
    {
      "cell_type": "code",
      "source": [
        "losses = []\n",
        "losses_eval = []\n",
        "f1s = []\n",
        "f1s_eval = []\n",
        "\n",
        "for i in range(10):\n",
        "    print(f'\\nstarting Epoch {i}')\n",
        "    print('Training...')\n",
        "    epoch_loss = train(model_w2v, train_iterator, optimizer, criterion)\n",
        "    losses.append(epoch_loss)\n",
        "    print('\\nEvaluating on train...')\n",
        "    f1_on_train,_ = evaluate(model_w2v, train_iterator, criterion)\n",
        "    f1s.append(f1_on_train)\n",
        "    print('\\nEvaluating on test...')\n",
        "    f1_on_test, epoch_loss_on_test = evaluate(model_w2v, val_iterator, criterion)\n",
        "    losses_eval.append(epoch_loss_on_test)\n",
        "    f1s_eval.append(f1_on_test)"
      ],
      "metadata": {
        "colab": {
          "base_uri": "https://localhost:8080/"
        },
        "id": "tmlk5Aq7Tei0",
        "outputId": "c7f5c46d-9ea4-4463-e0a1-b61caefef245"
      },
      "execution_count": 478,
      "outputs": [
        {
          "output_type": "stream",
          "name": "stdout",
          "text": [
            "\n",
            "starting Epoch 0\n",
            "Training...\n",
            "Train loss: 1.45773655537403\n",
            "Train loss: 1.4046967526276906\n",
            "Train loss: 1.3770359050143848\n",
            "Train loss: 1.3682380318641663\n",
            "Train loss: 1.34398309154944\n",
            "\n",
            "Evaluating on train...\n",
            "Val loss: 1.1222299897309505, Val accuracy: 0.5733901858329773\n",
            "Val loss: 1.1180904543761052, Val accuracy: 0.5785984992980957\n",
            "Val loss: 1.117017117112574, Val accuracy: 0.5774936676025391\n",
            "Val loss: 1.1147731696114396, Val accuracy: 0.57421875\n",
            "Val loss: 1.1165830357508226, Val accuracy: 0.572679877281189\n",
            "\n",
            "Evaluating on test...\n",
            "Val loss: 1.0773023962974548, Val accuracy: 0.6026785969734192\n",
            "Val loss: 1.0818208030291967, Val accuracy: 0.5970982313156128\n",
            "Val loss: 1.1103360170409793, Val accuracy: 0.5930059552192688\n",
            "Val loss: 1.098157212138176, Val accuracy: 0.59765625\n",
            "Val loss: 1.104300102165767, Val accuracy: 0.595089316368103\n",
            "\n",
            "starting Epoch 1\n",
            "Training...\n",
            "Train loss: 1.1142954736044912\n",
            "Train loss: 1.0826718739487908\n",
            "Train loss: 1.0546672166597963\n",
            "Train loss: 1.0466822001970175\n",
            "Train loss: 1.0414873614455715\n",
            "\n",
            "Evaluating on train...\n",
            "Val loss: 0.9793047155394698, Val accuracy: 0.6164773106575012\n",
            "Val loss: 0.9911979789083655, Val accuracy: 0.61328125\n",
            "Val loss: 0.9837874670823415, Val accuracy: 0.6137152910232544\n",
            "Val loss: 0.9824182476961252, Val accuracy: 0.613340437412262\n",
            "Val loss: 0.9823207199573517, Val accuracy: 0.613068163394928\n",
            "\n",
            "Evaluating on test...\n",
            "Val loss: 0.9602088757923671, Val accuracy: 0.6428571939468384\n",
            "Val loss: 0.9614560348646981, Val accuracy: 0.6395089626312256\n",
            "Val loss: 0.9881040624209813, Val accuracy: 0.6294642686843872\n",
            "Val loss: 0.9681685822350639, Val accuracy: 0.6361607313156128\n",
            "Val loss: 0.9671471902302333, Val accuracy: 0.6357142925262451\n",
            "\n",
            "starting Epoch 2\n",
            "Training...\n",
            "Train loss: 0.9729694362842676\n",
            "Train loss: 0.96382147434986\n",
            "Train loss: 0.9673971618064726\n",
            "Train loss: 0.9706119287646178\n",
            "Train loss: 0.9743315694910107\n",
            "\n",
            "Evaluating on train...\n",
            "Val loss: 0.9876708505731641, Val accuracy: 0.6283144354820251\n",
            "Val loss: 0.9708180070826502, Val accuracy: 0.6283144354820251\n",
            "Val loss: 0.9668995912628945, Val accuracy: 0.6271306872367859\n",
            "Val loss: 0.9662515256892551, Val accuracy: 0.6264204978942871\n",
            "Val loss: 0.9629752280134143, Val accuracy: 0.6258522272109985\n",
            "\n",
            "Evaluating on test...\n",
            "Val loss: 0.9418066910334996, Val accuracy: 0.660714328289032\n",
            "Val loss: 0.9397897592612675, Val accuracy: 0.6573660969734192\n",
            "Val loss: 0.9569054785228911, Val accuracy: 0.6495535969734192\n",
            "Val loss: 0.9417655702148165, Val accuracy: 0.6534598469734192\n",
            "Val loss: 0.9472697309085301, Val accuracy: 0.6482142806053162\n",
            "\n",
            "starting Epoch 3\n",
            "Training...\n",
            "Train loss: 0.9544113766063343\n",
            "Train loss: 0.9486508337837277\n",
            "Train loss: 0.9422999117711578\n",
            "Train loss: 0.9362674947037841\n",
            "Train loss: 0.9296685594500917\n",
            "\n",
            "Evaluating on train...\n",
            "Val loss: 0.9023660005945148, Val accuracy: 0.6323390603065491\n",
            "Val loss: 0.8986000346414971, Val accuracy: 0.6345880627632141\n",
            "Val loss: 0.8910862851624537, Val accuracy: 0.6373106241226196\n",
            "Val loss: 0.8937721812363827, Val accuracy: 0.6377249360084534\n",
            "Val loss: 0.8904037432237105, Val accuracy: 0.6385890245437622\n",
            "\n",
            "Evaluating on test...\n",
            "Val loss: 0.8866815396717617, Val accuracy: 0.65625\n",
            "Val loss: 0.8770656032221658, Val accuracy: 0.6618303656578064\n",
            "Val loss: 0.891217637629736, Val accuracy: 0.6540178656578064\n",
            "Val loss: 0.8778818781886782, Val accuracy: 0.6573660969734192\n",
            "Val loss: 0.8851978983197893, Val accuracy: 0.6544643044471741\n",
            "\n",
            "starting Epoch 4\n",
            "Training...\n",
            "Train loss: 0.8851493064201239\n",
            "Train loss: 0.8867271872180881\n",
            "Train loss: 0.87994600426067\n",
            "Train loss: 0.8711978894743052\n",
            "Train loss: 0.8691840334372087\n",
            "\n",
            "Evaluating on train...\n",
            "Val loss: 0.7688778593684688, Val accuracy: 0.6716382503509521\n",
            "Val loss: 0.7690634867458632, Val accuracy: 0.6691524982452393\n",
            "Val loss: 0.7674800889058546, Val accuracy: 0.670375645160675\n",
            "Val loss: 0.7657965690349088, Val accuracy: 0.6705137491226196\n",
            "Val loss: 0.7651739939595714, Val accuracy: 0.6701704263687134\n",
            "\n",
            "Evaluating on test...\n",
            "Val loss: 0.7784201162202018, Val accuracy: 0.6964285969734192\n",
            "Val loss: 0.7625076387609754, Val accuracy: 0.691964328289032\n",
            "Val loss: 0.7858911752700806, Val accuracy: 0.680059552192688\n",
            "Val loss: 0.7722632842404502, Val accuracy: 0.6796875596046448\n",
            "Val loss: 0.7794532043593271, Val accuracy: 0.6772321462631226\n",
            "\n",
            "starting Epoch 5\n",
            "Training...\n",
            "Train loss: 0.7844990645394181\n",
            "Train loss: 0.7881792020617109\n",
            "Train loss: 0.7783726483884484\n",
            "Train loss: 0.7641822013891104\n",
            "Train loss: 0.777522497285496\n",
            "\n",
            "Evaluating on train...\n",
            "Val loss: 0.848845079089656, Val accuracy: 0.6517519354820251\n",
            "Val loss: 0.8491035374728116, Val accuracy: 0.6498579978942871\n",
            "Val loss: 0.8492187899772567, Val accuracy: 0.6517518758773804\n",
            "Val loss: 0.8519633091760405, Val accuracy: 0.6518111228942871\n",
            "Val loss: 0.8503127919905114, Val accuracy: 0.6524147391319275\n",
            "\n",
            "Evaluating on test...\n",
            "Val loss: 0.8959834831101554, Val accuracy: 0.6629464626312256\n",
            "Val loss: 0.88376242348126, Val accuracy: 0.6662946939468384\n",
            "Val loss: 0.8944896317663646, Val accuracy: 0.6607142686843872\n",
            "Val loss: 0.8842715408120837, Val accuracy: 0.6635044813156128\n",
            "Val loss: 0.8885401998247419, Val accuracy: 0.6602678894996643\n",
            "\n",
            "starting Epoch 6\n",
            "Training...\n",
            "Train loss: 0.8081938281203761\n",
            "Train loss: 0.7850519734801669\n",
            "Train loss: 0.773750012872195\n",
            "Train loss: 0.7568229741670869\n",
            "Train loss: 0.7456624195431218\n",
            "\n",
            "Evaluating on train...\n",
            "Val loss: 0.6589133409839688, Val accuracy: 0.6922348737716675\n",
            "Val loss: 0.653091517813278, Val accuracy: 0.6947206854820251\n",
            "Val loss: 0.6543004005545318, Val accuracy: 0.6950757503509521\n",
            "Val loss: 0.6548657345049309, Val accuracy: 0.6922348737716675\n",
            "Val loss: 0.6554549085371422, Val accuracy: 0.6913352012634277\n",
            "\n",
            "Evaluating on test...\n",
            "Val loss: 0.7525189774377006, Val accuracy: 0.6808035969734192\n",
            "Val loss: 0.715090526001794, Val accuracy: 0.691964328289032\n",
            "Val loss: 0.7305788965452285, Val accuracy: 0.6875\n",
            "Val loss: 0.7196000814437866, Val accuracy: 0.6941964626312256\n",
            "Val loss: 0.7233774219240461, Val accuracy: 0.6941964030265808\n",
            "\n",
            "starting Epoch 7\n",
            "Training...\n",
            "Train loss: 0.6498861276742184\n",
            "Train loss: 0.6563835433035186\n",
            "Train loss: 0.6557299877055968\n",
            "Train loss: 0.6563731316815723\n",
            "Train loss: 0.6535076122392308\n",
            "\n",
            "Evaluating on train...\n",
            "Val loss: 0.6244187942056945, Val accuracy: 0.6884469985961914\n",
            "Val loss: 0.6291194914868383, Val accuracy: 0.6899858117103577\n",
            "Val loss: 0.6258947033472736, Val accuracy: 0.6862373948097229\n",
            "Val loss: 0.6271474885218071, Val accuracy: 0.6862571239471436\n",
            "Val loss: 0.6240897758440538, Val accuracy: 0.6866950392723083\n",
            "\n",
            "Evaluating on test...\n",
            "Val loss: 0.7261395965303693, Val accuracy: 0.6830357313156128\n",
            "Val loss: 0.6991897310529437, Val accuracy: 0.6774553656578064\n",
            "Val loss: 0.7309783072698683, Val accuracy: 0.6636905074119568\n",
            "Val loss: 0.7236920062984739, Val accuracy: 0.660714328289032\n",
            "Val loss: 0.7327855808394296, Val accuracy: 0.6620535850524902\n",
            "\n",
            "starting Epoch 8\n",
            "Training...\n",
            "Train loss: 0.6222779127684507\n",
            "Train loss: 0.6236592680215836\n",
            "Train loss: 0.6212569616659723\n",
            "Train loss: 0.6232343857938593\n",
            "Train loss: 0.6230500507535357\n",
            "\n",
            "Evaluating on train...\n",
            "Val loss: 0.5945733455997525, Val accuracy: 0.6960227489471436\n",
            "Val loss: 0.5885979384183884, Val accuracy: 0.6976799368858337\n",
            "Val loss: 0.5869668841060965, Val accuracy: 0.6983901262283325\n",
            "Val loss: 0.5929657757056482, Val accuracy: 0.6950165629386902\n",
            "Val loss: 0.5895578396139722, Val accuracy: 0.6995264887809753\n",
            "\n",
            "Evaluating on test...\n",
            "Val loss: 0.7660513094493321, Val accuracy: 0.7031250596046448\n",
            "Val loss: 0.7144536418574197, Val accuracy: 0.707589328289032\n",
            "Val loss: 0.7455025258518401, Val accuracy: 0.6986607313156128\n",
            "Val loss: 0.7426461407116481, Val accuracy: 0.6986607313156128\n",
            "Val loss: 0.7604294010571071, Val accuracy: 0.6883928775787354\n",
            "\n",
            "starting Epoch 9\n",
            "Training...\n",
            "Train loss: 0.5965954747163889\n",
            "Train loss: 0.6131509616971016\n",
            "Train loss: 0.611893655826347\n",
            "Train loss: 0.6067448866864046\n",
            "Train loss: 0.6072384387254715\n",
            "\n",
            "Evaluating on train...\n",
            "Val loss: 0.5970215657443712, Val accuracy: 0.701231062412262\n",
            "Val loss: 0.5874631034605431, Val accuracy: 0.7043087482452393\n",
            "Val loss: 0.589771253743557, Val accuracy: 0.7020202279090881\n",
            "Val loss: 0.5934789228168401, Val accuracy: 0.699277937412262\n",
            "Val loss: 0.5952124497204115, Val accuracy: 0.6980113387107849\n",
            "\n",
            "Evaluating on test...\n",
            "Val loss: 0.7656965170587812, Val accuracy: 0.7008928656578064\n",
            "Val loss: 0.730988438640322, Val accuracy: 0.6930803656578064\n",
            "Val loss: 0.7615529809679303, Val accuracy: 0.6830357313156128\n",
            "Val loss: 0.7615805587598256, Val accuracy: 0.6796875596046448\n",
            "Val loss: 0.7781609450067792, Val accuracy: 0.675000011920929\n"
          ]
        }
      ]
    },
    {
      "cell_type": "code",
      "source": [
        "import matplotlib.pyplot as plt\n",
        "plt.plot([x[1] for x in losses])\n",
        "plt.plot(losses_eval)\n",
        "plt.title('BCE loss value')\n",
        "plt.ylabel('BCE loss')\n",
        "plt.xlabel('epoch')\n",
        "plt.legend(['train', 'val'], loc='upper right')\n",
        "plt.show()"
      ],
      "metadata": {
        "colab": {
          "base_uri": "https://localhost:8080/",
          "height": 294
        },
        "id": "TJg3r9tQV85M",
        "outputId": "a4044776-5fdf-4284-e420-b4e7500094b6"
      },
      "execution_count": 479,
      "outputs": [
        {
          "output_type": "display_data",
          "data": {
            "image/png": "[encoded data removed]",
            "text/plain": [
              "<Figure size 432x288 with 1 Axes>"
            ]
          },
          "metadata": {
            "needs_background": "light"
          }
        }
      ]
    },
    {
      "cell_type": "code",
      "source": [
        "plt.plot(f1s)\n",
        "plt.plot(f1s_eval)\n",
        "plt.title('f1 value')\n",
        "plt.ylabel('f1 value')\n",
        "plt.xlabel('epoch')\n",
        "plt.legend(['train', 'val'], loc='upper right')\n",
        "plt.show()"
      ],
      "metadata": {
        "colab": {
          "base_uri": "https://localhost:8080/",
          "height": 294
        },
        "id": "1gIK8bGpWC3s",
        "outputId": "8e5de105-08da-4f4e-814a-43022b40cfd0"
      },
      "execution_count": 480,
      "outputs": [
        {
          "output_type": "display_data",
          "data": {
            "image/png": "[encoded data removed]",
            "text/plain": [
              "<Figure size 432x288 with 1 Axes>"
            ]
          },
          "metadata": {
            "needs_background": "light"
          }
        }
      ]
    },
    {
      "cell_type": "markdown",
      "source": [
        "**Посмотрим, какой из дропаутов лучше применять (перед CNN или перед LSTM) и какую долю лучше выбрасывать (т.е. какой задавать параметр dropout_rate). Смотреть будем на графики.**"
      ],
      "metadata": {
        "id": "E27Y1djM6bWx"
      }
    },
    {
      "cell_type": "code",
      "source": [
        "for dropout in tqdm([0.1, 0.5]):\n",
        "  for first_drop in [True, False]:\n",
        "    for second_drop in [True, False]:\n",
        "            model = CLSTM(vocab_size=len(word2id),\n",
        "                          weights=torch.FloatTensor(weights),\n",
        "                          perform_dropout_1 = first_drop,\n",
        "                          perform_dropout_2 = second_drop,\n",
        "                          dropout_rate_1 = dropout,\n",
        "                          dropout_rate_2 = dropout\n",
        "                          )\n",
        "            optimizer = optim.RMSprop(model.parameters(), lr=0.001)\n",
        "            criterion = nn.CrossEntropyLoss()\n",
        "            model = model.to(DEVICE)\n",
        "            criterion = criterion.to(DEVICE)\n",
        "            n_epochs = 5 \n",
        "            i = 0\n",
        "            losses = []\n",
        "            f1s = []\n",
        "            losses_eval = []\n",
        "            f1s_eval = []\n",
        "            for i in range(n_epochs):\n",
        "              print(f'\\nstarting Epoch {i}')\n",
        "              #print('Training...')\n",
        "              epoch_loss = train(model, train_iterator, optimizer, criterion, print_v=False)\n",
        "              losses.append(epoch_loss)\n",
        "              #print('\\nEvaluating on train...')\n",
        "              f1_on_train,_ = evaluate(model, train_iterator, criterion, print_v=False)\n",
        "              f1s.append(f1_on_train)\n",
        "              #print('\\nEvaluating on test...')\n",
        "              f1_on_test, epoch_loss_on_test = evaluate(model, val_iterator, criterion, print_v=False)\n",
        "              losses_eval.append(epoch_loss_on_test)\n",
        "              f1s_eval.append(f1_on_test)\n",
        "            print(f'\\n\\n\\nfirst drop {str(first_drop)}, second drop {str(second_drop)}')\n",
        "            print(f'dropout_rate={dropout}\\n')\n",
        "            plt.plot([x[1] for x in losses])\n",
        "            plt.plot(losses_eval)\n",
        "            plt.title('loss value')\n",
        "            plt.ylabel('loss')\n",
        "            plt.xlabel('epoch')\n",
        "            plt.legend(['train', 'val'], loc='upper right')\n",
        "            plt.show()\n",
        "            plt.plot(f1s)\n",
        "            plt.plot(f1s_eval)\n",
        "            plt.title('accuracy')\n",
        "            plt.ylabel('accuracy')\n",
        "            plt.xlabel('epoch')\n",
        "            plt.legend(['train', 'val'], loc='upper right')\n",
        "            plt.show()\n",
        "            print('\\n\\n\\n')"
      ],
      "metadata": {
        "id": "b6F1lDtSb9ts"
      },
      "execution_count": null,
      "outputs": []
    },
    {
      "cell_type": "markdown",
      "source": [
        "Я трагически стерла вывод, а переобучать еще полчаса это все у меня нет сил. Слава богу сохранился результат в соседнем файле, поэтому скриншоты можно посмотреть здесь: https://github.com/NikaSmilga/NN_methods/tree/main/hw3_pics"
      ],
      "metadata": {
        "id": "6dABzHcZB2jL"
      }
    },
    {
      "cell_type": "markdown",
      "source": [
        "Любопытно, что результаты модели без дропаута вообще оказались ощутимо лучше, чем результаты модели с маленьким дропаутом (0.1), и соизмеримы по качеству с результатами модели с большим дропаутом (0.5). Кроме того, кажется, что применение одного большого дропаута работает примерно так же хорошо, как и применение двух; однако если выбирать, в какой именно момент лучше применять этот один дропаут, окажется, что лучше работает второй дропаут, т.е. после сверток (CNN слоя) и перед LSTM. Дропаут после эмбеддингов и перед свертками, т.е. первый показывает accuracy на 0.01 меньше, чем второй и чем оба дропаута."
      ],
      "metadata": {
        "id": "g7Sj1qci0UGg"
      }
    },
    {
      "cell_type": "markdown",
      "source": [
        "**Смотрим размер окна фильтров**"
      ],
      "metadata": {
        "id": "p7VkThoOAu5h"
      }
    },
    {
      "cell_type": "code",
      "source": [
        "for filter_len in tqdm([2, 3, 4]):\n",
        "    model = CLSTM(vocab_size=len(word2id),\n",
        "                  weights=torch.FloatTensor(weights),\n",
        "                  filter_sizes=[filter_len]\n",
        "                  )\n",
        "    optimizer = optim.RMSprop(model.parameters(), lr=0.001)\n",
        "    criterion = nn.CrossEntropyLoss()\n",
        "    model = model.to(DEVICE)\n",
        "    criterion = criterion.to(DEVICE)\n",
        "    n_epochs = 5 \n",
        "    i = 0\n",
        "    losses = []\n",
        "    f1s = []\n",
        "    losses_eval = []\n",
        "    f1s_eval = []\n",
        "    for i in range(n_epochs):\n",
        "      print(f'\\nstarting Epoch {i}')\n",
        "      #print('Training...')\n",
        "      epoch_loss = train(model, train_iterator, optimizer, criterion, print_v=False)\n",
        "      losses.append(epoch_loss)\n",
        "      #print('\\nEvaluating on train...')\n",
        "      f1_on_train,_ = evaluate(model, train_iterator, criterion, print_v=False)\n",
        "      f1s.append(f1_on_train)\n",
        "      #print('\\nEvaluating on test...')\n",
        "      f1_on_test, epoch_loss_on_test = evaluate(model, val_iterator, criterion, print_v=False)\n",
        "      losses_eval.append(epoch_loss_on_test)\n",
        "      f1s_eval.append(f1_on_test)\n",
        "    print(f'filter length={filter_len}\\n')\n",
        "    plt.plot([x[1] for x in losses])\n",
        "    plt.plot(losses_eval)\n",
        "    plt.title('loss value')\n",
        "    plt.ylabel('loss')\n",
        "    plt.xlabel('epoch')\n",
        "    plt.legend(['train', 'val'], loc='upper right')\n",
        "    plt.show()\n",
        "    plt.plot(f1s)\n",
        "    plt.plot(f1s_eval)\n",
        "    plt.title('accuracy')\n",
        "    plt.ylabel('accuracy')\n",
        "    plt.xlabel('epoch')\n",
        "    plt.legend(['train', 'val'], loc='upper right')\n",
        "    plt.show()\n",
        "    print('\\n\\n\\n')"
      ],
      "metadata": {
        "colab": {
          "base_uri": "https://localhost:8080/",
          "height": 1000,
          "referenced_widgets": [
            "3f61fb1c75834ae698e637363773a30b",
            "f594df5ac2bb403b82cf3ef9e44a40fc",
            "f13f2d333581447a8994eddeaf522c37",
            "92754e83264a468f96410ad1a8c3c143",
            "e8074772923740c886975acbb31ded2e",
            "e9c0599a65054a19beff5cb6acf29086",
            "6799c53c73b84ed3b469c80a43549284",
            "ac76a867eb65489b8837cdef8675fe74",
            "885d3916dce44741b402f78cbe9a5a5b",
            "c8fb9518f9fa4a1fa7887c48f16993a5",
            "921a6c5c421347de8888a524f8510380"
          ]
        },
        "id": "9xB5sHK4PvRW",
        "outputId": "94922c97-e93d-4c79-956d-624ad3b0de31"
      },
      "execution_count": 488,
      "outputs": [
        {
          "output_type": "display_data",
          "data": {
            "application/vnd.jupyter.widget-view+json": {
              "model_id": "3f61fb1c75834ae698e637363773a30b",
              "version_minor": 0,
              "version_major": 2
            },
            "text/plain": [
              "  0%|          | 0/3 [00:00<?, ?it/s]"
            ]
          },
          "metadata": {}
        },
        {
          "output_type": "stream",
          "name": "stderr",
          "text": [
            "/usr/local/lib/python3.7/dist-packages/ipykernel_launcher.py:16: UserWarning: To copy construct from a tensor, it is recommended to use sourceTensor.clone().detach() or sourceTensor.clone().detach().requires_grad_(True), rather than torch.tensor(sourceTensor).\n",
            "  app.launch_new_instance()\n"
          ]
        },
        {
          "output_type": "stream",
          "name": "stdout",
          "text": [
            "\n",
            "starting Epoch 0\n",
            "\n",
            "starting Epoch 1\n",
            "\n",
            "starting Epoch 2\n",
            "\n",
            "starting Epoch 3\n",
            "\n",
            "starting Epoch 4\n",
            "filter length=2\n",
            "\n"
          ]
        },
        {
          "output_type": "display_data",
          "data": {
            "image/png": "[encoded data removed]",
            "text/plain": [
              "<Figure size 432x288 with 1 Axes>"
            ]
          },
          "metadata": {
            "needs_background": "light"
          }
        },
        {
          "output_type": "display_data",
          "data": {
            "image/png": "[encoded data removed]",
            "text/plain": [
              "<Figure size 432x288 with 1 Axes>"
            ]
          },
          "metadata": {
            "needs_background": "light"
          }
        },
        {
          "output_type": "stream",
          "name": "stdout",
          "text": [
            "\n",
            "\n",
            "\n",
            "\n",
            "\n",
            "starting Epoch 0\n",
            "\n",
            "starting Epoch 1\n",
            "\n",
            "starting Epoch 2\n",
            "\n",
            "starting Epoch 3\n",
            "\n",
            "starting Epoch 4\n",
            "filter length=3\n",
            "\n"
          ]
        },
        {
          "output_type": "display_data",
          "data": {
            "image/png": "[encoded data removed]",
            "text/plain": [
              "<Figure size 432x288 with 1 Axes>"
            ]
          },
          "metadata": {
            "needs_background": "light"
          }
        },
        {
          "output_type": "display_data",
          "data": {
            "image/png": "[encoded data removed]",
            "text/plain": [
              "<Figure size 432x288 with 1 Axes>"
            ]
          },
          "metadata": {
            "needs_background": "light"
          }
        },
        {
          "output_type": "stream",
          "name": "stdout",
          "text": [
            "\n",
            "\n",
            "\n",
            "\n",
            "\n",
            "starting Epoch 0\n",
            "\n",
            "starting Epoch 1\n",
            "\n",
            "starting Epoch 2\n",
            "\n",
            "starting Epoch 3\n",
            "\n",
            "starting Epoch 4\n",
            "filter length=4\n",
            "\n"
          ]
        },
        {
          "output_type": "display_data",
          "data": {
            "image/png": "[encoded data removed]",
            "text/plain": [
              "<Figure size 432x288 with 1 Axes>"
            ]
          },
          "metadata": {
            "needs_background": "light"
          }
        },
        {
          "output_type": "display_data",
          "data": {
            "image/png": "[encoded data removed]",
            "text/plain": [
              "<Figure size 432x288 with 1 Axes>"
            ]
          },
          "metadata": {
            "needs_background": "light"
          }
        },
        {
          "output_type": "stream",
          "name": "stdout",
          "text": [
            "\n",
            "\n",
            "\n",
            "\n"
          ]
        }
      ]
    },
    {
      "cell_type": "markdown",
      "source": [
        "Здесь у нас, как и у авторов статьи, очевидно лучше работает размер окна 3. Размер окна 2 незначительно хуже, размер окна 4 явно слишком большой и сильно снижает accuracy модели."
      ],
      "metadata": {
        "id": "8BzdA8h27AaQ"
      }
    },
    {
      "cell_type": "code",
      "source": [
        "for n_filters in tqdm([50, 150, 300]):\n",
        "    model = CLSTM(vocab_size=len(word2id),\n",
        "                  weights=torch.FloatTensor(weights),\n",
        "                  num_filters=n_filters\n",
        "                  )\n",
        "    optimizer = optim.RMSprop(model.parameters(), lr=0.001)\n",
        "    criterion = nn.CrossEntropyLoss()\n",
        "    model = model.to(DEVICE)\n",
        "    criterion = criterion.to(DEVICE)\n",
        "    n_epochs = 5 \n",
        "    i = 0\n",
        "    losses = []\n",
        "    f1s = []\n",
        "    losses_eval = []\n",
        "    f1s_eval = []\n",
        "    for i in range(n_epochs):\n",
        "      print(f'\\nstarting Epoch {i}')\n",
        "      #print('Training...')\n",
        "      epoch_loss = train(model, train_iterator, optimizer, criterion, print_v=False)\n",
        "      losses.append(epoch_loss)\n",
        "      #print('\\nEvaluating on train...')\n",
        "      f1_on_train,_ = evaluate(model, train_iterator, criterion, print_v=False)\n",
        "      f1s.append(f1_on_train)\n",
        "      #print('\\nEvaluating on test...')\n",
        "      f1_on_test, epoch_loss_on_test = evaluate(model, val_iterator, criterion, print_v=False)\n",
        "      losses_eval.append(epoch_loss_on_test)\n",
        "      f1s_eval.append(f1_on_test)\n",
        "    print(f'n_filters={n_filters}\\n')\n",
        "    plt.plot([x[1] for x in losses])\n",
        "    plt.plot(losses_eval)\n",
        "    plt.title('loss value')\n",
        "    plt.ylabel('loss')\n",
        "    plt.xlabel('epoch')\n",
        "    plt.legend(['train', 'val'], loc='upper right')\n",
        "    plt.show()\n",
        "    plt.plot(f1s)\n",
        "    plt.plot(f1s_eval)\n",
        "    plt.title('accuracy')\n",
        "    plt.ylabel('accuracy')\n",
        "    plt.xlabel('epoch')\n",
        "    plt.legend(['train', 'val'], loc='upper right')\n",
        "    plt.show()\n",
        "    print('\\n\\n\\n')"
      ],
      "metadata": {
        "colab": {
          "base_uri": "https://localhost:8080/",
          "height": 1000,
          "referenced_widgets": [
            "43803bc13e9f47b991d506bf33232ca8",
            "46e30441877e4c85bcc9c8cc2e497502",
            "810c6d2dcf3e43d3bc2a425d92f673a9",
            "5ca4a56e04b04d278400462e0bb36197",
            "01b9bd63c4e9401d8558e1000ddbdcb0",
            "bca5361e33a4404782abef23d536dc73",
            "e68ec58d74094ac498ddb862550f9192",
            "257cb54686704b5db603f3430b7a83a6",
            "d3c8611975554c869add7f0069f8866a",
            "9f65d8dde3434f31a941fc1ff6f6d41b",
            "67e91f10d02049249ee84ac59dac50aa"
          ]
        },
        "id": "RhDrsCIvzx2R",
        "outputId": "96b2658f-91b8-4528-9e0a-22f52c194df1"
      },
      "execution_count": 530,
      "outputs": [
        {
          "output_type": "display_data",
          "data": {
            "application/vnd.jupyter.widget-view+json": {
              "model_id": "43803bc13e9f47b991d506bf33232ca8",
              "version_minor": 0,
              "version_major": 2
            },
            "text/plain": [
              "  0%|          | 0/3 [00:00<?, ?it/s]"
            ]
          },
          "metadata": {}
        },
        {
          "output_type": "stream",
          "name": "stderr",
          "text": [
            "/usr/local/lib/python3.7/dist-packages/ipykernel_launcher.py:16: UserWarning: To copy construct from a tensor, it is recommended to use sourceTensor.clone().detach() or sourceTensor.clone().detach().requires_grad_(True), rather than torch.tensor(sourceTensor).\n",
            "  app.launch_new_instance()\n"
          ]
        },
        {
          "output_type": "stream",
          "name": "stdout",
          "text": [
            "\n",
            "starting Epoch 0\n",
            "\n",
            "starting Epoch 1\n",
            "\n",
            "starting Epoch 2\n",
            "\n",
            "starting Epoch 3\n",
            "\n",
            "starting Epoch 4\n",
            "n_filters=50\n",
            "\n"
          ]
        },
        {
          "output_type": "display_data",
          "data": {
            "image/png": "[encoded data removed]",
            "text/plain": [
              "<Figure size 640x480 with 1 Axes>"
            ]
          },
          "metadata": {}
        },
        {
          "output_type": "display_data",
          "data": {
            "image/png": "[encoded data removed]",
            "text/plain": [
              "<Figure size 640x480 with 1 Axes>"
            ]
          },
          "metadata": {}
        },
        {
          "output_type": "stream",
          "name": "stdout",
          "text": [
            "\n",
            "\n",
            "\n",
            "\n",
            "\n",
            "starting Epoch 0\n",
            "\n",
            "starting Epoch 1\n",
            "\n",
            "starting Epoch 2\n",
            "\n",
            "starting Epoch 3\n",
            "\n",
            "starting Epoch 4\n",
            "n_filters=150\n",
            "\n"
          ]
        },
        {
          "output_type": "display_data",
          "data": {
            "image/png": "[encoded data removed]",
            "text/plain": [
              "<Figure size 640x480 with 1 Axes>"
            ]
          },
          "metadata": {}
        },
        {
          "output_type": "display_data",
          "data": {
            "image/png": "[encoded data removed]",
            "text/plain": [
              "<Figure size 640x480 with 1 Axes>"
            ]
          },
          "metadata": {}
        },
        {
          "output_type": "stream",
          "name": "stdout",
          "text": [
            "\n",
            "\n",
            "\n",
            "\n",
            "\n",
            "starting Epoch 0\n",
            "\n",
            "starting Epoch 1\n",
            "\n",
            "starting Epoch 2\n",
            "\n",
            "starting Epoch 3\n",
            "\n",
            "starting Epoch 4\n",
            "n_filters=300\n",
            "\n"
          ]
        },
        {
          "output_type": "display_data",
          "data": {
            "image/png": "[encoded data removed]",
            "text/plain": [
              "<Figure size 640x480 with 1 Axes>"
            ]
          },
          "metadata": {}
        },
        {
          "output_type": "display_data",
          "data": {
            "image/png": "[encoded data removed]",
            "text/plain": [
              "<Figure size 640x480 with 1 Axes>"
            ]
          },
          "metadata": {}
        },
        {
          "output_type": "stream",
          "name": "stdout",
          "text": [
            "\n",
            "\n",
            "\n",
            "\n"
          ]
        }
      ]
    },
    {
      "cell_type": "markdown",
      "source": [
        "Здесь, очевидно, выигрывает вариант 300 фильтров внутри одного сверточного слоя."
      ],
      "metadata": {
        "id": "lQVDHHm9Cu03"
      }
    },
    {
      "cell_type": "markdown",
      "source": [
        "**Общие выводы**\n",
        "\n",
        "Мы попробовали некоторые количество гиперпараметров. \n",
        "- В плане количества фильтров (слоев) и их размера мы совпали с авторами статьи -- лучше всего сработал **единичный фильтр длины 3**\n",
        "- В плане дропаута: маленький почему-то работает хуже, лучше применять **большой (0.5) и в обоих местах**: и до, и после CNN слоев\n",
        "- В плане количества фильтров внутри одного слоя мы тоже совпали с авторами -- лучше всего сработал параметр **300**\n",
        "\n",
        "Из важных общих замечаний: качество получилось не очень высокое (**0.68** в лучшем случае), потому что у нас гораздо более короткие тексты, значительно короче, чем у авторов статьи, а длинные нам пришлось еще и обрезать, иначе колаб бы умер. И вообще **несбалансированность** датасета (тексты разной длины, неравновесие в классах), конечно, очень влияет на возможное качество работы модели.\n"
      ],
      "metadata": {
        "id": "Clroo3Dh8dHS"
      }
    },
    {
      "cell_type": "code",
      "source": [
        ""
      ],
      "metadata": {
        "id": "zZh376JqDOWn"
      },
      "execution_count": null,
      "outputs": []
    }
  ],
  "metadata": {
    "accelerator": "GPU",
    "colab": {
      "collapsed_sections": [],
      "name": "hw_3_Smilga.ipynb",
      "provenance": []
    },
    "kernelspec": {
      "display_name": "Python 3",
      "name": "python3"
    },
    "language_info": {
      "name": "python"
    },
    "widgets": {
      "application/vnd.jupyter.widget-state+json": {
        "3f61fb1c75834ae698e637363773a30b": {
          "model_module": "@jupyter-widgets/controls",
          "model_name": "HBoxModel",
          "model_module_version": "1.5.0",
          "state": {
            "_view_name": "HBoxView",
            "_dom_classes": [],
            "_model_name": "HBoxModel",
            "_view_module": "@jupyter-widgets/controls",
            "_model_module_version": "1.5.0",
            "_view_count": null,
            "_view_module_version": "1.5.0",
            "box_style": "",
            "layout": "IPY_MODEL_f594df5ac2bb403b82cf3ef9e44a40fc",
            "_model_module": "@jupyter-widgets/controls",
            "children": [
              "IPY_MODEL_f13f2d333581447a8994eddeaf522c37",
              "IPY_MODEL_92754e83264a468f96410ad1a8c3c143",
              "IPY_MODEL_e8074772923740c886975acbb31ded2e"
            ]
          }
        },
        "f594df5ac2bb403b82cf3ef9e44a40fc": {
          "model_module": "@jupyter-widgets/base",
          "model_name": "LayoutModel",
          "model_module_version": "1.2.0",
          "state": {
            "_view_name": "LayoutView",
            "grid_template_rows": null,
            "right": null,
            "justify_content": null,
            "_view_module": "@jupyter-widgets/base",
            "overflow": null,
            "_model_module_version": "1.2.0",
            "_view_count": null,
            "flex_flow": null,
            "width": null,
            "min_width": null,
            "border": null,
            "align_items": null,
            "bottom": null,
            "_model_module": "@jupyter-widgets/base",
            "top": null,
            "grid_column": null,
            "overflow_y": null,
            "overflow_x": null,
            "grid_auto_flow": null,
            "grid_area": null,
            "grid_template_columns": null,
            "flex": null,
            "_model_name": "LayoutModel",
            "justify_items": null,
            "grid_row": null,
            "max_height": null,
            "align_content": null,
            "visibility": null,
            "align_self": null,
            "height": null,
            "min_height": null,
            "padding": null,
            "grid_auto_rows": null,
            "grid_gap": null,
            "max_width": null,
            "order": null,
            "_view_module_version": "1.2.0",
            "grid_template_areas": null,
            "object_position": null,
            "object_fit": null,
            "grid_auto_columns": null,
            "margin": null,
            "display": null,
            "left": null
          }
        },
        "f13f2d333581447a8994eddeaf522c37": {
          "model_module": "@jupyter-widgets/controls",
          "model_name": "HTMLModel",
          "model_module_version": "1.5.0",
          "state": {
            "_view_name": "HTMLView",
            "style": "IPY_MODEL_e9c0599a65054a19beff5cb6acf29086",
            "_dom_classes": [],
            "description": "",
            "_model_name": "HTMLModel",
            "placeholder": "​",
            "_view_module": "@jupyter-widgets/controls",
            "_model_module_version": "1.5.0",
            "value": "100%",
            "_view_count": null,
            "_view_module_version": "1.5.0",
            "description_tooltip": null,
            "_model_module": "@jupyter-widgets/controls",
            "layout": "IPY_MODEL_6799c53c73b84ed3b469c80a43549284"
          }
        },
        "92754e83264a468f96410ad1a8c3c143": {
          "model_module": "@jupyter-widgets/controls",
          "model_name": "FloatProgressModel",
          "model_module_version": "1.5.0",
          "state": {
            "_view_name": "ProgressView",
            "style": "IPY_MODEL_ac76a867eb65489b8837cdef8675fe74",
            "_dom_classes": [],
            "description": "",
            "_model_name": "FloatProgressModel",
            "bar_style": "success",
            "max": 3,
            "_view_module": "@jupyter-widgets/controls",
            "_model_module_version": "1.5.0",
            "value": 3,
            "_view_count": null,
            "_view_module_version": "1.5.0",
            "orientation": "horizontal",
            "min": 0,
            "description_tooltip": null,
            "_model_module": "@jupyter-widgets/controls",
            "layout": "IPY_MODEL_885d3916dce44741b402f78cbe9a5a5b"
          }
        },
        "e8074772923740c886975acbb31ded2e": {
          "model_module": "@jupyter-widgets/controls",
          "model_name": "HTMLModel",
          "model_module_version": "1.5.0",
          "state": {
            "_view_name": "HTMLView",
            "style": "IPY_MODEL_c8fb9518f9fa4a1fa7887c48f16993a5",
            "_dom_classes": [],
            "description": "",
            "_model_name": "HTMLModel",
            "placeholder": "​",
            "_view_module": "@jupyter-widgets/controls",
            "_model_module_version": "1.5.0",
            "value": " 3/3 [08:46&lt;00:00, 175.65s/it]",
            "_view_count": null,
            "_view_module_version": "1.5.0",
            "description_tooltip": null,
            "_model_module": "@jupyter-widgets/controls",
            "layout": "IPY_MODEL_921a6c5c421347de8888a524f8510380"
          }
        },
        "e9c0599a65054a19beff5cb6acf29086": {
          "model_module": "@jupyter-widgets/controls",
          "model_name": "DescriptionStyleModel",
          "model_module_version": "1.5.0",
          "state": {
            "_view_name": "StyleView",
            "_model_name": "DescriptionStyleModel",
            "description_width": "",
            "_view_module": "@jupyter-widgets/base",
            "_model_module_version": "1.5.0",
            "_view_count": null,
            "_view_module_version": "1.2.0",
            "_model_module": "@jupyter-widgets/controls"
          }
        },
        "6799c53c73b84ed3b469c80a43549284": {
          "model_module": "@jupyter-widgets/base",
          "model_name": "LayoutModel",
          "model_module_version": "1.2.0",
          "state": {
            "_view_name": "LayoutView",
            "grid_template_rows": null,
            "right": null,
            "justify_content": null,
            "_view_module": "@jupyter-widgets/base",
            "overflow": null,
            "_model_module_version": "1.2.0",
            "_view_count": null,
            "flex_flow": null,
            "width": null,
            "min_width": null,
            "border": null,
            "align_items": null,
            "bottom": null,
            "_model_module": "@jupyter-widgets/base",
            "top": null,
            "grid_column": null,
            "overflow_y": null,
            "overflow_x": null,
            "grid_auto_flow": null,
            "grid_area": null,
            "grid_template_columns": null,
            "flex": null,
            "_model_name": "LayoutModel",
            "justify_items": null,
            "grid_row": null,
            "max_height": null,
            "align_content": null,
            "visibility": null,
            "align_self": null,
            "height": null,
            "min_height": null,
            "padding": null,
            "grid_auto_rows": null,
            "grid_gap": null,
            "max_width": null,
            "order": null,
            "_view_module_version": "1.2.0",
            "grid_template_areas": null,
            "object_position": null,
            "object_fit": null,
            "grid_auto_columns": null,
            "margin": null,
            "display": null,
            "left": null
          }
        },
        "ac76a867eb65489b8837cdef8675fe74": {
          "model_module": "@jupyter-widgets/controls",
          "model_name": "ProgressStyleModel",
          "model_module_version": "1.5.0",
          "state": {
            "_view_name": "StyleView",
            "_model_name": "ProgressStyleModel",
            "description_width": "",
            "_view_module": "@jupyter-widgets/base",
            "_model_module_version": "1.5.0",
            "_view_count": null,
            "_view_module_version": "1.2.0",
            "bar_color": null,
            "_model_module": "@jupyter-widgets/controls"
          }
        },
        "885d3916dce44741b402f78cbe9a5a5b": {
          "model_module": "@jupyter-widgets/base",
          "model_name": "LayoutModel",
          "model_module_version": "1.2.0",
          "state": {
            "_view_name": "LayoutView",
            "grid_template_rows": null,
            "right": null,
            "justify_content": null,
            "_view_module": "@jupyter-widgets/base",
            "overflow": null,
            "_model_module_version": "1.2.0",
            "_view_count": null,
            "flex_flow": null,
            "width": null,
            "min_width": null,
            "border": null,
            "align_items": null,
            "bottom": null,
            "_model_module": "@jupyter-widgets/base",
            "top": null,
            "grid_column": null,
            "overflow_y": null,
            "overflow_x": null,
            "grid_auto_flow": null,
            "grid_area": null,
            "grid_template_columns": null,
            "flex": null,
            "_model_name": "LayoutModel",
            "justify_items": null,
            "grid_row": null,
            "max_height": null,
            "align_content": null,
            "visibility": null,
            "align_self": null,
            "height": null,
            "min_height": null,
            "padding": null,
            "grid_auto_rows": null,
            "grid_gap": null,
            "max_width": null,
            "order": null,
            "_view_module_version": "1.2.0",
            "grid_template_areas": null,
            "object_position": null,
            "object_fit": null,
            "grid_auto_columns": null,
            "margin": null,
            "display": null,
            "left": null
          }
        },
        "c8fb9518f9fa4a1fa7887c48f16993a5": {
          "model_module": "@jupyter-widgets/controls",
          "model_name": "DescriptionStyleModel",
          "model_module_version": "1.5.0",
          "state": {
            "_view_name": "StyleView",
            "_model_name": "DescriptionStyleModel",
            "description_width": "",
            "_view_module": "@jupyter-widgets/base",
            "_model_module_version": "1.5.0",
            "_view_count": null,
            "_view_module_version": "1.2.0",
            "_model_module": "@jupyter-widgets/controls"
          }
        },
        "921a6c5c421347de8888a524f8510380": {
          "model_module": "@jupyter-widgets/base",
          "model_name": "LayoutModel",
          "model_module_version": "1.2.0",
          "state": {
            "_view_name": "LayoutView",
            "grid_template_rows": null,
            "right": null,
            "justify_content": null,
            "_view_module": "@jupyter-widgets/base",
            "overflow": null,
            "_model_module_version": "1.2.0",
            "_view_count": null,
            "flex_flow": null,
            "width": null,
            "min_width": null,
            "border": null,
            "align_items": null,
            "bottom": null,
            "_model_module": "@jupyter-widgets/base",
            "top": null,
            "grid_column": null,
            "overflow_y": null,
            "overflow_x": null,
            "grid_auto_flow": null,
            "grid_area": null,
            "grid_template_columns": null,
            "flex": null,
            "_model_name": "LayoutModel",
            "justify_items": null,
            "grid_row": null,
            "max_height": null,
            "align_content": null,
            "visibility": null,
            "align_self": null,
            "height": null,
            "min_height": null,
            "padding": null,
            "grid_auto_rows": null,
            "grid_gap": null,
            "max_width": null,
            "order": null,
            "_view_module_version": "1.2.0",
            "grid_template_areas": null,
            "object_position": null,
            "object_fit": null,
            "grid_auto_columns": null,
            "margin": null,
            "display": null,
            "left": null
          }
        },
        "43803bc13e9f47b991d506bf33232ca8": {
          "model_module": "@jupyter-widgets/controls",
          "model_name": "HBoxModel",
          "model_module_version": "1.5.0",
          "state": {
            "_view_name": "HBoxView",
            "_dom_classes": [],
            "_model_name": "HBoxModel",
            "_view_module": "@jupyter-widgets/controls",
            "_model_module_version": "1.5.0",
            "_view_count": null,
            "_view_module_version": "1.5.0",
            "box_style": "",
            "layout": "IPY_MODEL_46e30441877e4c85bcc9c8cc2e497502",
            "_model_module": "@jupyter-widgets/controls",
            "children": [
              "IPY_MODEL_810c6d2dcf3e43d3bc2a425d92f673a9",
              "IPY_MODEL_5ca4a56e04b04d278400462e0bb36197",
              "IPY_MODEL_01b9bd63c4e9401d8558e1000ddbdcb0"
            ]
          }
        },
        "46e30441877e4c85bcc9c8cc2e497502": {
          "model_module": "@jupyter-widgets/base",
          "model_name": "LayoutModel",
          "model_module_version": "1.2.0",
          "state": {
            "_view_name": "LayoutView",
            "grid_template_rows": null,
            "right": null,
            "justify_content": null,
            "_view_module": "@jupyter-widgets/base",
            "overflow": null,
            "_model_module_version": "1.2.0",
            "_view_count": null,
            "flex_flow": null,
            "width": null,
            "min_width": null,
            "border": null,
            "align_items": null,
            "bottom": null,
            "_model_module": "@jupyter-widgets/base",
            "top": null,
            "grid_column": null,
            "overflow_y": null,
            "overflow_x": null,
            "grid_auto_flow": null,
            "grid_area": null,
            "grid_template_columns": null,
            "flex": null,
            "_model_name": "LayoutModel",
            "justify_items": null,
            "grid_row": null,
            "max_height": null,
            "align_content": null,
            "visibility": null,
            "align_self": null,
            "height": null,
            "min_height": null,
            "padding": null,
            "grid_auto_rows": null,
            "grid_gap": null,
            "max_width": null,
            "order": null,
            "_view_module_version": "1.2.0",
            "grid_template_areas": null,
            "object_position": null,
            "object_fit": null,
            "grid_auto_columns": null,
            "margin": null,
            "display": null,
            "left": null
          }
        },
        "810c6d2dcf3e43d3bc2a425d92f673a9": {
          "model_module": "@jupyter-widgets/controls",
          "model_name": "HTMLModel",
          "model_module_version": "1.5.0",
          "state": {
            "_view_name": "HTMLView",
            "style": "IPY_MODEL_bca5361e33a4404782abef23d536dc73",
            "_dom_classes": [],
            "description": "",
            "_model_name": "HTMLModel",
            "placeholder": "​",
            "_view_module": "@jupyter-widgets/controls",
            "_model_module_version": "1.5.0",
            "value": "100%",
            "_view_count": null,
            "_view_module_version": "1.5.0",
            "description_tooltip": null,
            "_model_module": "@jupyter-widgets/controls",
            "layout": "IPY_MODEL_e68ec58d74094ac498ddb862550f9192"
          }
        },
        "5ca4a56e04b04d278400462e0bb36197": {
          "model_module": "@jupyter-widgets/controls",
          "model_name": "FloatProgressModel",
          "model_module_version": "1.5.0",
          "state": {
            "_view_name": "ProgressView",
            "style": "IPY_MODEL_257cb54686704b5db603f3430b7a83a6",
            "_dom_classes": [],
            "description": "",
            "_model_name": "FloatProgressModel",
            "bar_style": "success",
            "max": 3,
            "_view_module": "@jupyter-widgets/controls",
            "_model_module_version": "1.5.0",
            "value": 3,
            "_view_count": null,
            "_view_module_version": "1.5.0",
            "orientation": "horizontal",
            "min": 0,
            "description_tooltip": null,
            "_model_module": "@jupyter-widgets/controls",
            "layout": "IPY_MODEL_d3c8611975554c869add7f0069f8866a"
          }
        },
        "01b9bd63c4e9401d8558e1000ddbdcb0": {
          "model_module": "@jupyter-widgets/controls",
          "model_name": "HTMLModel",
          "model_module_version": "1.5.0",
          "state": {
            "_view_name": "HTMLView",
            "style": "IPY_MODEL_9f65d8dde3434f31a941fc1ff6f6d41b",
            "_dom_classes": [],
            "description": "",
            "_model_name": "HTMLModel",
            "placeholder": "​",
            "_view_module": "@jupyter-widgets/controls",
            "_model_module_version": "1.5.0",
            "value": " 3/3 [08:51&lt;00:00, 186.94s/it]",
            "_view_count": null,
            "_view_module_version": "1.5.0",
            "description_tooltip": null,
            "_model_module": "@jupyter-widgets/controls",
            "layout": "IPY_MODEL_67e91f10d02049249ee84ac59dac50aa"
          }
        },
        "bca5361e33a4404782abef23d536dc73": {
          "model_module": "@jupyter-widgets/controls",
          "model_name": "DescriptionStyleModel",
          "model_module_version": "1.5.0",
          "state": {
            "_view_name": "StyleView",
            "_model_name": "DescriptionStyleModel",
            "description_width": "",
            "_view_module": "@jupyter-widgets/base",
            "_model_module_version": "1.5.0",
            "_view_count": null,
            "_view_module_version": "1.2.0",
            "_model_module": "@jupyter-widgets/controls"
          }
        },
        "e68ec58d74094ac498ddb862550f9192": {
          "model_module": "@jupyter-widgets/base",
          "model_name": "LayoutModel",
          "model_module_version": "1.2.0",
          "state": {
            "_view_name": "LayoutView",
            "grid_template_rows": null,
            "right": null,
            "justify_content": null,
            "_view_module": "@jupyter-widgets/base",
            "overflow": null,
            "_model_module_version": "1.2.0",
            "_view_count": null,
            "flex_flow": null,
            "width": null,
            "min_width": null,
            "border": null,
            "align_items": null,
            "bottom": null,
            "_model_module": "@jupyter-widgets/base",
            "top": null,
            "grid_column": null,
            "overflow_y": null,
            "overflow_x": null,
            "grid_auto_flow": null,
            "grid_area": null,
            "grid_template_columns": null,
            "flex": null,
            "_model_name": "LayoutModel",
            "justify_items": null,
            "grid_row": null,
            "max_height": null,
            "align_content": null,
            "visibility": null,
            "align_self": null,
            "height": null,
            "min_height": null,
            "padding": null,
            "grid_auto_rows": null,
            "grid_gap": null,
            "max_width": null,
            "order": null,
            "_view_module_version": "1.2.0",
            "grid_template_areas": null,
            "object_position": null,
            "object_fit": null,
            "grid_auto_columns": null,
            "margin": null,
            "display": null,
            "left": null
          }
        },
        "257cb54686704b5db603f3430b7a83a6": {
          "model_module": "@jupyter-widgets/controls",
          "model_name": "ProgressStyleModel",
          "model_module_version": "1.5.0",
          "state": {
            "_view_name": "StyleView",
            "_model_name": "ProgressStyleModel",
            "description_width": "",
            "_view_module": "@jupyter-widgets/base",
            "_model_module_version": "1.5.0",
            "_view_count": null,
            "_view_module_version": "1.2.0",
            "bar_color": null,
            "_model_module": "@jupyter-widgets/controls"
          }
        },
        "d3c8611975554c869add7f0069f8866a": {
          "model_module": "@jupyter-widgets/base",
          "model_name": "LayoutModel",
          "model_module_version": "1.2.0",
          "state": {
            "_view_name": "LayoutView",
            "grid_template_rows": null,
            "right": null,
            "justify_content": null,
            "_view_module": "@jupyter-widgets/base",
            "overflow": null,
            "_model_module_version": "1.2.0",
            "_view_count": null,
            "flex_flow": null,
            "width": null,
            "min_width": null,
            "border": null,
            "align_items": null,
            "bottom": null,
            "_model_module": "@jupyter-widgets/base",
            "top": null,
            "grid_column": null,
            "overflow_y": null,
            "overflow_x": null,
            "grid_auto_flow": null,
            "grid_area": null,
            "grid_template_columns": null,
            "flex": null,
            "_model_name": "LayoutModel",
            "justify_items": null,
            "grid_row": null,
            "max_height": null,
            "align_content": null,
            "visibility": null,
            "align_self": null,
            "height": null,
            "min_height": null,
            "padding": null,
            "grid_auto_rows": null,
            "grid_gap": null,
            "max_width": null,
            "order": null,
            "_view_module_version": "1.2.0",
            "grid_template_areas": null,
            "object_position": null,
            "object_fit": null,
            "grid_auto_columns": null,
            "margin": null,
            "display": null,
            "left": null
          }
        },
        "9f65d8dde3434f31a941fc1ff6f6d41b": {
          "model_module": "@jupyter-widgets/controls",
          "model_name": "DescriptionStyleModel",
          "model_module_version": "1.5.0",
          "state": {
            "_view_name": "StyleView",
            "_model_name": "DescriptionStyleModel",
            "description_width": "",
            "_view_module": "@jupyter-widgets/base",
            "_model_module_version": "1.5.0",
            "_view_count": null,
            "_view_module_version": "1.2.0",
            "_model_module": "@jupyter-widgets/controls"
          }
        },
        "67e91f10d02049249ee84ac59dac50aa": {
          "model_module": "@jupyter-widgets/base",
          "model_name": "LayoutModel",
          "model_module_version": "1.2.0",
          "state": {
            "_view_name": "LayoutView",
            "grid_template_rows": null,
            "right": null,
            "justify_content": null,
            "_view_module": "@jupyter-widgets/base",
            "overflow": null,
            "_model_module_version": "1.2.0",
            "_view_count": null,
            "flex_flow": null,
            "width": null,
            "min_width": null,
            "border": null,
            "align_items": null,
            "bottom": null,
            "_model_module": "@jupyter-widgets/base",
            "top": null,
            "grid_column": null,
            "overflow_y": null,
            "overflow_x": null,
            "grid_auto_flow": null,
            "grid_area": null,
            "grid_template_columns": null,
            "flex": null,
            "_model_name": "LayoutModel",
            "justify_items": null,
            "grid_row": null,
            "max_height": null,
            "align_content": null,
            "visibility": null,
            "align_self": null,
            "height": null,
            "min_height": null,
            "padding": null,
            "grid_auto_rows": null,
            "grid_gap": null,
            "max_width": null,
            "order": null,
            "_view_module_version": "1.2.0",
            "grid_template_areas": null,
            "object_position": null,
            "object_fit": null,
            "grid_auto_columns": null,
            "margin": null,
            "display": null,
            "left": null
          }
        }
      }
    }
  },
  "nbformat": 4,
  "nbformat_minor": 0
}

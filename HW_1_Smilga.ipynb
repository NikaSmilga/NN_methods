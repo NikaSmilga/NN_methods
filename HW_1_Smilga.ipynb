{
 "cells": [
  {
   "cell_type": "markdown",
   "metadata": {},
   "source": [
    "# ДЗ 1\n",
    "## Классический МЛ в NLP, вспомнить все!"
   ]
  },
  {
   "cell_type": "markdown",
   "metadata": {},
   "source": [
    "В этом ДЗ будем работать с датасетом Men_Women_Shoes_Reviews https://www.kaggle.com/daishinkan002/men-women-shoes-reviews \n",
    " \n",
    "\n",
    "### **Задание 1**. \n",
    "Предсказать цену по описанию товара (для каждого товара)\n",
    "### **Задание 2.** \n",
    "Предсказать оценку товара пользователем по его отзыву (для каждого отзыва)\n",
    "\n",
    "## *Что нужно сделать в каждом задании:* \n",
    "1) проанализировать данные (все, на что хватит вашей фантазии, хороший анализ включает в себя графики и статистические инструменты анализа, можно приходить с вопросами \"какой инструмент поможет мне проверить такую-то гипотезу/хочу посмотреть вот это вот, как это сделать\", предварительно не стесняйтесь гуглить) **1 балл**\n",
    "\n",
    "2) подготовить данные (стемминг, лемматизация, убрать мусор и стоп-слова, нормализовать... все, что покажется вам разумным относительно данных, но вы должны кратко (комментарием к этому блоку кода в тетрадке) объяснить почему вы сделали именно такой препроцессинг. Хороший препроцессинг - разумный, в данном случае чем больше тем не всегда лучше) **1 балла**\n",
    "\n",
    "3) векторизовать тексты (контекстуальные эммбединги пока что не берем, только BoW и TF-IDF) **0.5 балл**\n",
    "\n",
    "4) сделать гридсерч по нескольким моделям (у нас 2 задания, классификация и регрессия), подобрать гиперпараметры, выбрать лучшую модель, рассказать, почему, на ваш взгляд,лучший результат показал лучший алгоритм **1 балл**\n",
    "\n",
    "5) оценить и проанализировать качество лучших решений для каждой задачи (рассказать с чем ваша модель справляется хорошо, а где у нее \"слабые места\", можно ли как-то улучшить ваши результаты. Хороший анализ сопровождается графиками) **1,5 балла** \n",
    "\n",
    "Максимальная сумма баллов при выполнении 5 пунктов в 2 заданиях - 10\n",
    "\n",
    "В тетрадке с первого занятия много дополнительной информации, которая может вам помочь, но все равно не стесняйтесь приходить с вопросами в чат курса. "
   ]
  },
  {
   "cell_type": "code",
   "execution_count": 2,
   "metadata": {},
   "outputs": [
    {
     "name": "stdout",
     "output_type": "stream",
     "text": [
      "Requirement already satisfied: langdetect in /Users/veronicasmilga/opt/anaconda3/lib/python3.8/site-packages (1.0.9)\n",
      "Requirement already satisfied: six in /Users/veronicasmilga/opt/anaconda3/lib/python3.8/site-packages (from langdetect) (1.15.0)\n",
      "Note: you may need to restart the kernel to use updated packages.\n"
     ]
    }
   ],
   "source": [
    "pip install langdetect"
   ]
  },
  {
   "cell_type": "code",
   "execution_count": 3,
   "metadata": {},
   "outputs": [],
   "source": [
    "import pandas as pd\n",
    "import seaborn as sns\n",
    "import matplotlib.pyplot as plt\n",
    "from langdetect import detect, DetectorFactory\n",
    "DetectorFactory.seed = 0\n",
    "\n",
    "# Comment this if the data visualisations doesn't work on your side\n",
    "%matplotlib inline"
   ]
  },
  {
   "cell_type": "code",
   "execution_count": 4,
   "metadata": {},
   "outputs": [],
   "source": [
    "df = pd.read_csv('./Shoes_Data.csv')"
   ]
  },
  {
   "cell_type": "markdown",
   "metadata": {},
   "source": [
    "## Предсказание цены "
   ]
  },
  {
   "cell_type": "markdown",
   "metadata": {},
   "source": [
    "Бесконечное количество возможных ответов (непрерывное пространство) -> задача регрессии."
   ]
  },
  {
   "cell_type": "markdown",
   "metadata": {},
   "source": [
    "### №1. "
   ]
  },
  {
   "cell_type": "markdown",
   "metadata": {},
   "source": [
    "#### Языки описаний"
   ]
  },
  {
   "cell_type": "code",
   "execution_count": 5,
   "metadata": {},
   "outputs": [],
   "source": [
    "def det_lang(string):\n",
    "    try:\n",
    "        return detect(string)\n",
    "    except:\n",
    "        return 'unknown'"
   ]
  },
  {
   "cell_type": "code",
   "execution_count": 6,
   "metadata": {
    "scrolled": true
   },
   "outputs": [],
   "source": [
    "df['language'] = df.product_description.apply(det_lang)"
   ]
  },
  {
   "cell_type": "code",
   "execution_count": 7,
   "metadata": {},
   "outputs": [
    {
     "data": {
      "text/plain": [
       "en         0.956098\n",
       "ml         0.011382\n",
       "te         0.008130\n",
       "ta         0.008130\n",
       "de         0.004878\n",
       "kn         0.004065\n",
       "unknown    0.002439\n",
       "no         0.001626\n",
       "tl         0.001626\n",
       "af         0.000813\n",
       "fr         0.000813\n",
       "Name: language, dtype: float64"
      ]
     },
     "execution_count": 7,
     "metadata": {},
     "output_type": "execute_result"
    }
   ],
   "source": [
    "df['language'].value_counts(normalize=True)"
   ]
  },
  {
   "cell_type": "markdown",
   "metadata": {},
   "source": [
    "95% описаний написано на английском языке, из чего делаем вывод, что не стоит придумывать отдельные методы для обработки иноязычных текстов, и можно просто их удалить."
   ]
  },
  {
   "cell_type": "code",
   "execution_count": 8,
   "metadata": {},
   "outputs": [],
   "source": [
    "df = df[df.language == 'en']"
   ]
  },
  {
   "cell_type": "markdown",
   "metadata": {},
   "source": [
    "#### Распределение цен"
   ]
  },
  {
   "cell_type": "code",
   "execution_count": 9,
   "metadata": {},
   "outputs": [],
   "source": [
    "def make_num(string):\n",
    "    return float(string.replace('₹', ''))"
   ]
  },
  {
   "cell_type": "code",
   "execution_count": 10,
   "metadata": {},
   "outputs": [],
   "source": [
    "df.price = df.price.apply(make_num)"
   ]
  },
  {
   "cell_type": "code",
   "execution_count": 11,
   "metadata": {
    "scrolled": true
   },
   "outputs": [
    {
     "name": "stderr",
     "output_type": "stream",
     "text": [
      "/Users/veronicasmilga/opt/anaconda3/lib/python3.8/site-packages/seaborn/distributions.py:2557: FutureWarning: `distplot` is a deprecated function and will be removed in a future version. Please adapt your code to use either `displot` (a figure-level function with similar flexibility) or `histplot` (an axes-level function for histograms).\n",
      "  warnings.warn(msg, FutureWarning)\n"
     ]
    },
    {
     "data": {
      "image/png": "[encoded data removed]",
      "text/plain": [
       "<Figure size 432x288 with 1 Axes>"
      ]
     },
     "metadata": {
      "needs_background": "light"
     },
     "output_type": "display_data"
    }
   ],
   "source": [
    "plt.figure()\n",
    "sns.distplot(df.price, bins=100);"
   ]
  },
  {
   "cell_type": "code",
   "execution_count": 12,
   "metadata": {
    "scrolled": true
   },
   "outputs": [
    {
     "name": "stdout",
     "output_type": "stream",
     "text": [
      "count    1176.000000\n",
      "mean     1954.817168\n",
      "std      1672.318771\n",
      "min       127.000000\n",
      "25%       608.000000\n",
      "50%      1503.500000\n",
      "75%      2742.500000\n",
      "max      7992.000000\n",
      "Name: price, dtype: float64\n"
     ]
    }
   ],
   "source": [
    "print(df.price.describe())"
   ]
  },
  {
   "cell_type": "markdown",
   "metadata": {},
   "source": [
    "На графике видим перекос влево, подавляющее большинство товаров стоит менее 1000. Чем выше цена, тем меньше товаров за такую цену. Средняя цена - 2031."
   ]
  },
  {
   "cell_type": "markdown",
   "metadata": {},
   "source": [
    "#### Проверка на дубликаты"
   ]
  },
  {
   "cell_type": "code",
   "execution_count": 13,
   "metadata": {
    "scrolled": true
   },
   "outputs": [
    {
     "name": "stdout",
     "output_type": "stream",
     "text": [
      "Всего дубликатов 191\n"
     ]
    }
   ],
   "source": [
    "print('Всего дубликатов',df.duplicated().sum())"
   ]
  },
  {
   "cell_type": "code",
   "execution_count": 14,
   "metadata": {
    "scrolled": false
   },
   "outputs": [],
   "source": [
    "df = df.drop_duplicates()"
   ]
  },
  {
   "cell_type": "code",
   "execution_count": 15,
   "metadata": {
    "scrolled": true
   },
   "outputs": [
    {
     "name": "stdout",
     "output_type": "stream",
     "text": [
      "Всего дубликатов 0\n"
     ]
    }
   ],
   "source": [
    "print('Всего дубликатов',df.duplicated().sum())"
   ]
  },
  {
   "cell_type": "markdown",
   "metadata": {},
   "source": [
    "#### Проверка на значимость разных черт текста"
   ]
  },
  {
   "cell_type": "code",
   "execution_count": 16,
   "metadata": {},
   "outputs": [],
   "source": [
    "def count_len(string):\n",
    "    return len(string.split())"
   ]
  },
  {
   "cell_type": "code",
   "execution_count": 17,
   "metadata": {
    "scrolled": true
   },
   "outputs": [],
   "source": [
    "df['len_desc'] = df.product_description.apply(count_len)"
   ]
  },
  {
   "cell_type": "code",
   "execution_count": 18,
   "metadata": {
    "scrolled": true
   },
   "outputs": [
    {
     "data": {
      "text/plain": [
       "63.39383561643836"
      ]
     },
     "execution_count": 18,
     "metadata": {},
     "output_type": "execute_result"
    }
   ],
   "source": [
    "df[df[\"price\"] < 622][\"len_desc\"].mean()"
   ]
  },
  {
   "cell_type": "code",
   "execution_count": 19,
   "metadata": {},
   "outputs": [
    {
     "data": {
      "text/plain": [
       "60.38878143133462"
      ]
     },
     "execution_count": 19,
     "metadata": {},
     "output_type": "execute_result"
    }
   ],
   "source": [
    "df[(df[\"price\"] > 622) & (df[\"price\"] < 2844)][\"len_desc\"].mean()"
   ]
  },
  {
   "cell_type": "code",
   "execution_count": 20,
   "metadata": {
    "scrolled": true
   },
   "outputs": [
    {
     "data": {
      "text/plain": [
       "82.97714285714285"
      ]
     },
     "execution_count": 20,
     "metadata": {},
     "output_type": "execute_result"
    }
   ],
   "source": [
    "df[df[\"price\"] > 2844][\"len_desc\"].mean()"
   ]
  },
  {
   "cell_type": "markdown",
   "metadata": {},
   "source": [
    "Кажется, у дорогих товаров описание в среднем значительно длиннее, эта черта может оказаться полезной."
   ]
  },
  {
   "cell_type": "markdown",
   "metadata": {},
   "source": [
    "#### Капслок"
   ]
  },
  {
   "cell_type": "code",
   "execution_count": 21,
   "metadata": {},
   "outputs": [],
   "source": [
    "def caps(string):\n",
    "    return string.isupper()"
   ]
  },
  {
   "cell_type": "code",
   "execution_count": 22,
   "metadata": {},
   "outputs": [],
   "source": [
    "df['caps'] = df.product_description.apply(caps)"
   ]
  },
  {
   "cell_type": "code",
   "execution_count": 23,
   "metadata": {
    "scrolled": true
   },
   "outputs": [
    {
     "data": {
      "text/plain": [
       "741.25"
      ]
     },
     "execution_count": 23,
     "metadata": {},
     "output_type": "execute_result"
    }
   ],
   "source": [
    "df[df[\"caps\"] == True][\"price\"].mean()"
   ]
  },
  {
   "cell_type": "code",
   "execution_count": 24,
   "metadata": {},
   "outputs": [
    {
     "data": {
      "text/plain": [
       "1740.8904708290688"
      ]
     },
     "execution_count": 24,
     "metadata": {},
     "output_type": "execute_result"
    }
   ],
   "source": [
    "df[df[\"caps\"] == False][\"price\"].mean()"
   ]
  },
  {
   "cell_type": "code",
   "execution_count": 25,
   "metadata": {},
   "outputs": [
    {
     "data": {
      "text/plain": [
       "False    977\n",
       "True       8\n",
       "Name: caps, dtype: int64"
      ]
     },
     "execution_count": 25,
     "metadata": {},
     "output_type": "execute_result"
    }
   ],
   "source": [
    "df['caps'].value_counts()"
   ]
  },
  {
   "cell_type": "markdown",
   "metadata": {},
   "source": [
    "Попробовала смотреть на значимость капса, но эта черта вряд ли будет полезна, тк полностью капслоковых описаний совсем мало, убираю ее."
   ]
  },
  {
   "cell_type": "code",
   "execution_count": 26,
   "metadata": {},
   "outputs": [],
   "source": [
    "df = df.drop(columns='caps')"
   ]
  },
  {
   "cell_type": "markdown",
   "metadata": {},
   "source": [
    "### №2"
   ]
  },
  {
   "cell_type": "code",
   "execution_count": 27,
   "metadata": {},
   "outputs": [],
   "source": [
    "from nltk.stem.wordnet import WordNetLemmatizer\n",
    "from nltk import word_tokenize\n",
    "import string\n",
    "import re\n",
    "lmtzr = WordNetLemmatizer()\n",
    "from nltk.corpus import stopwords"
   ]
  },
  {
   "cell_type": "code",
   "execution_count": 201,
   "metadata": {},
   "outputs": [],
   "source": [
    "def preprocess(text):\n",
    "    remove = string.punctuation\n",
    "    remove = remove.replace(\"-\", \"\")\n",
    "    text_nopunc = ''.join([x for x in text if x not in remove]).lower()\n",
    "    text_nopunc = re.sub(r'-(?=\\s|$)','',text_nopunc)\n",
    "    text_proc = [lmtzr.lemmatize(word) for word in word_tokenize(text_nopunc)]\n",
    "    text_proc = ' '.join([x for x in text_proc if x not in stopwords.words('english')])\n",
    "    return text_proc"
   ]
  },
  {
   "cell_type": "markdown",
   "metadata": {},
   "source": [
    "Убираю пунктуацию, отдельно обрабатываю -, не люблю, когда вместе с тире из текстов пропадают дефисы. Не убираю цифры, в текстах отзывов могут содержаться числа, которые нам очень пригодятся. Для лемматизации попробовала НЛТК и Спэйси, НЛТК лемматизирует хуже (меньше слов получают начальную форму, в частности глаголы), но результат с ним выходит лучше, так что оставляю его. Стопслова убираю, думаю, что они содержатся почти в каждом отзыве и вряд ли помогут отличить дорогую обувь от дешевой; с чисткой от стопслов качество выше. "
   ]
  },
  {
   "cell_type": "code",
   "execution_count": 202,
   "metadata": {},
   "outputs": [],
   "source": [
    "df['prep_text'] = df.product_description.apply(preprocess)"
   ]
  },
  {
   "cell_type": "markdown",
   "metadata": {},
   "source": [
    "### №3"
   ]
  },
  {
   "cell_type": "code",
   "execution_count": 231,
   "metadata": {},
   "outputs": [],
   "source": [
    "from sklearn.model_selection import train_test_split  \n",
    "from sklearn.feature_extraction.text import TfidfVectorizer\n",
    "from sklearn.feature_extraction.text import CountVectorizer\n",
    "X = df['prep_text']\n",
    "y = df['price']\n",
    "X_train, X_test, y_train, y_test = train_test_split(X, y, test_size=0.35, random_state=42)\n",
    "vectorizer1 = TfidfVectorizer()\n",
    "vectorizer2 = CountVectorizer()\n",
    "X_train_tfidf = vectorizer1.fit_transform(X_train)\n",
    "X_test_tfidf = vectorizer1.transform(X_test)\n",
    "X_train_bow = vectorizer2.fit_transform(X_train)\n",
    "X_test_bow = vectorizer2.transform(X_test)"
   ]
  },
  {
   "cell_type": "code",
   "execution_count": 232,
   "metadata": {},
   "outputs": [],
   "source": [
    "df1 = pd.DataFrame(X_train_tfidf.toarray(), columns=vectorizer1.get_feature_names())"
   ]
  },
  {
   "cell_type": "markdown",
   "metadata": {},
   "source": [
    "### №4-5"
   ]
  },
  {
   "cell_type": "code",
   "execution_count": 233,
   "metadata": {},
   "outputs": [],
   "source": [
    "from sklearn import linear_model\n",
    "from sklearn.ensemble import RandomForestRegressor\n",
    "from sklearn.metrics import mean_squared_error, mean_absolute_error\n",
    "from sklearn.ensemble import GradientBoostingRegressor\n",
    "from sklearn.model_selection import cross_val_score\n",
    "from sklearn.model_selection import GridSearchCV\n",
    "from sklearn.svm import SVR"
   ]
  },
  {
   "cell_type": "code",
   "execution_count": 235,
   "metadata": {},
   "outputs": [
    {
     "name": "stdout",
     "output_type": "stream",
     "text": [
      "MAE on BoW vectors: 1141.1005055518, accuracy on TFIDF vectors: 2197.8573153878\n"
     ]
    }
   ],
   "source": [
    "reg = linear_model.LinearRegression()\n",
    "reg.fit(X_train_tfidf, y_train)\n",
    "mae_reg = mean_absolute_error(y_test, reg.predict(X_test_tfidf))\n",
    "reg1 = linear_model.LinearRegression()\n",
    "reg1.fit(X_train_bow, y_train)\n",
    "mae_reg1 = mean_absolute_error(y_test, reg1.predict(X_test_bow))\n",
    "print(\"MAE on BoW vectors: %.10f, accuracy on TFIDF vectors: %.10f\" % (mae_reg1, mae_reg))"
   ]
  },
  {
   "cell_type": "code",
   "execution_count": 237,
   "metadata": {},
   "outputs": [
    {
     "name": "stdout",
     "output_type": "stream",
     "text": [
      "MAE on BoW vectors: 1059.3134499392, accuracy on TFIDF vectors: 1058.8630856748\n"
     ]
    }
   ],
   "source": [
    "svr = SVR()\n",
    "svr.fit(X_train_tfidf, y_train)\n",
    "mae_svr = mean_absolute_error(y_test, svr.predict(X_test_tfidf))\n",
    "svr1 = SVR()\n",
    "svr1.fit(X_train_bow, y_train)\n",
    "mae_svr1 = mean_absolute_error(y_test, svr1.predict(X_test_bow))\n",
    "print(\"MAE on BoW vectors: %.10f, accuracy on TFIDF vectors: %.10f\" % (mae_svr1, mae_svr))"
   ]
  },
  {
   "cell_type": "code",
   "execution_count": 239,
   "metadata": {
    "scrolled": true
   },
   "outputs": [
    {
     "name": "stdout",
     "output_type": "stream",
     "text": [
      "MAE on BoW vectors: 646.7450274928, accuracy on TFIDF vectors: 654.7264603816\n"
     ]
    }
   ],
   "source": [
    "rfr = RandomForestRegressor(random_state=42)\n",
    "rfr.fit(X_train_tfidf, y_train)\n",
    "mae_rfr = mean_absolute_error(y_test, rfr.predict(X_test_tfidf))\n",
    "rfr1 = RandomForestRegressor(random_state=42)\n",
    "rfr1.fit(X_train_bow, y_train)\n",
    "mae_rfr1 = mean_absolute_error(y_test, rfr1.predict(X_test_bow))\n",
    "print(\"MAE on BoW vectors: %.10f, accuracy on TFIDF vectors: %.10f\" % (mae_rfr1, mae_rfr))"
   ]
  },
  {
   "cell_type": "code",
   "execution_count": 241,
   "metadata": {},
   "outputs": [
    {
     "name": "stdout",
     "output_type": "stream",
     "text": [
      "MAE on BoW vectors: 738.4153775293, accuracy on TFIDF vectors: 731.6218292769\n"
     ]
    }
   ],
   "source": [
    "gbr = GradientBoostingRegressor(random_state=42)\n",
    "gbr.fit(X_train_tfidf, y_train)\n",
    "mae_gbr = mean_absolute_error(y_test, gbr.predict(X_test_tfidf))\n",
    "gbr1 = GradientBoostingRegressor(random_state=42)\n",
    "gbr1.fit(X_train_bow, y_train)\n",
    "mae_gbr1 = mean_absolute_error(y_test, gbr1.predict(X_test_bow))\n",
    "print(\"MAE on BoW vectors: %.10f, accuracy on TFIDF vectors: %.10f\" % (mae_gbr1, mae_gbr))"
   ]
  },
  {
   "cell_type": "markdown",
   "metadata": {},
   "source": [
    "Лучше всех работают RandomForestRegressor на BoW и GradientBoostingRegressor на TFIDF, подберу для них гиперпараметры через GridSearch. Линейная регрессия (ожидаемо) и метод опорных векторов работают слабо."
   ]
  },
  {
   "cell_type": "code",
   "execution_count": 131,
   "metadata": {},
   "outputs": [
    {
     "name": "stdout",
     "output_type": "stream",
     "text": [
      "После подобра гиперпараметров МАЕ GradientBoosting уменьшилась на 7.904 процентов и составила 688.408\n"
     ]
    }
   ],
   "source": [
    "parameters = {\n",
    "    'n_estimators' : [180, 200, 210, 220],\n",
    "    'learning_rate' : [0.075, 0.08, 0.1],\n",
    "    'max_depth' : [2, 3, 4]\n",
    "}\n",
    "\n",
    "gbr = GradientBoostingRegressor(random_state=42)\n",
    "gbr_cv = GridSearchCV(gbr, parameters).fit(X_train_tfidf, y_train)\n",
    "mae_gbr_new = mean_absolute_error(y_test, gbr_cv.predict(X_test_tfidf))\n",
    "print(\"После подобра гиперпараметров МАЕ GradientBoosting уменьшилась на %.3f процентов и составила %.3f\" % (100-(mae_gbr_new/mae_gbr)*100, mae_gbr_new))"
   ]
  },
  {
   "cell_type": "code",
   "execution_count": 242,
   "metadata": {
    "scrolled": true
   },
   "outputs": [
    {
     "name": "stdout",
     "output_type": "stream",
     "text": [
      "После подобра гиперпараметров МАЕ RandomForest уменьшилась на -1.371 процентов и составила 663.700\n"
     ]
    }
   ],
   "source": [
    "param_grid = { \n",
    "    'n_estimators': range(1, 100, 5)\n",
    "}\n",
    "rfr = RandomForestRegressor()\n",
    "rfr_cv = GridSearchCV(rfr, param_grid).fit(X_train_bow, y_train)\n",
    "mae_rfr_new = mean_absolute_error(y_test, rfr_cv.predict(X_test_bow))\n",
    "print(\"После подобра гиперпараметров МАЕ RandomForest уменьшилась на %.3f процентов и составила %.3f\" % (100-(mae_rfr_new/mae_rfr)*100, mae_rfr_new))"
   ]
  },
  {
   "cell_type": "markdown",
   "metadata": {},
   "source": [
    "К сожалению, после подобора гиперпараметров качество RandomForest даже немного упало, но эта модель все еще остается лучшей. Ожидаемо, RandomForest и GradientBoosting работают лучше других моделей, будучу ансамблевыми методами -- оба метода используют ансамбли слабых моделей, добиваясь хороших предсказаний засчет их количества в ансамбле. Случайный лес лучше работает с небольшим количеством данных, возможно, этим и объясняется то, что в нашем случае он обогнал градиентный бустинг на решающих деревьях: у нас всего около 1000 объектов."
   ]
  },
  {
   "cell_type": "markdown",
   "metadata": {},
   "source": [
    "### №5"
   ]
  },
  {
   "cell_type": "markdown",
   "metadata": {},
   "source": [
    "Здесь я попробую еще немного улучшить качество лучшей модели. Попробую посмотреть на результаты модели на обучающей и тестовой выборке в зависимости от значения n_estimators."
   ]
  },
  {
   "cell_type": "code",
   "execution_count": 244,
   "metadata": {},
   "outputs": [
    {
     "name": "stdout",
     "output_type": "stream",
     "text": [
      "1.0, train: 362.169, test: 820.452\n",
      "6.0, train: 340.512, test: 677.837\n",
      "11.0, train: 329.997, test: 652.176\n",
      "16.0, train: 326.139, test: 646.710\n",
      "21.0, train: 321.264, test: 650.511\n",
      "26.0, train: 320.104, test: 644.268\n",
      "31.0, train: 320.425, test: 645.410\n",
      "36.0, train: 319.439, test: 645.382\n",
      "41.0, train: 316.350, test: 649.842\n",
      "46.0, train: 317.596, test: 648.117\n",
      "51.0, train: 316.765, test: 651.751\n",
      "56.0, train: 315.925, test: 650.880\n",
      "61.0, train: 316.022, test: 653.119\n",
      "66.0, train: 314.790, test: 651.761\n",
      "71.0, train: 314.250, test: 650.258\n",
      "76.0, train: 315.126, test: 648.688\n",
      "81.0, train: 315.320, test: 647.271\n",
      "86.0, train: 315.775, test: 646.503\n",
      "91.0, train: 315.080, test: 644.545\n",
      "96.0, train: 314.791, test: 644.777\n"
     ]
    }
   ],
   "source": [
    "import numpy as np\n",
    "train_scores = []\n",
    "test_scores = []\n",
    "for i in np.arange(1, 100, 5):\n",
    "    model = RandomForestRegressor(random_state=42, n_estimators=i).fit(X_train_bow, y_train)\n",
    "    model.fit(X_train_bow, y_train)\n",
    "    train_yhat = model.predict(X_train_bow)\n",
    "    train_acc = mean_absolute_error(y_train, train_yhat)\n",
    "    train_scores.append(train_acc)\n",
    "    test_yhat = model.predict(X_test_bow)\n",
    "    test_acc = mean_absolute_error(y_test, test_yhat)\n",
    "    test_scores.append(test_acc)\n",
    "    print('%.1f, train: %.3f, test: %.3f' % (i, train_acc, test_acc))"
   ]
  },
  {
   "cell_type": "code",
   "execution_count": 245,
   "metadata": {
    "scrolled": false
   },
   "outputs": [
    {
     "data": {
      "image/png": "[encoded data removed]",
      "text/plain": [
       "<Figure size 432x288 with 1 Axes>"
      ]
     },
     "metadata": {
      "needs_background": "light"
     },
     "output_type": "display_data"
    }
   ],
   "source": [
    "from matplotlib import pyplot\n",
    "pyplot.plot(np.arange(1, 100, 5), train_scores, '-o', label='Train')\n",
    "pyplot.plot(np.arange(1, 100, 5), test_scores, '-o', label='Test')\n",
    "pyplot.legend()\n",
    "pyplot.show()"
   ]
  },
  {
   "cell_type": "markdown",
   "metadata": {},
   "source": [
    "Мы видим, что наилучшее значение на тестовой выборке достигается при n_estimators=26, далее модель уже переобучается."
   ]
  },
  {
   "cell_type": "code",
   "execution_count": 247,
   "metadata": {
    "scrolled": false
   },
   "outputs": [
    {
     "name": "stdout",
     "output_type": "stream",
     "text": [
      "644.2678026100587\n",
      "После подобра гиперпараметров МАЕ RandomForest уменьшилась на 1.597 процентов\n"
     ]
    }
   ],
   "source": [
    "rfr = RandomForestRegressor(random_state=42, n_estimators=26)\n",
    "rfr.fit(X_train_bow, y_train)\n",
    "mae_rfr_new = mean_absolute_error(y_test, rfr.predict(X_test_bow))\n",
    "print(mae_rfr_new)\n",
    "print(\"После подобра гиперпараметров МАЕ RandomForest уменьшилась на %.3f процентов\" % (100-(mae_rfr_new/mae_rfr)*100))"
   ]
  },
  {
   "cell_type": "markdown",
   "metadata": {},
   "source": [
    "Посмотрим на feature importance у нашей лучшей модели."
   ]
  },
  {
   "cell_type": "code",
   "execution_count": 248,
   "metadata": {},
   "outputs": [],
   "source": [
    "rfr.feature_names = list(df1.columns.values)"
   ]
  },
  {
   "cell_type": "code",
   "execution_count": 249,
   "metadata": {
    "scrolled": true
   },
   "outputs": [
    {
     "data": {
      "image/png": "[encoded data removed]",
      "text/plain": [
       "<Figure size 432x288 with 1 Axes>"
      ]
     },
     "metadata": {
      "needs_background": "light"
     },
     "output_type": "display_data"
    }
   ],
   "source": [
    "sorted_idx = rfr.feature_importances_.argsort()\n",
    "plt.barh(np.array(rfr.feature_names)[sorted_idx][-10:], rfr.feature_importances_[sorted_idx][-10:])\n",
    "plt.xlabel(\"Random Forest Feature Importance\");"
   ]
  },
  {
   "cell_type": "markdown",
   "metadata": {},
   "source": [
    "По 10 самым важным для предсказания цены чертам можно предположить, что обувь Nike значительно отличалась по цене от других представленных на сайте брендов. Midsole (межподошва) и leather могли попасть в список потому, что они отличают более качественно сделанную, а значит и более дорогую обувь. Слово stride используется в основном в описании обуви для бега, которая тоже склонна быть дороже среднего. Слова detail и engineered возможно используются в описании обуви с необычными или специально разработанными особенностями -- что также делает эту обувь дороже. Попадание других слов в список остается для меня загадкой, впрочем, черт настолько много, что их важность крайне низка (наибольшее значение -- 0.07%), и почти никакие черты не вносят значительно больший вклад, чем другие/совокупность других.\n",
    "<br>\n",
    "\n",
    "Мне кажется, что работу модели можно было бы улучшить, введя в рассмотрение другие параметры, кроме векторов текста -- например, придуманный мной параметр длины описания, который помогает отличать дорогие вещи от дешевых."
   ]
  },
  {
   "cell_type": "markdown",
   "metadata": {},
   "source": [
    "## Задание 2."
   ]
  },
  {
   "cell_type": "markdown",
   "metadata": {},
   "source": [
    "Подготовим данные. Я буду предсказывать оценку для каждого отзыва. Всего вариантов пять: 1, 2, 3, 4, 5 - поэтому здесь у нас задача многоклассовой классификации."
   ]
  },
  {
   "cell_type": "code",
   "execution_count": 49,
   "metadata": {},
   "outputs": [],
   "source": [
    "def split_all(text, text_type):\n",
    "    reviews = []\n",
    "    texts = text.split(\"||\")\n",
    "    for t in texts:\n",
    "        if text_type == 'rating':\n",
    "            reviews.append(float(t.split()[0]))\n",
    "        else:\n",
    "            reviews.append(t)\n",
    "    return reviews"
   ]
  },
  {
   "cell_type": "code",
   "execution_count": 50,
   "metadata": {},
   "outputs": [],
   "source": [
    "reviews = list(df['reviews'])\n",
    "list_review = []\n",
    "for review in reviews:\n",
    "    list_review.append(split_all(review, 'reviews'))\n",
    "list_review = [item for sublist in list_review for item in sublist]"
   ]
  },
  {
   "cell_type": "code",
   "execution_count": 51,
   "metadata": {},
   "outputs": [],
   "source": [
    "rating = list(df['reviews_rating'])\n",
    "list_rating = []\n",
    "for r in rating:\n",
    "    list_rating.append(split_all(r, 'rating'))\n",
    "list_rating = [item for sublist in list_rating for item in sublist]"
   ]
  },
  {
   "cell_type": "code",
   "execution_count": 52,
   "metadata": {},
   "outputs": [],
   "source": [
    "df_reviews = pd.DataFrame(\n",
    "    {'review': list_review,\n",
    "     'rating': list_rating\n",
    "    })"
   ]
  },
  {
   "cell_type": "code",
   "execution_count": 53,
   "metadata": {},
   "outputs": [
    {
     "data": {
      "text/html": [
       "<div>\n",
       "<style scoped>\n",
       "    .dataframe tbody tr th:only-of-type {\n",
       "        vertical-align: middle;\n",
       "    }\n",
       "\n",
       "    .dataframe tbody tr th {\n",
       "        vertical-align: top;\n",
       "    }\n",
       "\n",
       "    .dataframe thead th {\n",
       "        text-align: right;\n",
       "    }\n",
       "</style>\n",
       "<table border=\"1\" class=\"dataframe\">\n",
       "  <thead>\n",
       "    <tr style=\"text-align: right;\">\n",
       "      <th></th>\n",
       "      <th>review</th>\n",
       "      <th>rating</th>\n",
       "    </tr>\n",
       "  </thead>\n",
       "  <tbody>\n",
       "    <tr>\n",
       "      <th>0</th>\n",
       "      <td>Not happy with product</td>\n",
       "      <td>1.0</td>\n",
       "    </tr>\n",
       "    <tr>\n",
       "      <th>1</th>\n",
       "      <td>It's not as expected.</td>\n",
       "      <td>1.0</td>\n",
       "    </tr>\n",
       "    <tr>\n",
       "      <th>2</th>\n",
       "      <td>AVERAGE PRODUCT</td>\n",
       "      <td>3.0</td>\n",
       "    </tr>\n",
       "    <tr>\n",
       "      <th>3</th>\n",
       "      <td>Pic more beautiful</td>\n",
       "      <td>3.0</td>\n",
       "    </tr>\n",
       "    <tr>\n",
       "      <th>4</th>\n",
       "      <td>Got damage product. But quality is average fo...</td>\n",
       "      <td>3.0</td>\n",
       "    </tr>\n",
       "    <tr>\n",
       "      <th>...</th>\n",
       "      <td>...</td>\n",
       "      <td>...</td>\n",
       "    </tr>\n",
       "    <tr>\n",
       "      <th>8005</th>\n",
       "      <td>Go for it!</td>\n",
       "      <td>5.0</td>\n",
       "    </tr>\n",
       "    <tr>\n",
       "      <th>8006</th>\n",
       "      <td>Excellent product</td>\n",
       "      <td>5.0</td>\n",
       "    </tr>\n",
       "    <tr>\n",
       "      <th>8007</th>\n",
       "      <td>Nice shoe</td>\n",
       "      <td>5.0</td>\n",
       "    </tr>\n",
       "    <tr>\n",
       "      <th>8008</th>\n",
       "      <td>Nice</td>\n",
       "      <td>5.0</td>\n",
       "    </tr>\n",
       "    <tr>\n",
       "      <th>8009</th>\n",
       "      <td>Asics shoes are the best</td>\n",
       "      <td>5.0</td>\n",
       "    </tr>\n",
       "  </tbody>\n",
       "</table>\n",
       "<p>8010 rows × 2 columns</p>\n",
       "</div>"
      ],
      "text/plain": [
       "                                                 review  rating\n",
       "0                                Not happy with product     1.0\n",
       "1                                 It's not as expected.     1.0\n",
       "2                                       AVERAGE PRODUCT     3.0\n",
       "3                                    Pic more beautiful     3.0\n",
       "4      Got damage product. But quality is average fo...     3.0\n",
       "...                                                 ...     ...\n",
       "8005                                         Go for it!     5.0\n",
       "8006                                  Excellent product     5.0\n",
       "8007                                          Nice shoe     5.0\n",
       "8008                                               Nice     5.0\n",
       "8009                           Asics shoes are the best     5.0\n",
       "\n",
       "[8010 rows x 2 columns]"
      ]
     },
     "execution_count": 53,
     "metadata": {},
     "output_type": "execute_result"
    }
   ],
   "source": [
    "df_reviews"
   ]
  },
  {
   "cell_type": "markdown",
   "metadata": {},
   "source": [
    "### №1"
   ]
  },
  {
   "cell_type": "markdown",
   "metadata": {},
   "source": [
    "#### Распределение оценок"
   ]
  },
  {
   "cell_type": "code",
   "execution_count": 54,
   "metadata": {},
   "outputs": [
    {
     "data": {
      "image/png": "[encoded data removed]",
      "text/plain": [
       "<Figure size 432x288 with 1 Axes>"
      ]
     },
     "metadata": {
      "needs_background": "light"
     },
     "output_type": "display_data"
    }
   ],
   "source": [
    "plt.figure()\n",
    "pd.value_counts(df_reviews['rating']).sort_index().plot.bar();"
   ]
  },
  {
   "cell_type": "markdown",
   "metadata": {},
   "source": [
    "Посмотрим на распределение отзывов по классам. Виден значительный перевес в пользу однозначно положительных отзывов (оценка 5)."
   ]
  },
  {
   "cell_type": "markdown",
   "metadata": {},
   "source": [
    "#### Средняя длина отзыва в зависимости от оценки"
   ]
  },
  {
   "cell_type": "code",
   "execution_count": 55,
   "metadata": {
    "scrolled": true
   },
   "outputs": [],
   "source": [
    "df_reviews['len_desc'] = df_reviews.review.apply(count_len)"
   ]
  },
  {
   "cell_type": "code",
   "execution_count": 56,
   "metadata": {},
   "outputs": [
    {
     "data": {
      "image/png": "[encoded data removed]",
      "text/plain": [
       "<Figure size 432x288 with 1 Axes>"
      ]
     },
     "metadata": {
      "needs_background": "light"
     },
     "output_type": "display_data"
    }
   ],
   "source": [
    "plt.bar([1, 2, 3, 4, 5], \n",
    "        [df_reviews[df_reviews[\"rating\"] == 1.0][\"len_desc\"].mean(),\n",
    "        df_reviews[df_reviews[\"rating\"] == 2.0][\"len_desc\"].mean(),\n",
    "        df_reviews[df_reviews[\"rating\"] == 3.0][\"len_desc\"].mean(),\n",
    "        df_reviews[df_reviews[\"rating\"] == 4.0][\"len_desc\"].mean(),\n",
    "        df_reviews[df_reviews[\"rating\"] == 5.0][\"len_desc\"].mean()]);"
   ]
  },
  {
   "cell_type": "markdown",
   "metadata": {},
   "source": [
    "Кажется, что оценка отзыва не сильно зависит от его длины, хотя хорошие отзывы (4-5) все же чуть длиннее. Возможно, черта окажется полезной, оставлю ее в рассмотрении."
   ]
  },
  {
   "cell_type": "markdown",
   "metadata": {},
   "source": [
    "#### Зависимость оценки от того, написан ли отзыв капслоком"
   ]
  },
  {
   "cell_type": "code",
   "execution_count": 57,
   "metadata": {},
   "outputs": [],
   "source": [
    "def caps(string):\n",
    "    return string.isupper()"
   ]
  },
  {
   "cell_type": "code",
   "execution_count": 58,
   "metadata": {},
   "outputs": [],
   "source": [
    "df_reviews['caps'] = df_reviews.review.apply(caps)"
   ]
  },
  {
   "cell_type": "code",
   "execution_count": 59,
   "metadata": {
    "scrolled": true
   },
   "outputs": [
    {
     "data": {
      "text/plain": [
       "3.384"
      ]
     },
     "execution_count": 59,
     "metadata": {},
     "output_type": "execute_result"
    }
   ],
   "source": [
    "df_reviews[df_reviews[\"caps\"] == True][\"rating\"].mean()"
   ]
  },
  {
   "cell_type": "code",
   "execution_count": 60,
   "metadata": {},
   "outputs": [
    {
     "data": {
      "text/plain": [
       "3.7088142041851615"
      ]
     },
     "execution_count": 60,
     "metadata": {},
     "output_type": "execute_result"
    }
   ],
   "source": [
    "df_reviews[df_reviews[\"caps\"] == False][\"rating\"].mean()"
   ]
  },
  {
   "cell_type": "code",
   "execution_count": 61,
   "metadata": {},
   "outputs": [
    {
     "data": {
      "text/plain": [
       "False    7885\n",
       "True      125\n",
       "Name: caps, dtype: int64"
      ]
     },
     "execution_count": 61,
     "metadata": {},
     "output_type": "execute_result"
    }
   ],
   "source": [
    "df_reviews['caps'].value_counts()"
   ]
  },
  {
   "cell_type": "markdown",
   "metadata": {},
   "source": [
    "Попробовала смотреть на значимость капса, эта черта снова вряд ли будет полезна, тк полностью капслоковых описаний совсем мало, убираю ее."
   ]
  },
  {
   "cell_type": "markdown",
   "metadata": {},
   "source": [
    "### №2"
   ]
  },
  {
   "cell_type": "code",
   "execution_count": 62,
   "metadata": {},
   "outputs": [],
   "source": [
    "def preprocess(text):\n",
    "    remove = string.punctuation\n",
    "    remove = remove.replace(\"-\", \"\")\n",
    "    text_nopunc = ''.join([x for x in text if x not in remove]).lower()\n",
    "    text_nopunc = re.sub(r'-(?=\\s|$)','',text_nopunc)\n",
    "    text_proc = [lmtzr.lemmatize(word) for word in word_tokenize(text_nopunc)]\n",
    "    text_proc = ' '.join([x for x in text_proc if x])\n",
    "    return text_proc"
   ]
  },
  {
   "cell_type": "markdown",
   "metadata": {},
   "source": [
    "Здесь я чуть изменю функцию предобработки, не буду убирать стоп-слова, тк отзывы совсем короткие, и если убирать стоп-слова, то от них может совсем ничего не остаться. В остальном логика предобработки та же, что в первой части."
   ]
  },
  {
   "cell_type": "code",
   "execution_count": 64,
   "metadata": {},
   "outputs": [],
   "source": [
    "df_reviews['prep_text'] = df_reviews.review.apply(preprocess)"
   ]
  },
  {
   "cell_type": "markdown",
   "metadata": {},
   "source": [
    "### №3"
   ]
  },
  {
   "cell_type": "code",
   "execution_count": 218,
   "metadata": {},
   "outputs": [],
   "source": [
    "X = df_reviews['prep_text']\n",
    "y = df_reviews['rating']\n",
    "X_train, X_test, y_train, y_test = train_test_split(X, y, test_size=0.35, random_state=42)\n",
    "vectorizer = TfidfVectorizer()\n",
    "vectorizer1 = CountVectorizer()\n",
    "X_train_tfidf = vectorizer.fit_transform(X_train)\n",
    "X_test_tfidf = vectorizer.transform(X_test)\n",
    "X_train_bow = vectorizer1.fit_transform(X_train)\n",
    "X_test_bow = vectorizer1.transform(X_test)"
   ]
  },
  {
   "cell_type": "code",
   "execution_count": 215,
   "metadata": {
    "scrolled": true
   },
   "outputs": [
    {
     "data": {
      "text/html": [
       "<div>\n",
       "<style scoped>\n",
       "    .dataframe tbody tr th:only-of-type {\n",
       "        vertical-align: middle;\n",
       "    }\n",
       "\n",
       "    .dataframe tbody tr th {\n",
       "        vertical-align: top;\n",
       "    }\n",
       "\n",
       "    .dataframe thead th {\n",
       "        text-align: right;\n",
       "    }\n",
       "</style>\n",
       "<table border=\"1\" class=\"dataframe\">\n",
       "  <thead>\n",
       "    <tr style=\"text-align: right;\">\n",
       "      <th></th>\n",
       "      <th>review</th>\n",
       "      <th>rating</th>\n",
       "      <th>len_desc</th>\n",
       "      <th>caps</th>\n",
       "      <th>prep_text</th>\n",
       "    </tr>\n",
       "  </thead>\n",
       "  <tbody>\n",
       "    <tr>\n",
       "      <th>0</th>\n",
       "      <td>Not happy with product</td>\n",
       "      <td>1.0</td>\n",
       "      <td>4</td>\n",
       "      <td>False</td>\n",
       "      <td>not happy with product</td>\n",
       "    </tr>\n",
       "    <tr>\n",
       "      <th>1</th>\n",
       "      <td>It's not as expected.</td>\n",
       "      <td>1.0</td>\n",
       "      <td>4</td>\n",
       "      <td>False</td>\n",
       "      <td>it not a expected</td>\n",
       "    </tr>\n",
       "    <tr>\n",
       "      <th>2</th>\n",
       "      <td>AVERAGE PRODUCT</td>\n",
       "      <td>3.0</td>\n",
       "      <td>2</td>\n",
       "      <td>True</td>\n",
       "      <td>average product</td>\n",
       "    </tr>\n",
       "    <tr>\n",
       "      <th>3</th>\n",
       "      <td>Pic more beautiful</td>\n",
       "      <td>3.0</td>\n",
       "      <td>3</td>\n",
       "      <td>False</td>\n",
       "      <td>pic more beautiful</td>\n",
       "    </tr>\n",
       "    <tr>\n",
       "      <th>4</th>\n",
       "      <td>Got damage product. But quality is average fo...</td>\n",
       "      <td>3.0</td>\n",
       "      <td>9</td>\n",
       "      <td>False</td>\n",
       "      <td>got damage product but quality is average for ...</td>\n",
       "    </tr>\n",
       "    <tr>\n",
       "      <th>...</th>\n",
       "      <td>...</td>\n",
       "      <td>...</td>\n",
       "      <td>...</td>\n",
       "      <td>...</td>\n",
       "      <td>...</td>\n",
       "    </tr>\n",
       "    <tr>\n",
       "      <th>8005</th>\n",
       "      <td>Go for it!</td>\n",
       "      <td>5.0</td>\n",
       "      <td>3</td>\n",
       "      <td>False</td>\n",
       "      <td>go for it</td>\n",
       "    </tr>\n",
       "    <tr>\n",
       "      <th>8006</th>\n",
       "      <td>Excellent product</td>\n",
       "      <td>5.0</td>\n",
       "      <td>2</td>\n",
       "      <td>False</td>\n",
       "      <td>excellent product</td>\n",
       "    </tr>\n",
       "    <tr>\n",
       "      <th>8007</th>\n",
       "      <td>Nice shoe</td>\n",
       "      <td>5.0</td>\n",
       "      <td>2</td>\n",
       "      <td>False</td>\n",
       "      <td>nice shoe</td>\n",
       "    </tr>\n",
       "    <tr>\n",
       "      <th>8008</th>\n",
       "      <td>Nice</td>\n",
       "      <td>5.0</td>\n",
       "      <td>1</td>\n",
       "      <td>False</td>\n",
       "      <td>nice</td>\n",
       "    </tr>\n",
       "    <tr>\n",
       "      <th>8009</th>\n",
       "      <td>Asics shoes are the best</td>\n",
       "      <td>5.0</td>\n",
       "      <td>5</td>\n",
       "      <td>False</td>\n",
       "      <td>asics shoe are the best</td>\n",
       "    </tr>\n",
       "  </tbody>\n",
       "</table>\n",
       "<p>8010 rows × 5 columns</p>\n",
       "</div>"
      ],
      "text/plain": [
       "                                                 review  rating  len_desc  \\\n",
       "0                                Not happy with product     1.0         4   \n",
       "1                                 It's not as expected.     1.0         4   \n",
       "2                                       AVERAGE PRODUCT     3.0         2   \n",
       "3                                    Pic more beautiful     3.0         3   \n",
       "4      Got damage product. But quality is average fo...     3.0         9   \n",
       "...                                                 ...     ...       ...   \n",
       "8005                                         Go for it!     5.0         3   \n",
       "8006                                  Excellent product     5.0         2   \n",
       "8007                                          Nice shoe     5.0         2   \n",
       "8008                                               Nice     5.0         1   \n",
       "8009                           Asics shoes are the best     5.0         5   \n",
       "\n",
       "       caps                                          prep_text  \n",
       "0     False                             not happy with product  \n",
       "1     False                                  it not a expected  \n",
       "2      True                                    average product  \n",
       "3     False                                 pic more beautiful  \n",
       "4     False  got damage product but quality is average for ...  \n",
       "...     ...                                                ...  \n",
       "8005  False                                          go for it  \n",
       "8006  False                                  excellent product  \n",
       "8007  False                                          nice shoe  \n",
       "8008  False                                               nice  \n",
       "8009  False                            asics shoe are the best  \n",
       "\n",
       "[8010 rows x 5 columns]"
      ]
     },
     "execution_count": 215,
     "metadata": {},
     "output_type": "execute_result"
    }
   ],
   "source": [
    "df_reviews"
   ]
  },
  {
   "cell_type": "markdown",
   "metadata": {},
   "source": [
    "### №4"
   ]
  },
  {
   "cell_type": "code",
   "execution_count": 216,
   "metadata": {},
   "outputs": [],
   "source": [
    "from sklearn.linear_model import LogisticRegression\n",
    "from sklearn.tree import DecisionTreeClassifier\n",
    "from sklearn.neighbors import KNeighborsClassifier\n",
    "from sklearn.svm import SVC\n",
    "from sklearn.ensemble import RandomForestClassifier"
   ]
  },
  {
   "cell_type": "code",
   "execution_count": 223,
   "metadata": {},
   "outputs": [
    {
     "name": "stdout",
     "output_type": "stream",
     "text": [
      "Accuracy on BoW vectors: 0.6241084165, accuracy on TFIDF vectors: 0.6212553495\n"
     ]
    }
   ],
   "source": [
    "lr = LogisticRegression(max_iter=1000, random_state=42)\n",
    "lr.fit(X_train_tfidf, y_train)\n",
    "acc_lr = lr.score(X_test_tfidf, y_test)\n",
    "lr1 = LogisticRegression(max_iter=1000, random_state=42)\n",
    "lr1.fit(X_train_bow, y_train)\n",
    "acc_lr1 = lr1.score(X_test_bow, y_test)\n",
    "print(\"Accuracy on BoW vectors: %.10f, accuracy on TFIDF vectors: %.10f\" % (acc_lr1, acc_lr))"
   ]
  },
  {
   "cell_type": "code",
   "execution_count": 225,
   "metadata": {},
   "outputs": [
    {
     "name": "stdout",
     "output_type": "stream",
     "text": [
      "Accuracy on BoW vectors: 0.6012838802, accuracy on TFIDF vectors: 0.5937945792\n"
     ]
    }
   ],
   "source": [
    "dt = DecisionTreeClassifier(random_state=42).fit(X_train_tfidf, y_train)\n",
    "acc_dt = dt.score(X_test_tfidf, y_test)\n",
    "dt1 = DecisionTreeClassifier(random_state=42).fit(X_train_bow, y_train)\n",
    "acc_dt1 = dt1.score(X_test_bow, y_test)\n",
    "print(\"Accuracy on BoW vectors: %.10f, accuracy on TFIDF vectors: %.10f\" % (acc_dt1, acc_dt))"
   ]
  },
  {
   "cell_type": "code",
   "execution_count": 226,
   "metadata": {},
   "outputs": [
    {
     "name": "stdout",
     "output_type": "stream",
     "text": [
      "Accuracy on BoW vectors: 0.5606276748, accuracy on TFIDF vectors: 0.5374465050\n"
     ]
    }
   ],
   "source": [
    "knn_clf = KNeighborsClassifier().fit(X_train_tfidf, y_train)\n",
    "acc_knn = knn_clf.score(X_test_tfidf, y_test)\n",
    "knn_clf1 = KNeighborsClassifier().fit(X_train_bow, y_train)\n",
    "acc_knn1 = knn_clf.score(X_test_bow, y_test)\n",
    "print(\"Accuracy on BoW vectors: %.10f, accuracy on TFIDF vectors: %.10f\" % (acc_knn1, acc_knn))"
   ]
  },
  {
   "cell_type": "code",
   "execution_count": 228,
   "metadata": {},
   "outputs": [
    {
     "name": "stdout",
     "output_type": "stream",
     "text": [
      "Accuracy on BoW vectors: 0.5873751783, accuracy on TFIDF vectors: 0.6433666191\n"
     ]
    }
   ],
   "source": [
    "svc_clf = SVC(random_state=42).fit(X_train_tfidf, y_train)\n",
    "acc_svc = svc_clf.score(X_test_tfidf, y_test)\n",
    "svc_clf1 = SVC(random_state=42).fit(X_train_bow, y_train)\n",
    "acc_svc1 = svc_clf.score(X_test_bow, y_test)\n",
    "print(\"Accuracy on BoW vectors: %.10f, accuracy on TFIDF vectors: %.10f\" % (acc_svc1, acc_svc))"
   ]
  },
  {
   "cell_type": "code",
   "execution_count": 229,
   "metadata": {},
   "outputs": [
    {
     "name": "stdout",
     "output_type": "stream",
     "text": [
      "Accuracy on BoW vectors: 0.6073466476, accuracy on TFIDF vectors: 0.6273181170\n"
     ]
    }
   ],
   "source": [
    "RF_clf = RandomForestClassifier(random_state=42).fit(X_train_tfidf, y_train)\n",
    "acc_rf = RF_clf.score(X_test_tfidf, y_test)\n",
    "RF_clf1 = RandomForestClassifier(random_state=42).fit(X_train_bow, y_train)\n",
    "acc_rf1 = RF_clf.score(X_test_bow, y_test)\n",
    "print(\"Accuracy on BoW vectors: %.10f, accuracy on TFIDF vectors: %.10f\" % (acc_rf1, acc_rf))"
   ]
  },
  {
   "cell_type": "markdown",
   "metadata": {},
   "source": [
    "Лучшие результаты показали RandomForestClassifier и SVC (метод опорных векторов), оба на векторах TFIDF. Буду побирать гиперпараметры для них."
   ]
  },
  {
   "cell_type": "code",
   "execution_count": 110,
   "metadata": {},
   "outputs": [
    {
     "name": "stdout",
     "output_type": "stream",
     "text": [
      "После подобра гиперпараметров accuracy SVC выросла на 0.496 процентов и составила 0.647\n"
     ]
    }
   ],
   "source": [
    "model = SVC(random_state=42)\n",
    "kernel = ['rbf']\n",
    "C = [0.5, 0.75, 1.0, 1.25, 1.5]\n",
    "gamma = ['scale']\n",
    "grid = dict(kernel=kernel,C=C,gamma=gamma)\n",
    "grid_search = GridSearchCV(estimator=model, param_grid=grid, cv=5, scoring='accuracy',error_score=0)\n",
    "grid_result_svc = grid_search.fit(X_train_tfidf, y_train)\n",
    "acc_svc_new = grid_result_svc.score(X_test_tfidf, y_test)\n",
    "print(\"После подобра гиперпараметров accuracy SVC выросла на %.3f процентов и составила %.3f\" % (100-(acc_svc/acc_svc_new)*100, acc_svc_new))"
   ]
  },
  {
   "cell_type": "code",
   "execution_count": 111,
   "metadata": {},
   "outputs": [
    {
     "name": "stdout",
     "output_type": "stream",
     "text": [
      "После подобра гиперпараметров accuracy RandomForestClassifier выросла на 2.169 процентов и составила 0.641\n"
     ]
    }
   ],
   "source": [
    "model = RandomForestClassifier(random_state=42)\n",
    "n_estimators = [10, 100, 1000]\n",
    "max_features = ['sqrt', 'log2']\n",
    "grid = dict(n_estimators=n_estimators,max_features=max_features)\n",
    "grid_search = GridSearchCV(estimator=model, param_grid=grid, cv=5, scoring='accuracy',error_score=0)\n",
    "grid_result_RF = grid_search.fit(X_train_tfidf, y_train)\n",
    "acc_RF_new = grid_result_RF.score(X_test_tfidf, y_test)\n",
    "print(\"После подобра гиперпараметров accuracy RandomForestClassifier выросла на %.3f процентов и составила %.3f\" % (100-(acc_rf/acc_RF_new)*100, acc_RF_new))"
   ]
  },
  {
   "cell_type": "markdown",
   "metadata": {},
   "source": [
    "В данном случае лучше всего сработали метод опорных векторов и случайный лес. Метод опорных векторов хорошо работает в случаях с большим количеством черт (как раз наш случай, использование векторизованных текстов ведет к появлению огромного количества черт). И случайные леса, и метод опорных векторов хорошо работают с не слишком большим количеством данных (в нашем случае -- 8010 объектов)."
   ]
  },
  {
   "cell_type": "markdown",
   "metadata": {},
   "source": [
    "### №5"
   ]
  },
  {
   "cell_type": "markdown",
   "metadata": {},
   "source": [
    "Лучший результат все еще дает метод опорных векторов, будем анализировать его."
   ]
  },
  {
   "cell_type": "code",
   "execution_count": 139,
   "metadata": {},
   "outputs": [],
   "source": [
    "y_pred = grid_result_svc.predict(X_test_tfidf)\n",
    "y_pred_train = grid_result_svc.predict(X_train_tfidf)"
   ]
  },
  {
   "cell_type": "code",
   "execution_count": 140,
   "metadata": {},
   "outputs": [],
   "source": [
    "from sklearn.metrics import confusion_matrix\n",
    "\n",
    "cm_test = confusion_matrix(y_test, y_pred)\n",
    "cm = confusion_matrix(y_train, y_pred_train)"
   ]
  },
  {
   "cell_type": "code",
   "execution_count": 141,
   "metadata": {
    "scrolled": true
   },
   "outputs": [
    {
     "data": {
      "image/png": "[encoded data removed]",
      "text/plain": [
       "<Figure size 432x288 with 2 Axes>"
      ]
     },
     "metadata": {
      "needs_background": "light"
     },
     "output_type": "display_data"
    }
   ],
   "source": [
    "df_cm = pd.DataFrame(cm, index = [1, 2, 3, 4, 5],\n",
    "                  columns = [1, 2, 3, 4, 5])\n",
    "sns.heatmap(df_cm, annot=True, fmt='g')\n",
    "plt.title(\"Confusion matrix for train data\") \n",
    "plt.show()"
   ]
  },
  {
   "cell_type": "code",
   "execution_count": 142,
   "metadata": {
    "scrolled": false
   },
   "outputs": [
    {
     "data": {
      "image/png": "[encoded data removed]",
      "text/plain": [
       "<Figure size 432x288 with 2 Axes>"
      ]
     },
     "metadata": {
      "needs_background": "light"
     },
     "output_type": "display_data"
    }
   ],
   "source": [
    "df_cm = pd.DataFrame(cm_test, index = [1, 2, 3, 4, 5],\n",
    "                  columns = [1, 2, 3, 4, 5])\n",
    "sns.heatmap(df_cm, annot=True, fmt='g')\n",
    "plt.title(\"Confusion matrix for test data\") \n",
    "plt.show()"
   ]
  },
  {
   "cell_type": "code",
   "execution_count": 144,
   "metadata": {},
   "outputs": [
    {
     "name": "stdout",
     "output_type": "stream",
     "text": [
      "              precision    recall  f1-score   support\n",
      "\n",
      "         1.0       0.70      0.74      0.72       559\n",
      "         2.0       0.57      0.15      0.24       169\n",
      "         3.0       0.46      0.28      0.35       229\n",
      "         4.0       0.43      0.13      0.20       538\n",
      "         5.0       0.66      0.94      0.78      1309\n",
      "\n",
      "    accuracy                           0.65      2804\n",
      "   macro avg       0.57      0.45      0.46      2804\n",
      "weighted avg       0.61      0.65      0.59      2804\n",
      "\n"
     ]
    }
   ],
   "source": [
    "from sklearn.metrics import classification_report\n",
    "print(classification_report(y_test, y_pred))"
   ]
  },
  {
   "cell_type": "markdown",
   "metadata": {},
   "source": [
    "Посмотрев на classification report для тестовой выборки и матрицу ошибок для обучающей и тестовой выборки, мы видим, что наибольшие проблемы у модели возникают с предсказанием оценки для \"средних\" отзывов (оценка 2, 3, 4). Радикально отрицательные и радикально положительные отзывы предсказываются значительно лучше. Я думаю, это может быть связано:\n",
    "- во-первых, с неравновесием классов (отзывов с оценкой 5 в датасете почти столько же, сколько отзывов с другими оценками вместе взятых; отзывов с оценкой 1 почти столько же, сколько отзывов с оценками 2,3,4 вместе взятых) \n",
    "<br>\n",
    "\n",
    "- во-вторых, с особенностями наших данных -- логично предположить, что в \"средних\" отзывах пользователь будет менее эмоционален и будет использовать меньше однозначно окрашенных слов, чем в радикально положительных/отрицательных отзывах.\n",
    "<br>\n",
    "\n",
    "Отмечу, что на обучающей выборке модель значительно лучше справляется со \"средними\" классами. Предсказуемо, что модель чаще всего путает ближайшие классы (оценку 1 с оценкой 2 или оценку 3 с оценкой 4).\n",
    "<br>\n",
    "\n",
    "Мне кажется, что улучшить качество работы модели можно было бы, использовав дополнительные черты, о которых я писала в №2, такие как длина текста и наличие капслока. Кроме того, можно было бы попытаться использовать one-vs-rest классификацию, она может дать лучший результат при наличии близких друг к другу классов."
   ]
  }
 ],
 "metadata": {
  "kernelspec": {
   "display_name": "Python 3",
   "language": "python",
   "name": "python3"
  },
  "language_info": {
   "codemirror_mode": {
    "name": "ipython",
    "version": 3
   },
   "file_extension": ".py",
   "mimetype": "text/x-python",
   "name": "python",
   "nbconvert_exporter": "python",
   "pygments_lexer": "ipython3",
   "version": "3.8.8"
  }
 },
 "nbformat": 4,
 "nbformat_minor": 4
}

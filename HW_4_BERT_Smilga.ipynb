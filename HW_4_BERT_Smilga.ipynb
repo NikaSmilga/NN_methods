{
  "nbformat": 4,
  "nbformat_minor": 0,
  "metadata": {
    "colab": {
      "name": "HW_4_BERT_Smilga.ipynb",
      "provenance": [],
      "collapsed_sections": []
    },
    "kernelspec": {
      "name": "python3",
      "display_name": "Python 3"
    },
    "language_info": {
      "name": "python"
    },
    "accelerator": "GPU",
    "widgets": {
      "application/vnd.jupyter.widget-state+json": {
        "a87298e603a545728ff8532ea45a9cff": {
          "model_module": "@jupyter-widgets/controls",
          "model_name": "HBoxModel",
          "model_module_version": "1.5.0",
          "state": {
            "_dom_classes": [],
            "_model_module": "@jupyter-widgets/controls",
            "_model_module_version": "1.5.0",
            "_model_name": "HBoxModel",
            "_view_count": null,
            "_view_module": "@jupyter-widgets/controls",
            "_view_module_version": "1.5.0",
            "_view_name": "HBoxView",
            "box_style": "",
            "children": [
              "IPY_MODEL_3f3df93033a645ea9d38d0ed9a6ecb6c",
              "IPY_MODEL_a99cc94d15ed43ce946842e76dca3f1b",
              "IPY_MODEL_26a763119b5540838ccca96fead70256"
            ],
            "layout": "IPY_MODEL_91324c82dea64d90bbe67be1fdccc5c7"
          }
        },
        "3f3df93033a645ea9d38d0ed9a6ecb6c": {
          "model_module": "@jupyter-widgets/controls",
          "model_name": "HTMLModel",
          "model_module_version": "1.5.0",
          "state": {
            "_dom_classes": [],
            "_model_module": "@jupyter-widgets/controls",
            "_model_module_version": "1.5.0",
            "_model_name": "HTMLModel",
            "_view_count": null,
            "_view_module": "@jupyter-widgets/controls",
            "_view_module_version": "1.5.0",
            "_view_name": "HTMLView",
            "description": "",
            "description_tooltip": null,
            "layout": "IPY_MODEL_cd058220bce04c41b61851123d7c09a2",
            "placeholder": "​",
            "style": "IPY_MODEL_1da0756dc4e84db9b49eedc935f71e87",
            "value": "Downloading: 100%"
          }
        },
        "a99cc94d15ed43ce946842e76dca3f1b": {
          "model_module": "@jupyter-widgets/controls",
          "model_name": "FloatProgressModel",
          "model_module_version": "1.5.0",
          "state": {
            "_dom_classes": [],
            "_model_module": "@jupyter-widgets/controls",
            "_model_module_version": "1.5.0",
            "_model_name": "FloatProgressModel",
            "_view_count": null,
            "_view_module": "@jupyter-widgets/controls",
            "_view_module_version": "1.5.0",
            "_view_name": "ProgressView",
            "bar_style": "success",
            "description": "",
            "description_tooltip": null,
            "layout": "IPY_MODEL_6ee91988159b4f8abf95fcb63ac436d2",
            "max": 231508,
            "min": 0,
            "orientation": "horizontal",
            "style": "IPY_MODEL_1e692c6842e24a749191ee5bbe990a7f",
            "value": 231508
          }
        },
        "26a763119b5540838ccca96fead70256": {
          "model_module": "@jupyter-widgets/controls",
          "model_name": "HTMLModel",
          "model_module_version": "1.5.0",
          "state": {
            "_dom_classes": [],
            "_model_module": "@jupyter-widgets/controls",
            "_model_module_version": "1.5.0",
            "_model_name": "HTMLModel",
            "_view_count": null,
            "_view_module": "@jupyter-widgets/controls",
            "_view_module_version": "1.5.0",
            "_view_name": "HTMLView",
            "description": "",
            "description_tooltip": null,
            "layout": "IPY_MODEL_9ad33343ad684e5ab534ccb7cac5650e",
            "placeholder": "​",
            "style": "IPY_MODEL_c33f04858ea84ae68f4af038a62ef1a4",
            "value": " 226k/226k [00:00&lt;00:00, 8.71kB/s]"
          }
        },
        "91324c82dea64d90bbe67be1fdccc5c7": {
          "model_module": "@jupyter-widgets/base",
          "model_name": "LayoutModel",
          "model_module_version": "1.2.0",
          "state": {
            "_model_module": "@jupyter-widgets/base",
            "_model_module_version": "1.2.0",
            "_model_name": "LayoutModel",
            "_view_count": null,
            "_view_module": "@jupyter-widgets/base",
            "_view_module_version": "1.2.0",
            "_view_name": "LayoutView",
            "align_content": null,
            "align_items": null,
            "align_self": null,
            "border": null,
            "bottom": null,
            "display": null,
            "flex": null,
            "flex_flow": null,
            "grid_area": null,
            "grid_auto_columns": null,
            "grid_auto_flow": null,
            "grid_auto_rows": null,
            "grid_column": null,
            "grid_gap": null,
            "grid_row": null,
            "grid_template_areas": null,
            "grid_template_columns": null,
            "grid_template_rows": null,
            "height": null,
            "justify_content": null,
            "justify_items": null,
            "left": null,
            "margin": null,
            "max_height": null,
            "max_width": null,
            "min_height": null,
            "min_width": null,
            "object_fit": null,
            "object_position": null,
            "order": null,
            "overflow": null,
            "overflow_x": null,
            "overflow_y": null,
            "padding": null,
            "right": null,
            "top": null,
            "visibility": null,
            "width": null
          }
        },
        "cd058220bce04c41b61851123d7c09a2": {
          "model_module": "@jupyter-widgets/base",
          "model_name": "LayoutModel",
          "model_module_version": "1.2.0",
          "state": {
            "_model_module": "@jupyter-widgets/base",
            "_model_module_version": "1.2.0",
            "_model_name": "LayoutModel",
            "_view_count": null,
            "_view_module": "@jupyter-widgets/base",
            "_view_module_version": "1.2.0",
            "_view_name": "LayoutView",
            "align_content": null,
            "align_items": null,
            "align_self": null,
            "border": null,
            "bottom": null,
            "display": null,
            "flex": null,
            "flex_flow": null,
            "grid_area": null,
            "grid_auto_columns": null,
            "grid_auto_flow": null,
            "grid_auto_rows": null,
            "grid_column": null,
            "grid_gap": null,
            "grid_row": null,
            "grid_template_areas": null,
            "grid_template_columns": null,
            "grid_template_rows": null,
            "height": null,
            "justify_content": null,
            "justify_items": null,
            "left": null,
            "margin": null,
            "max_height": null,
            "max_width": null,
            "min_height": null,
            "min_width": null,
            "object_fit": null,
            "object_position": null,
            "order": null,
            "overflow": null,
            "overflow_x": null,
            "overflow_y": null,
            "padding": null,
            "right": null,
            "top": null,
            "visibility": null,
            "width": null
          }
        },
        "1da0756dc4e84db9b49eedc935f71e87": {
          "model_module": "@jupyter-widgets/controls",
          "model_name": "DescriptionStyleModel",
          "model_module_version": "1.5.0",
          "state": {
            "_model_module": "@jupyter-widgets/controls",
            "_model_module_version": "1.5.0",
            "_model_name": "DescriptionStyleModel",
            "_view_count": null,
            "_view_module": "@jupyter-widgets/base",
            "_view_module_version": "1.2.0",
            "_view_name": "StyleView",
            "description_width": ""
          }
        },
        "6ee91988159b4f8abf95fcb63ac436d2": {
          "model_module": "@jupyter-widgets/base",
          "model_name": "LayoutModel",
          "model_module_version": "1.2.0",
          "state": {
            "_model_module": "@jupyter-widgets/base",
            "_model_module_version": "1.2.0",
            "_model_name": "LayoutModel",
            "_view_count": null,
            "_view_module": "@jupyter-widgets/base",
            "_view_module_version": "1.2.0",
            "_view_name": "LayoutView",
            "align_content": null,
            "align_items": null,
            "align_self": null,
            "border": null,
            "bottom": null,
            "display": null,
            "flex": null,
            "flex_flow": null,
            "grid_area": null,
            "grid_auto_columns": null,
            "grid_auto_flow": null,
            "grid_auto_rows": null,
            "grid_column": null,
            "grid_gap": null,
            "grid_row": null,
            "grid_template_areas": null,
            "grid_template_columns": null,
            "grid_template_rows": null,
            "height": null,
            "justify_content": null,
            "justify_items": null,
            "left": null,
            "margin": null,
            "max_height": null,
            "max_width": null,
            "min_height": null,
            "min_width": null,
            "object_fit": null,
            "object_position": null,
            "order": null,
            "overflow": null,
            "overflow_x": null,
            "overflow_y": null,
            "padding": null,
            "right": null,
            "top": null,
            "visibility": null,
            "width": null
          }
        },
        "1e692c6842e24a749191ee5bbe990a7f": {
          "model_module": "@jupyter-widgets/controls",
          "model_name": "ProgressStyleModel",
          "model_module_version": "1.5.0",
          "state": {
            "_model_module": "@jupyter-widgets/controls",
            "_model_module_version": "1.5.0",
            "_model_name": "ProgressStyleModel",
            "_view_count": null,
            "_view_module": "@jupyter-widgets/base",
            "_view_module_version": "1.2.0",
            "_view_name": "StyleView",
            "bar_color": null,
            "description_width": ""
          }
        },
        "9ad33343ad684e5ab534ccb7cac5650e": {
          "model_module": "@jupyter-widgets/base",
          "model_name": "LayoutModel",
          "model_module_version": "1.2.0",
          "state": {
            "_model_module": "@jupyter-widgets/base",
            "_model_module_version": "1.2.0",
            "_model_name": "LayoutModel",
            "_view_count": null,
            "_view_module": "@jupyter-widgets/base",
            "_view_module_version": "1.2.0",
            "_view_name": "LayoutView",
            "align_content": null,
            "align_items": null,
            "align_self": null,
            "border": null,
            "bottom": null,
            "display": null,
            "flex": null,
            "flex_flow": null,
            "grid_area": null,
            "grid_auto_columns": null,
            "grid_auto_flow": null,
            "grid_auto_rows": null,
            "grid_column": null,
            "grid_gap": null,
            "grid_row": null,
            "grid_template_areas": null,
            "grid_template_columns": null,
            "grid_template_rows": null,
            "height": null,
            "justify_content": null,
            "justify_items": null,
            "left": null,
            "margin": null,
            "max_height": null,
            "max_width": null,
            "min_height": null,
            "min_width": null,
            "object_fit": null,
            "object_position": null,
            "order": null,
            "overflow": null,
            "overflow_x": null,
            "overflow_y": null,
            "padding": null,
            "right": null,
            "top": null,
            "visibility": null,
            "width": null
          }
        },
        "c33f04858ea84ae68f4af038a62ef1a4": {
          "model_module": "@jupyter-widgets/controls",
          "model_name": "DescriptionStyleModel",
          "model_module_version": "1.5.0",
          "state": {
            "_model_module": "@jupyter-widgets/controls",
            "_model_module_version": "1.5.0",
            "_model_name": "DescriptionStyleModel",
            "_view_count": null,
            "_view_module": "@jupyter-widgets/base",
            "_view_module_version": "1.2.0",
            "_view_name": "StyleView",
            "description_width": ""
          }
        },
        "775853e2326649a9bbbd9bd7ccd08346": {
          "model_module": "@jupyter-widgets/controls",
          "model_name": "HBoxModel",
          "model_module_version": "1.5.0",
          "state": {
            "_dom_classes": [],
            "_model_module": "@jupyter-widgets/controls",
            "_model_module_version": "1.5.0",
            "_model_name": "HBoxModel",
            "_view_count": null,
            "_view_module": "@jupyter-widgets/controls",
            "_view_module_version": "1.5.0",
            "_view_name": "HBoxView",
            "box_style": "",
            "children": [
              "IPY_MODEL_2d0cb80c685f417a88250909f31e859e",
              "IPY_MODEL_ad0351e08ace45a1beef113927e996c1",
              "IPY_MODEL_9522b17610a0403aa8577bbb21eaa1cb"
            ],
            "layout": "IPY_MODEL_b4d02a4b78784b53b6e869e3b5ebf09e"
          }
        },
        "2d0cb80c685f417a88250909f31e859e": {
          "model_module": "@jupyter-widgets/controls",
          "model_name": "HTMLModel",
          "model_module_version": "1.5.0",
          "state": {
            "_dom_classes": [],
            "_model_module": "@jupyter-widgets/controls",
            "_model_module_version": "1.5.0",
            "_model_name": "HTMLModel",
            "_view_count": null,
            "_view_module": "@jupyter-widgets/controls",
            "_view_module_version": "1.5.0",
            "_view_name": "HTMLView",
            "description": "",
            "description_tooltip": null,
            "layout": "IPY_MODEL_7fd8139601d348c8abb8da8217ec676d",
            "placeholder": "​",
            "style": "IPY_MODEL_3808f6fab04f4daab577bc0c40cc27b9",
            "value": "Downloading: 100%"
          }
        },
        "ad0351e08ace45a1beef113927e996c1": {
          "model_module": "@jupyter-widgets/controls",
          "model_name": "FloatProgressModel",
          "model_module_version": "1.5.0",
          "state": {
            "_dom_classes": [],
            "_model_module": "@jupyter-widgets/controls",
            "_model_module_version": "1.5.0",
            "_model_name": "FloatProgressModel",
            "_view_count": null,
            "_view_module": "@jupyter-widgets/controls",
            "_view_module_version": "1.5.0",
            "_view_name": "ProgressView",
            "bar_style": "success",
            "description": "",
            "description_tooltip": null,
            "layout": "IPY_MODEL_4672fd54286c410db6b0785ed303ef67",
            "max": 285,
            "min": 0,
            "orientation": "horizontal",
            "style": "IPY_MODEL_2ef0ef4d4a984365a8894948cd2b38b7",
            "value": 285
          }
        },
        "9522b17610a0403aa8577bbb21eaa1cb": {
          "model_module": "@jupyter-widgets/controls",
          "model_name": "HTMLModel",
          "model_module_version": "1.5.0",
          "state": {
            "_dom_classes": [],
            "_model_module": "@jupyter-widgets/controls",
            "_model_module_version": "1.5.0",
            "_model_name": "HTMLModel",
            "_view_count": null,
            "_view_module": "@jupyter-widgets/controls",
            "_view_module_version": "1.5.0",
            "_view_name": "HTMLView",
            "description": "",
            "description_tooltip": null,
            "layout": "IPY_MODEL_4351f89b146a465cab74968cab8b6ffa",
            "placeholder": "​",
            "style": "IPY_MODEL_91e0d376773f4126b8700a5138fd2653",
            "value": " 285/285 [00:00&lt;00:00, 4.36kB/s]"
          }
        },
        "b4d02a4b78784b53b6e869e3b5ebf09e": {
          "model_module": "@jupyter-widgets/base",
          "model_name": "LayoutModel",
          "model_module_version": "1.2.0",
          "state": {
            "_model_module": "@jupyter-widgets/base",
            "_model_module_version": "1.2.0",
            "_model_name": "LayoutModel",
            "_view_count": null,
            "_view_module": "@jupyter-widgets/base",
            "_view_module_version": "1.2.0",
            "_view_name": "LayoutView",
            "align_content": null,
            "align_items": null,
            "align_self": null,
            "border": null,
            "bottom": null,
            "display": null,
            "flex": null,
            "flex_flow": null,
            "grid_area": null,
            "grid_auto_columns": null,
            "grid_auto_flow": null,
            "grid_auto_rows": null,
            "grid_column": null,
            "grid_gap": null,
            "grid_row": null,
            "grid_template_areas": null,
            "grid_template_columns": null,
            "grid_template_rows": null,
            "height": null,
            "justify_content": null,
            "justify_items": null,
            "left": null,
            "margin": null,
            "max_height": null,
            "max_width": null,
            "min_height": null,
            "min_width": null,
            "object_fit": null,
            "object_position": null,
            "order": null,
            "overflow": null,
            "overflow_x": null,
            "overflow_y": null,
            "padding": null,
            "right": null,
            "top": null,
            "visibility": null,
            "width": null
          }
        },
        "7fd8139601d348c8abb8da8217ec676d": {
          "model_module": "@jupyter-widgets/base",
          "model_name": "LayoutModel",
          "model_module_version": "1.2.0",
          "state": {
            "_model_module": "@jupyter-widgets/base",
            "_model_module_version": "1.2.0",
            "_model_name": "LayoutModel",
            "_view_count": null,
            "_view_module": "@jupyter-widgets/base",
            "_view_module_version": "1.2.0",
            "_view_name": "LayoutView",
            "align_content": null,
            "align_items": null,
            "align_self": null,
            "border": null,
            "bottom": null,
            "display": null,
            "flex": null,
            "flex_flow": null,
            "grid_area": null,
            "grid_auto_columns": null,
            "grid_auto_flow": null,
            "grid_auto_rows": null,
            "grid_column": null,
            "grid_gap": null,
            "grid_row": null,
            "grid_template_areas": null,
            "grid_template_columns": null,
            "grid_template_rows": null,
            "height": null,
            "justify_content": null,
            "justify_items": null,
            "left": null,
            "margin": null,
            "max_height": null,
            "max_width": null,
            "min_height": null,
            "min_width": null,
            "object_fit": null,
            "object_position": null,
            "order": null,
            "overflow": null,
            "overflow_x": null,
            "overflow_y": null,
            "padding": null,
            "right": null,
            "top": null,
            "visibility": null,
            "width": null
          }
        },
        "3808f6fab04f4daab577bc0c40cc27b9": {
          "model_module": "@jupyter-widgets/controls",
          "model_name": "DescriptionStyleModel",
          "model_module_version": "1.5.0",
          "state": {
            "_model_module": "@jupyter-widgets/controls",
            "_model_module_version": "1.5.0",
            "_model_name": "DescriptionStyleModel",
            "_view_count": null,
            "_view_module": "@jupyter-widgets/base",
            "_view_module_version": "1.2.0",
            "_view_name": "StyleView",
            "description_width": ""
          }
        },
        "4672fd54286c410db6b0785ed303ef67": {
          "model_module": "@jupyter-widgets/base",
          "model_name": "LayoutModel",
          "model_module_version": "1.2.0",
          "state": {
            "_model_module": "@jupyter-widgets/base",
            "_model_module_version": "1.2.0",
            "_model_name": "LayoutModel",
            "_view_count": null,
            "_view_module": "@jupyter-widgets/base",
            "_view_module_version": "1.2.0",
            "_view_name": "LayoutView",
            "align_content": null,
            "align_items": null,
            "align_self": null,
            "border": null,
            "bottom": null,
            "display": null,
            "flex": null,
            "flex_flow": null,
            "grid_area": null,
            "grid_auto_columns": null,
            "grid_auto_flow": null,
            "grid_auto_rows": null,
            "grid_column": null,
            "grid_gap": null,
            "grid_row": null,
            "grid_template_areas": null,
            "grid_template_columns": null,
            "grid_template_rows": null,
            "height": null,
            "justify_content": null,
            "justify_items": null,
            "left": null,
            "margin": null,
            "max_height": null,
            "max_width": null,
            "min_height": null,
            "min_width": null,
            "object_fit": null,
            "object_position": null,
            "order": null,
            "overflow": null,
            "overflow_x": null,
            "overflow_y": null,
            "padding": null,
            "right": null,
            "top": null,
            "visibility": null,
            "width": null
          }
        },
        "2ef0ef4d4a984365a8894948cd2b38b7": {
          "model_module": "@jupyter-widgets/controls",
          "model_name": "ProgressStyleModel",
          "model_module_version": "1.5.0",
          "state": {
            "_model_module": "@jupyter-widgets/controls",
            "_model_module_version": "1.5.0",
            "_model_name": "ProgressStyleModel",
            "_view_count": null,
            "_view_module": "@jupyter-widgets/base",
            "_view_module_version": "1.2.0",
            "_view_name": "StyleView",
            "bar_color": null,
            "description_width": ""
          }
        },
        "4351f89b146a465cab74968cab8b6ffa": {
          "model_module": "@jupyter-widgets/base",
          "model_name": "LayoutModel",
          "model_module_version": "1.2.0",
          "state": {
            "_model_module": "@jupyter-widgets/base",
            "_model_module_version": "1.2.0",
            "_model_name": "LayoutModel",
            "_view_count": null,
            "_view_module": "@jupyter-widgets/base",
            "_view_module_version": "1.2.0",
            "_view_name": "LayoutView",
            "align_content": null,
            "align_items": null,
            "align_self": null,
            "border": null,
            "bottom": null,
            "display": null,
            "flex": null,
            "flex_flow": null,
            "grid_area": null,
            "grid_auto_columns": null,
            "grid_auto_flow": null,
            "grid_auto_rows": null,
            "grid_column": null,
            "grid_gap": null,
            "grid_row": null,
            "grid_template_areas": null,
            "grid_template_columns": null,
            "grid_template_rows": null,
            "height": null,
            "justify_content": null,
            "justify_items": null,
            "left": null,
            "margin": null,
            "max_height": null,
            "max_width": null,
            "min_height": null,
            "min_width": null,
            "object_fit": null,
            "object_position": null,
            "order": null,
            "overflow": null,
            "overflow_x": null,
            "overflow_y": null,
            "padding": null,
            "right": null,
            "top": null,
            "visibility": null,
            "width": null
          }
        },
        "91e0d376773f4126b8700a5138fd2653": {
          "model_module": "@jupyter-widgets/controls",
          "model_name": "DescriptionStyleModel",
          "model_module_version": "1.5.0",
          "state": {
            "_model_module": "@jupyter-widgets/controls",
            "_model_module_version": "1.5.0",
            "_model_name": "DescriptionStyleModel",
            "_view_count": null,
            "_view_module": "@jupyter-widgets/base",
            "_view_module_version": "1.2.0",
            "_view_name": "StyleView",
            "description_width": ""
          }
        },
        "46f2b5511e6049f7bfe69a986082a343": {
          "model_module": "@jupyter-widgets/controls",
          "model_name": "HBoxModel",
          "model_module_version": "1.5.0",
          "state": {
            "_dom_classes": [],
            "_model_module": "@jupyter-widgets/controls",
            "_model_module_version": "1.5.0",
            "_model_name": "HBoxModel",
            "_view_count": null,
            "_view_module": "@jupyter-widgets/controls",
            "_view_module_version": "1.5.0",
            "_view_name": "HBoxView",
            "box_style": "",
            "children": [
              "IPY_MODEL_836c0e1d98ff4052a30265029db252b4",
              "IPY_MODEL_6e1c05e421c04706b6a332888eca4712",
              "IPY_MODEL_b559241de9b04e78a0d3dbabff1801d9"
            ],
            "layout": "IPY_MODEL_a4e2a6d052944a33a0205d40486898cb"
          }
        },
        "836c0e1d98ff4052a30265029db252b4": {
          "model_module": "@jupyter-widgets/controls",
          "model_name": "HTMLModel",
          "model_module_version": "1.5.0",
          "state": {
            "_dom_classes": [],
            "_model_module": "@jupyter-widgets/controls",
            "_model_module_version": "1.5.0",
            "_model_name": "HTMLModel",
            "_view_count": null,
            "_view_module": "@jupyter-widgets/controls",
            "_view_module_version": "1.5.0",
            "_view_name": "HTMLView",
            "description": "",
            "description_tooltip": null,
            "layout": "IPY_MODEL_bb31b2c0c59d4ccb95a350028ac5bd1b",
            "placeholder": "​",
            "style": "IPY_MODEL_2aa02513b0d0455099e7423258b7bbd6",
            "value": "100%"
          }
        },
        "6e1c05e421c04706b6a332888eca4712": {
          "model_module": "@jupyter-widgets/controls",
          "model_name": "FloatProgressModel",
          "model_module_version": "1.5.0",
          "state": {
            "_dom_classes": [],
            "_model_module": "@jupyter-widgets/controls",
            "_model_module_version": "1.5.0",
            "_model_name": "FloatProgressModel",
            "_view_count": null,
            "_view_module": "@jupyter-widgets/controls",
            "_view_module_version": "1.5.0",
            "_view_name": "ProgressView",
            "bar_style": "success",
            "description": "",
            "description_tooltip": null,
            "layout": "IPY_MODEL_ef33e4e7514848798ea54f47fafc4d1b",
            "max": 15,
            "min": 0,
            "orientation": "horizontal",
            "style": "IPY_MODEL_fb1a37330e2342d6b88b89e439558d4b",
            "value": 15
          }
        },
        "b559241de9b04e78a0d3dbabff1801d9": {
          "model_module": "@jupyter-widgets/controls",
          "model_name": "HTMLModel",
          "model_module_version": "1.5.0",
          "state": {
            "_dom_classes": [],
            "_model_module": "@jupyter-widgets/controls",
            "_model_module_version": "1.5.0",
            "_model_name": "HTMLModel",
            "_view_count": null,
            "_view_module": "@jupyter-widgets/controls",
            "_view_module_version": "1.5.0",
            "_view_name": "HTMLView",
            "description": "",
            "description_tooltip": null,
            "layout": "IPY_MODEL_9c774f1b963b43929e541ec8cce2ec85",
            "placeholder": "​",
            "style": "IPY_MODEL_662ac50990564f23abf1d25610481657",
            "value": " 15/15 [00:15&lt;00:00,  1.38ba/s]"
          }
        },
        "a4e2a6d052944a33a0205d40486898cb": {
          "model_module": "@jupyter-widgets/base",
          "model_name": "LayoutModel",
          "model_module_version": "1.2.0",
          "state": {
            "_model_module": "@jupyter-widgets/base",
            "_model_module_version": "1.2.0",
            "_model_name": "LayoutModel",
            "_view_count": null,
            "_view_module": "@jupyter-widgets/base",
            "_view_module_version": "1.2.0",
            "_view_name": "LayoutView",
            "align_content": null,
            "align_items": null,
            "align_self": null,
            "border": null,
            "bottom": null,
            "display": null,
            "flex": null,
            "flex_flow": null,
            "grid_area": null,
            "grid_auto_columns": null,
            "grid_auto_flow": null,
            "grid_auto_rows": null,
            "grid_column": null,
            "grid_gap": null,
            "grid_row": null,
            "grid_template_areas": null,
            "grid_template_columns": null,
            "grid_template_rows": null,
            "height": null,
            "justify_content": null,
            "justify_items": null,
            "left": null,
            "margin": null,
            "max_height": null,
            "max_width": null,
            "min_height": null,
            "min_width": null,
            "object_fit": null,
            "object_position": null,
            "order": null,
            "overflow": null,
            "overflow_x": null,
            "overflow_y": null,
            "padding": null,
            "right": null,
            "top": null,
            "visibility": null,
            "width": null
          }
        },
        "bb31b2c0c59d4ccb95a350028ac5bd1b": {
          "model_module": "@jupyter-widgets/base",
          "model_name": "LayoutModel",
          "model_module_version": "1.2.0",
          "state": {
            "_model_module": "@jupyter-widgets/base",
            "_model_module_version": "1.2.0",
            "_model_name": "LayoutModel",
            "_view_count": null,
            "_view_module": "@jupyter-widgets/base",
            "_view_module_version": "1.2.0",
            "_view_name": "LayoutView",
            "align_content": null,
            "align_items": null,
            "align_self": null,
            "border": null,
            "bottom": null,
            "display": null,
            "flex": null,
            "flex_flow": null,
            "grid_area": null,
            "grid_auto_columns": null,
            "grid_auto_flow": null,
            "grid_auto_rows": null,
            "grid_column": null,
            "grid_gap": null,
            "grid_row": null,
            "grid_template_areas": null,
            "grid_template_columns": null,
            "grid_template_rows": null,
            "height": null,
            "justify_content": null,
            "justify_items": null,
            "left": null,
            "margin": null,
            "max_height": null,
            "max_width": null,
            "min_height": null,
            "min_width": null,
            "object_fit": null,
            "object_position": null,
            "order": null,
            "overflow": null,
            "overflow_x": null,
            "overflow_y": null,
            "padding": null,
            "right": null,
            "top": null,
            "visibility": null,
            "width": null
          }
        },
        "2aa02513b0d0455099e7423258b7bbd6": {
          "model_module": "@jupyter-widgets/controls",
          "model_name": "DescriptionStyleModel",
          "model_module_version": "1.5.0",
          "state": {
            "_model_module": "@jupyter-widgets/controls",
            "_model_module_version": "1.5.0",
            "_model_name": "DescriptionStyleModel",
            "_view_count": null,
            "_view_module": "@jupyter-widgets/base",
            "_view_module_version": "1.2.0",
            "_view_name": "StyleView",
            "description_width": ""
          }
        },
        "ef33e4e7514848798ea54f47fafc4d1b": {
          "model_module": "@jupyter-widgets/base",
          "model_name": "LayoutModel",
          "model_module_version": "1.2.0",
          "state": {
            "_model_module": "@jupyter-widgets/base",
            "_model_module_version": "1.2.0",
            "_model_name": "LayoutModel",
            "_view_count": null,
            "_view_module": "@jupyter-widgets/base",
            "_view_module_version": "1.2.0",
            "_view_name": "LayoutView",
            "align_content": null,
            "align_items": null,
            "align_self": null,
            "border": null,
            "bottom": null,
            "display": null,
            "flex": null,
            "flex_flow": null,
            "grid_area": null,
            "grid_auto_columns": null,
            "grid_auto_flow": null,
            "grid_auto_rows": null,
            "grid_column": null,
            "grid_gap": null,
            "grid_row": null,
            "grid_template_areas": null,
            "grid_template_columns": null,
            "grid_template_rows": null,
            "height": null,
            "justify_content": null,
            "justify_items": null,
            "left": null,
            "margin": null,
            "max_height": null,
            "max_width": null,
            "min_height": null,
            "min_width": null,
            "object_fit": null,
            "object_position": null,
            "order": null,
            "overflow": null,
            "overflow_x": null,
            "overflow_y": null,
            "padding": null,
            "right": null,
            "top": null,
            "visibility": null,
            "width": null
          }
        },
        "fb1a37330e2342d6b88b89e439558d4b": {
          "model_module": "@jupyter-widgets/controls",
          "model_name": "ProgressStyleModel",
          "model_module_version": "1.5.0",
          "state": {
            "_model_module": "@jupyter-widgets/controls",
            "_model_module_version": "1.5.0",
            "_model_name": "ProgressStyleModel",
            "_view_count": null,
            "_view_module": "@jupyter-widgets/base",
            "_view_module_version": "1.2.0",
            "_view_name": "StyleView",
            "bar_color": null,
            "description_width": ""
          }
        },
        "9c774f1b963b43929e541ec8cce2ec85": {
          "model_module": "@jupyter-widgets/base",
          "model_name": "LayoutModel",
          "model_module_version": "1.2.0",
          "state": {
            "_model_module": "@jupyter-widgets/base",
            "_model_module_version": "1.2.0",
            "_model_name": "LayoutModel",
            "_view_count": null,
            "_view_module": "@jupyter-widgets/base",
            "_view_module_version": "1.2.0",
            "_view_name": "LayoutView",
            "align_content": null,
            "align_items": null,
            "align_self": null,
            "border": null,
            "bottom": null,
            "display": null,
            "flex": null,
            "flex_flow": null,
            "grid_area": null,
            "grid_auto_columns": null,
            "grid_auto_flow": null,
            "grid_auto_rows": null,
            "grid_column": null,
            "grid_gap": null,
            "grid_row": null,
            "grid_template_areas": null,
            "grid_template_columns": null,
            "grid_template_rows": null,
            "height": null,
            "justify_content": null,
            "justify_items": null,
            "left": null,
            "margin": null,
            "max_height": null,
            "max_width": null,
            "min_height": null,
            "min_width": null,
            "object_fit": null,
            "object_position": null,
            "order": null,
            "overflow": null,
            "overflow_x": null,
            "overflow_y": null,
            "padding": null,
            "right": null,
            "top": null,
            "visibility": null,
            "width": null
          }
        },
        "662ac50990564f23abf1d25610481657": {
          "model_module": "@jupyter-widgets/controls",
          "model_name": "DescriptionStyleModel",
          "model_module_version": "1.5.0",
          "state": {
            "_model_module": "@jupyter-widgets/controls",
            "_model_module_version": "1.5.0",
            "_model_name": "DescriptionStyleModel",
            "_view_count": null,
            "_view_module": "@jupyter-widgets/base",
            "_view_module_version": "1.2.0",
            "_view_name": "StyleView",
            "description_width": ""
          }
        },
        "aa17016ab4904e1d950dcc1cf810398a": {
          "model_module": "@jupyter-widgets/controls",
          "model_name": "HBoxModel",
          "model_module_version": "1.5.0",
          "state": {
            "_dom_classes": [],
            "_model_module": "@jupyter-widgets/controls",
            "_model_module_version": "1.5.0",
            "_model_name": "HBoxModel",
            "_view_count": null,
            "_view_module": "@jupyter-widgets/controls",
            "_view_module_version": "1.5.0",
            "_view_name": "HBoxView",
            "box_style": "",
            "children": [
              "IPY_MODEL_113dc597ed9a4fc5981fc6e3ee69c977",
              "IPY_MODEL_251f8790117844e7badbbdbdf69ed0ba",
              "IPY_MODEL_51e717f7dc7e45a8a7d7961eed14f85b"
            ],
            "layout": "IPY_MODEL_bbd03cdceeeb45c18ad40237f024b91c"
          }
        },
        "113dc597ed9a4fc5981fc6e3ee69c977": {
          "model_module": "@jupyter-widgets/controls",
          "model_name": "HTMLModel",
          "model_module_version": "1.5.0",
          "state": {
            "_dom_classes": [],
            "_model_module": "@jupyter-widgets/controls",
            "_model_module_version": "1.5.0",
            "_model_name": "HTMLModel",
            "_view_count": null,
            "_view_module": "@jupyter-widgets/controls",
            "_view_module_version": "1.5.0",
            "_view_name": "HTMLView",
            "description": "",
            "description_tooltip": null,
            "layout": "IPY_MODEL_aaececc1e220403389675a95a4115586",
            "placeholder": "​",
            "style": "IPY_MODEL_6d8224d59496409cb5e97b3b394f417e",
            "value": "100%"
          }
        },
        "251f8790117844e7badbbdbdf69ed0ba": {
          "model_module": "@jupyter-widgets/controls",
          "model_name": "FloatProgressModel",
          "model_module_version": "1.5.0",
          "state": {
            "_dom_classes": [],
            "_model_module": "@jupyter-widgets/controls",
            "_model_module_version": "1.5.0",
            "_model_name": "FloatProgressModel",
            "_view_count": null,
            "_view_module": "@jupyter-widgets/controls",
            "_view_module_version": "1.5.0",
            "_view_name": "ProgressView",
            "bar_style": "success",
            "description": "",
            "description_tooltip": null,
            "layout": "IPY_MODEL_c011bcd725c04e199a33f25d5ec9cac9",
            "max": 1,
            "min": 0,
            "orientation": "horizontal",
            "style": "IPY_MODEL_5c132a0697de49ff8473c4ca43fc89f4",
            "value": 1
          }
        },
        "51e717f7dc7e45a8a7d7961eed14f85b": {
          "model_module": "@jupyter-widgets/controls",
          "model_name": "HTMLModel",
          "model_module_version": "1.5.0",
          "state": {
            "_dom_classes": [],
            "_model_module": "@jupyter-widgets/controls",
            "_model_module_version": "1.5.0",
            "_model_name": "HTMLModel",
            "_view_count": null,
            "_view_module": "@jupyter-widgets/controls",
            "_view_module_version": "1.5.0",
            "_view_name": "HTMLView",
            "description": "",
            "description_tooltip": null,
            "layout": "IPY_MODEL_6baddb259b9447658d0ea21f161d80d8",
            "placeholder": "​",
            "style": "IPY_MODEL_50b84043a5c24cbc8ff3ea73880390ab",
            "value": " 1/1 [00:00&lt;00:00,  1.20ba/s]"
          }
        },
        "bbd03cdceeeb45c18ad40237f024b91c": {
          "model_module": "@jupyter-widgets/base",
          "model_name": "LayoutModel",
          "model_module_version": "1.2.0",
          "state": {
            "_model_module": "@jupyter-widgets/base",
            "_model_module_version": "1.2.0",
            "_model_name": "LayoutModel",
            "_view_count": null,
            "_view_module": "@jupyter-widgets/base",
            "_view_module_version": "1.2.0",
            "_view_name": "LayoutView",
            "align_content": null,
            "align_items": null,
            "align_self": null,
            "border": null,
            "bottom": null,
            "display": null,
            "flex": null,
            "flex_flow": null,
            "grid_area": null,
            "grid_auto_columns": null,
            "grid_auto_flow": null,
            "grid_auto_rows": null,
            "grid_column": null,
            "grid_gap": null,
            "grid_row": null,
            "grid_template_areas": null,
            "grid_template_columns": null,
            "grid_template_rows": null,
            "height": null,
            "justify_content": null,
            "justify_items": null,
            "left": null,
            "margin": null,
            "max_height": null,
            "max_width": null,
            "min_height": null,
            "min_width": null,
            "object_fit": null,
            "object_position": null,
            "order": null,
            "overflow": null,
            "overflow_x": null,
            "overflow_y": null,
            "padding": null,
            "right": null,
            "top": null,
            "visibility": null,
            "width": null
          }
        },
        "aaececc1e220403389675a95a4115586": {
          "model_module": "@jupyter-widgets/base",
          "model_name": "LayoutModel",
          "model_module_version": "1.2.0",
          "state": {
            "_model_module": "@jupyter-widgets/base",
            "_model_module_version": "1.2.0",
            "_model_name": "LayoutModel",
            "_view_count": null,
            "_view_module": "@jupyter-widgets/base",
            "_view_module_version": "1.2.0",
            "_view_name": "LayoutView",
            "align_content": null,
            "align_items": null,
            "align_self": null,
            "border": null,
            "bottom": null,
            "display": null,
            "flex": null,
            "flex_flow": null,
            "grid_area": null,
            "grid_auto_columns": null,
            "grid_auto_flow": null,
            "grid_auto_rows": null,
            "grid_column": null,
            "grid_gap": null,
            "grid_row": null,
            "grid_template_areas": null,
            "grid_template_columns": null,
            "grid_template_rows": null,
            "height": null,
            "justify_content": null,
            "justify_items": null,
            "left": null,
            "margin": null,
            "max_height": null,
            "max_width": null,
            "min_height": null,
            "min_width": null,
            "object_fit": null,
            "object_position": null,
            "order": null,
            "overflow": null,
            "overflow_x": null,
            "overflow_y": null,
            "padding": null,
            "right": null,
            "top": null,
            "visibility": null,
            "width": null
          }
        },
        "6d8224d59496409cb5e97b3b394f417e": {
          "model_module": "@jupyter-widgets/controls",
          "model_name": "DescriptionStyleModel",
          "model_module_version": "1.5.0",
          "state": {
            "_model_module": "@jupyter-widgets/controls",
            "_model_module_version": "1.5.0",
            "_model_name": "DescriptionStyleModel",
            "_view_count": null,
            "_view_module": "@jupyter-widgets/base",
            "_view_module_version": "1.2.0",
            "_view_name": "StyleView",
            "description_width": ""
          }
        },
        "c011bcd725c04e199a33f25d5ec9cac9": {
          "model_module": "@jupyter-widgets/base",
          "model_name": "LayoutModel",
          "model_module_version": "1.2.0",
          "state": {
            "_model_module": "@jupyter-widgets/base",
            "_model_module_version": "1.2.0",
            "_model_name": "LayoutModel",
            "_view_count": null,
            "_view_module": "@jupyter-widgets/base",
            "_view_module_version": "1.2.0",
            "_view_name": "LayoutView",
            "align_content": null,
            "align_items": null,
            "align_self": null,
            "border": null,
            "bottom": null,
            "display": null,
            "flex": null,
            "flex_flow": null,
            "grid_area": null,
            "grid_auto_columns": null,
            "grid_auto_flow": null,
            "grid_auto_rows": null,
            "grid_column": null,
            "grid_gap": null,
            "grid_row": null,
            "grid_template_areas": null,
            "grid_template_columns": null,
            "grid_template_rows": null,
            "height": null,
            "justify_content": null,
            "justify_items": null,
            "left": null,
            "margin": null,
            "max_height": null,
            "max_width": null,
            "min_height": null,
            "min_width": null,
            "object_fit": null,
            "object_position": null,
            "order": null,
            "overflow": null,
            "overflow_x": null,
            "overflow_y": null,
            "padding": null,
            "right": null,
            "top": null,
            "visibility": null,
            "width": null
          }
        },
        "5c132a0697de49ff8473c4ca43fc89f4": {
          "model_module": "@jupyter-widgets/controls",
          "model_name": "ProgressStyleModel",
          "model_module_version": "1.5.0",
          "state": {
            "_model_module": "@jupyter-widgets/controls",
            "_model_module_version": "1.5.0",
            "_model_name": "ProgressStyleModel",
            "_view_count": null,
            "_view_module": "@jupyter-widgets/base",
            "_view_module_version": "1.2.0",
            "_view_name": "StyleView",
            "bar_color": null,
            "description_width": ""
          }
        },
        "6baddb259b9447658d0ea21f161d80d8": {
          "model_module": "@jupyter-widgets/base",
          "model_name": "LayoutModel",
          "model_module_version": "1.2.0",
          "state": {
            "_model_module": "@jupyter-widgets/base",
            "_model_module_version": "1.2.0",
            "_model_name": "LayoutModel",
            "_view_count": null,
            "_view_module": "@jupyter-widgets/base",
            "_view_module_version": "1.2.0",
            "_view_name": "LayoutView",
            "align_content": null,
            "align_items": null,
            "align_self": null,
            "border": null,
            "bottom": null,
            "display": null,
            "flex": null,
            "flex_flow": null,
            "grid_area": null,
            "grid_auto_columns": null,
            "grid_auto_flow": null,
            "grid_auto_rows": null,
            "grid_column": null,
            "grid_gap": null,
            "grid_row": null,
            "grid_template_areas": null,
            "grid_template_columns": null,
            "grid_template_rows": null,
            "height": null,
            "justify_content": null,
            "justify_items": null,
            "left": null,
            "margin": null,
            "max_height": null,
            "max_width": null,
            "min_height": null,
            "min_width": null,
            "object_fit": null,
            "object_position": null,
            "order": null,
            "overflow": null,
            "overflow_x": null,
            "overflow_y": null,
            "padding": null,
            "right": null,
            "top": null,
            "visibility": null,
            "width": null
          }
        },
        "50b84043a5c24cbc8ff3ea73880390ab": {
          "model_module": "@jupyter-widgets/controls",
          "model_name": "DescriptionStyleModel",
          "model_module_version": "1.5.0",
          "state": {
            "_model_module": "@jupyter-widgets/controls",
            "_model_module_version": "1.5.0",
            "_model_name": "DescriptionStyleModel",
            "_view_count": null,
            "_view_module": "@jupyter-widgets/base",
            "_view_module_version": "1.2.0",
            "_view_name": "StyleView",
            "description_width": ""
          }
        },
        "882c759648ac44c29bcfbffd4a6651a1": {
          "model_module": "@jupyter-widgets/controls",
          "model_name": "HBoxModel",
          "model_module_version": "1.5.0",
          "state": {
            "_dom_classes": [],
            "_model_module": "@jupyter-widgets/controls",
            "_model_module_version": "1.5.0",
            "_model_name": "HBoxModel",
            "_view_count": null,
            "_view_module": "@jupyter-widgets/controls",
            "_view_module_version": "1.5.0",
            "_view_name": "HBoxView",
            "box_style": "",
            "children": [
              "IPY_MODEL_1f78d61dcff44501b71e4eb7e288729a",
              "IPY_MODEL_4dd8a7467ddf40748de4b4a89fc022bd",
              "IPY_MODEL_c0b3a6ac490143f2beb56c3d6d379640"
            ],
            "layout": "IPY_MODEL_0856c3d1f74448a9a57483894b6c9348"
          }
        },
        "1f78d61dcff44501b71e4eb7e288729a": {
          "model_module": "@jupyter-widgets/controls",
          "model_name": "HTMLModel",
          "model_module_version": "1.5.0",
          "state": {
            "_dom_classes": [],
            "_model_module": "@jupyter-widgets/controls",
            "_model_module_version": "1.5.0",
            "_model_name": "HTMLModel",
            "_view_count": null,
            "_view_module": "@jupyter-widgets/controls",
            "_view_module_version": "1.5.0",
            "_view_name": "HTMLView",
            "description": "",
            "description_tooltip": null,
            "layout": "IPY_MODEL_17c5ca04266a457688951aa61523d777",
            "placeholder": "​",
            "style": "IPY_MODEL_e2a64cecfed5487abb1de719b3e3f174",
            "value": "100%"
          }
        },
        "4dd8a7467ddf40748de4b4a89fc022bd": {
          "model_module": "@jupyter-widgets/controls",
          "model_name": "FloatProgressModel",
          "model_module_version": "1.5.0",
          "state": {
            "_dom_classes": [],
            "_model_module": "@jupyter-widgets/controls",
            "_model_module_version": "1.5.0",
            "_model_name": "FloatProgressModel",
            "_view_count": null,
            "_view_module": "@jupyter-widgets/controls",
            "_view_module_version": "1.5.0",
            "_view_name": "ProgressView",
            "bar_style": "success",
            "description": "",
            "description_tooltip": null,
            "layout": "IPY_MODEL_8ef1196769624b55977ba9da403df25f",
            "max": 1,
            "min": 0,
            "orientation": "horizontal",
            "style": "IPY_MODEL_eec3e31f80df461eab3719361ccd5742",
            "value": 1
          }
        },
        "c0b3a6ac490143f2beb56c3d6d379640": {
          "model_module": "@jupyter-widgets/controls",
          "model_name": "HTMLModel",
          "model_module_version": "1.5.0",
          "state": {
            "_dom_classes": [],
            "_model_module": "@jupyter-widgets/controls",
            "_model_module_version": "1.5.0",
            "_model_name": "HTMLModel",
            "_view_count": null,
            "_view_module": "@jupyter-widgets/controls",
            "_view_module_version": "1.5.0",
            "_view_name": "HTMLView",
            "description": "",
            "description_tooltip": null,
            "layout": "IPY_MODEL_aa0393e8ae2f4dbd8ae3dc580ff27cb9",
            "placeholder": "​",
            "style": "IPY_MODEL_dea67d601509441c87161a3c998b0a00",
            "value": " 1/1 [00:00&lt;00:00,  1.23ba/s]"
          }
        },
        "0856c3d1f74448a9a57483894b6c9348": {
          "model_module": "@jupyter-widgets/base",
          "model_name": "LayoutModel",
          "model_module_version": "1.2.0",
          "state": {
            "_model_module": "@jupyter-widgets/base",
            "_model_module_version": "1.2.0",
            "_model_name": "LayoutModel",
            "_view_count": null,
            "_view_module": "@jupyter-widgets/base",
            "_view_module_version": "1.2.0",
            "_view_name": "LayoutView",
            "align_content": null,
            "align_items": null,
            "align_self": null,
            "border": null,
            "bottom": null,
            "display": null,
            "flex": null,
            "flex_flow": null,
            "grid_area": null,
            "grid_auto_columns": null,
            "grid_auto_flow": null,
            "grid_auto_rows": null,
            "grid_column": null,
            "grid_gap": null,
            "grid_row": null,
            "grid_template_areas": null,
            "grid_template_columns": null,
            "grid_template_rows": null,
            "height": null,
            "justify_content": null,
            "justify_items": null,
            "left": null,
            "margin": null,
            "max_height": null,
            "max_width": null,
            "min_height": null,
            "min_width": null,
            "object_fit": null,
            "object_position": null,
            "order": null,
            "overflow": null,
            "overflow_x": null,
            "overflow_y": null,
            "padding": null,
            "right": null,
            "top": null,
            "visibility": null,
            "width": null
          }
        },
        "17c5ca04266a457688951aa61523d777": {
          "model_module": "@jupyter-widgets/base",
          "model_name": "LayoutModel",
          "model_module_version": "1.2.0",
          "state": {
            "_model_module": "@jupyter-widgets/base",
            "_model_module_version": "1.2.0",
            "_model_name": "LayoutModel",
            "_view_count": null,
            "_view_module": "@jupyter-widgets/base",
            "_view_module_version": "1.2.0",
            "_view_name": "LayoutView",
            "align_content": null,
            "align_items": null,
            "align_self": null,
            "border": null,
            "bottom": null,
            "display": null,
            "flex": null,
            "flex_flow": null,
            "grid_area": null,
            "grid_auto_columns": null,
            "grid_auto_flow": null,
            "grid_auto_rows": null,
            "grid_column": null,
            "grid_gap": null,
            "grid_row": null,
            "grid_template_areas": null,
            "grid_template_columns": null,
            "grid_template_rows": null,
            "height": null,
            "justify_content": null,
            "justify_items": null,
            "left": null,
            "margin": null,
            "max_height": null,
            "max_width": null,
            "min_height": null,
            "min_width": null,
            "object_fit": null,
            "object_position": null,
            "order": null,
            "overflow": null,
            "overflow_x": null,
            "overflow_y": null,
            "padding": null,
            "right": null,
            "top": null,
            "visibility": null,
            "width": null
          }
        },
        "e2a64cecfed5487abb1de719b3e3f174": {
          "model_module": "@jupyter-widgets/controls",
          "model_name": "DescriptionStyleModel",
          "model_module_version": "1.5.0",
          "state": {
            "_model_module": "@jupyter-widgets/controls",
            "_model_module_version": "1.5.0",
            "_model_name": "DescriptionStyleModel",
            "_view_count": null,
            "_view_module": "@jupyter-widgets/base",
            "_view_module_version": "1.2.0",
            "_view_name": "StyleView",
            "description_width": ""
          }
        },
        "8ef1196769624b55977ba9da403df25f": {
          "model_module": "@jupyter-widgets/base",
          "model_name": "LayoutModel",
          "model_module_version": "1.2.0",
          "state": {
            "_model_module": "@jupyter-widgets/base",
            "_model_module_version": "1.2.0",
            "_model_name": "LayoutModel",
            "_view_count": null,
            "_view_module": "@jupyter-widgets/base",
            "_view_module_version": "1.2.0",
            "_view_name": "LayoutView",
            "align_content": null,
            "align_items": null,
            "align_self": null,
            "border": null,
            "bottom": null,
            "display": null,
            "flex": null,
            "flex_flow": null,
            "grid_area": null,
            "grid_auto_columns": null,
            "grid_auto_flow": null,
            "grid_auto_rows": null,
            "grid_column": null,
            "grid_gap": null,
            "grid_row": null,
            "grid_template_areas": null,
            "grid_template_columns": null,
            "grid_template_rows": null,
            "height": null,
            "justify_content": null,
            "justify_items": null,
            "left": null,
            "margin": null,
            "max_height": null,
            "max_width": null,
            "min_height": null,
            "min_width": null,
            "object_fit": null,
            "object_position": null,
            "order": null,
            "overflow": null,
            "overflow_x": null,
            "overflow_y": null,
            "padding": null,
            "right": null,
            "top": null,
            "visibility": null,
            "width": null
          }
        },
        "eec3e31f80df461eab3719361ccd5742": {
          "model_module": "@jupyter-widgets/controls",
          "model_name": "ProgressStyleModel",
          "model_module_version": "1.5.0",
          "state": {
            "_model_module": "@jupyter-widgets/controls",
            "_model_module_version": "1.5.0",
            "_model_name": "ProgressStyleModel",
            "_view_count": null,
            "_view_module": "@jupyter-widgets/base",
            "_view_module_version": "1.2.0",
            "_view_name": "StyleView",
            "bar_color": null,
            "description_width": ""
          }
        },
        "aa0393e8ae2f4dbd8ae3dc580ff27cb9": {
          "model_module": "@jupyter-widgets/base",
          "model_name": "LayoutModel",
          "model_module_version": "1.2.0",
          "state": {
            "_model_module": "@jupyter-widgets/base",
            "_model_module_version": "1.2.0",
            "_model_name": "LayoutModel",
            "_view_count": null,
            "_view_module": "@jupyter-widgets/base",
            "_view_module_version": "1.2.0",
            "_view_name": "LayoutView",
            "align_content": null,
            "align_items": null,
            "align_self": null,
            "border": null,
            "bottom": null,
            "display": null,
            "flex": null,
            "flex_flow": null,
            "grid_area": null,
            "grid_auto_columns": null,
            "grid_auto_flow": null,
            "grid_auto_rows": null,
            "grid_column": null,
            "grid_gap": null,
            "grid_row": null,
            "grid_template_areas": null,
            "grid_template_columns": null,
            "grid_template_rows": null,
            "height": null,
            "justify_content": null,
            "justify_items": null,
            "left": null,
            "margin": null,
            "max_height": null,
            "max_width": null,
            "min_height": null,
            "min_width": null,
            "object_fit": null,
            "object_position": null,
            "order": null,
            "overflow": null,
            "overflow_x": null,
            "overflow_y": null,
            "padding": null,
            "right": null,
            "top": null,
            "visibility": null,
            "width": null
          }
        },
        "dea67d601509441c87161a3c998b0a00": {
          "model_module": "@jupyter-widgets/controls",
          "model_name": "DescriptionStyleModel",
          "model_module_version": "1.5.0",
          "state": {
            "_model_module": "@jupyter-widgets/controls",
            "_model_module_version": "1.5.0",
            "_model_name": "DescriptionStyleModel",
            "_view_count": null,
            "_view_module": "@jupyter-widgets/base",
            "_view_module_version": "1.2.0",
            "_view_name": "StyleView",
            "description_width": ""
          }
        }
      }
    }
  },
  "cells": [
    {
      "cell_type": "markdown",
      "source": [
        "Сначала загружаем и импортим все необходимое."
      ],
      "metadata": {
        "id": "cgn2U7PIs5ch"
      }
    },
    {
      "cell_type": "code",
      "source": [
        "!pip install -q -U watermark"
      ],
      "metadata": {
        "id": "x7w-MMQNs4C_",
        "colab": {
          "base_uri": "https://localhost:8080/"
        },
        "outputId": "69724d98-53f5-4d96-a3e8-a9ebde55905d"
      },
      "execution_count": 1,
      "outputs": [
        {
          "output_type": "stream",
          "name": "stdout",
          "text": [
            "\u001b[31mERROR: pip's dependency resolver does not currently take into account all the packages that are installed. This behaviour is the source of the following dependency conflicts.\n",
            "markdown 3.3.6 requires importlib-metadata>=4.4; python_version < \"3.10\", but you have importlib-metadata 2.1.3 which is incompatible.\u001b[0m\n"
          ]
        }
      ]
    },
    {
      "cell_type": "code",
      "source": [
        "!pip install transformers"
      ],
      "metadata": {
        "id": "UKP88Zb-s7cm",
        "colab": {
          "base_uri": "https://localhost:8080/"
        },
        "outputId": "63b3b656-d01c-49dd-e74a-6fb9b724262c"
      },
      "execution_count": 2,
      "outputs": [
        {
          "output_type": "stream",
          "name": "stdout",
          "text": [
            "Collecting transformers\n",
            "  Downloading transformers-4.17.0-py3-none-any.whl (3.8 MB)\n",
            "\u001b[K     |████████████████████████████████| 3.8 MB 5.2 MB/s \n",
            "\u001b[?25hCollecting huggingface-hub<1.0,>=0.1.0\n",
            "  Downloading huggingface_hub-0.4.0-py3-none-any.whl (67 kB)\n",
            "\u001b[K     |████████████████████████████████| 67 kB 6.9 MB/s \n",
            "\u001b[?25hCollecting pyyaml>=5.1\n",
            "  Downloading PyYAML-6.0-cp37-cp37m-manylinux_2_5_x86_64.manylinux1_x86_64.manylinux_2_12_x86_64.manylinux2010_x86_64.whl (596 kB)\n",
            "\u001b[K     |████████████████████████████████| 596 kB 64.8 MB/s \n",
            "\u001b[?25hRequirement already satisfied: regex!=2019.12.17 in /usr/local/lib/python3.7/dist-packages (from transformers) (2019.12.20)\n",
            "Requirement already satisfied: importlib-metadata in /usr/local/lib/python3.7/dist-packages (from transformers) (2.1.3)\n",
            "Requirement already satisfied: packaging>=20.0 in /usr/local/lib/python3.7/dist-packages (from transformers) (21.3)\n",
            "Requirement already satisfied: requests in /usr/local/lib/python3.7/dist-packages (from transformers) (2.23.0)\n",
            "Collecting tokenizers!=0.11.3,>=0.11.1\n",
            "  Downloading tokenizers-0.11.6-cp37-cp37m-manylinux_2_12_x86_64.manylinux2010_x86_64.whl (6.5 MB)\n",
            "\u001b[K     |████████████████████████████████| 6.5 MB 40.6 MB/s \n",
            "\u001b[?25hRequirement already satisfied: filelock in /usr/local/lib/python3.7/dist-packages (from transformers) (3.6.0)\n",
            "Collecting sacremoses\n",
            "  Downloading sacremoses-0.0.49-py3-none-any.whl (895 kB)\n",
            "\u001b[K     |████████████████████████████████| 895 kB 32.3 MB/s \n",
            "\u001b[?25hRequirement already satisfied: tqdm>=4.27 in /usr/local/lib/python3.7/dist-packages (from transformers) (4.63.0)\n",
            "Requirement already satisfied: numpy>=1.17 in /usr/local/lib/python3.7/dist-packages (from transformers) (1.21.5)\n",
            "Requirement already satisfied: typing-extensions>=3.7.4.3 in /usr/local/lib/python3.7/dist-packages (from huggingface-hub<1.0,>=0.1.0->transformers) (3.10.0.2)\n",
            "Requirement already satisfied: pyparsing!=3.0.5,>=2.0.2 in /usr/local/lib/python3.7/dist-packages (from packaging>=20.0->transformers) (3.0.7)\n",
            "Requirement already satisfied: zipp>=0.5 in /usr/local/lib/python3.7/dist-packages (from importlib-metadata->transformers) (3.7.0)\n",
            "Requirement already satisfied: urllib3!=1.25.0,!=1.25.1,<1.26,>=1.21.1 in /usr/local/lib/python3.7/dist-packages (from requests->transformers) (1.24.3)\n",
            "Requirement already satisfied: chardet<4,>=3.0.2 in /usr/local/lib/python3.7/dist-packages (from requests->transformers) (3.0.4)\n",
            "Requirement already satisfied: certifi>=2017.4.17 in /usr/local/lib/python3.7/dist-packages (from requests->transformers) (2021.10.8)\n",
            "Requirement already satisfied: idna<3,>=2.5 in /usr/local/lib/python3.7/dist-packages (from requests->transformers) (2.10)\n",
            "Requirement already satisfied: six in /usr/local/lib/python3.7/dist-packages (from sacremoses->transformers) (1.15.0)\n",
            "Requirement already satisfied: joblib in /usr/local/lib/python3.7/dist-packages (from sacremoses->transformers) (1.1.0)\n",
            "Requirement already satisfied: click in /usr/local/lib/python3.7/dist-packages (from sacremoses->transformers) (7.1.2)\n",
            "Installing collected packages: pyyaml, tokenizers, sacremoses, huggingface-hub, transformers\n",
            "  Attempting uninstall: pyyaml\n",
            "    Found existing installation: PyYAML 3.13\n",
            "    Uninstalling PyYAML-3.13:\n",
            "      Successfully uninstalled PyYAML-3.13\n",
            "Successfully installed huggingface-hub-0.4.0 pyyaml-6.0 sacremoses-0.0.49 tokenizers-0.11.6 transformers-4.17.0\n"
          ]
        }
      ]
    },
    {
      "cell_type": "code",
      "source": [
        "!pip install datasets"
      ],
      "metadata": {
        "id": "MZENtd4Rs-S9",
        "colab": {
          "base_uri": "https://localhost:8080/"
        },
        "outputId": "3aad459c-3861-49d8-d962-f018ac4d88ea"
      },
      "execution_count": 3,
      "outputs": [
        {
          "output_type": "stream",
          "name": "stdout",
          "text": [
            "Collecting datasets\n",
            "  Downloading datasets-2.0.0-py3-none-any.whl (325 kB)\n",
            "\u001b[?25l\r\u001b[K     |█                               | 10 kB 27.6 MB/s eta 0:00:01\r\u001b[K     |██                              | 20 kB 22.0 MB/s eta 0:00:01\r\u001b[K     |███                             | 30 kB 11.1 MB/s eta 0:00:01\r\u001b[K     |████                            | 40 kB 8.9 MB/s eta 0:00:01\r\u001b[K     |█████                           | 51 kB 4.7 MB/s eta 0:00:01\r\u001b[K     |██████                          | 61 kB 5.5 MB/s eta 0:00:01\r\u001b[K     |███████                         | 71 kB 5.6 MB/s eta 0:00:01\r\u001b[K     |████████                        | 81 kB 5.6 MB/s eta 0:00:01\r\u001b[K     |█████████                       | 92 kB 6.2 MB/s eta 0:00:01\r\u001b[K     |██████████                      | 102 kB 5.3 MB/s eta 0:00:01\r\u001b[K     |███████████                     | 112 kB 5.3 MB/s eta 0:00:01\r\u001b[K     |████████████                    | 122 kB 5.3 MB/s eta 0:00:01\r\u001b[K     |█████████████                   | 133 kB 5.3 MB/s eta 0:00:01\r\u001b[K     |██████████████                  | 143 kB 5.3 MB/s eta 0:00:01\r\u001b[K     |███████████████                 | 153 kB 5.3 MB/s eta 0:00:01\r\u001b[K     |████████████████                | 163 kB 5.3 MB/s eta 0:00:01\r\u001b[K     |█████████████████▏              | 174 kB 5.3 MB/s eta 0:00:01\r\u001b[K     |██████████████████▏             | 184 kB 5.3 MB/s eta 0:00:01\r\u001b[K     |███████████████████▏            | 194 kB 5.3 MB/s eta 0:00:01\r\u001b[K     |████████████████████▏           | 204 kB 5.3 MB/s eta 0:00:01\r\u001b[K     |█████████████████████▏          | 215 kB 5.3 MB/s eta 0:00:01\r\u001b[K     |██████████████████████▏         | 225 kB 5.3 MB/s eta 0:00:01\r\u001b[K     |███████████████████████▏        | 235 kB 5.3 MB/s eta 0:00:01\r\u001b[K     |████████████████████████▏       | 245 kB 5.3 MB/s eta 0:00:01\r\u001b[K     |█████████████████████████▏      | 256 kB 5.3 MB/s eta 0:00:01\r\u001b[K     |██████████████████████████▏     | 266 kB 5.3 MB/s eta 0:00:01\r\u001b[K     |███████████████████████████▏    | 276 kB 5.3 MB/s eta 0:00:01\r\u001b[K     |████████████████████████████▏   | 286 kB 5.3 MB/s eta 0:00:01\r\u001b[K     |█████████████████████████████▏  | 296 kB 5.3 MB/s eta 0:00:01\r\u001b[K     |██████████████████████████████▏ | 307 kB 5.3 MB/s eta 0:00:01\r\u001b[K     |███████████████████████████████▏| 317 kB 5.3 MB/s eta 0:00:01\r\u001b[K     |████████████████████████████████| 325 kB 5.3 MB/s \n",
            "\u001b[?25hRequirement already satisfied: numpy>=1.17 in /usr/local/lib/python3.7/dist-packages (from datasets) (1.21.5)\n",
            "Requirement already satisfied: pyarrow>=5.0.0 in /usr/local/lib/python3.7/dist-packages (from datasets) (6.0.1)\n",
            "Collecting aiohttp\n",
            "  Downloading aiohttp-3.8.1-cp37-cp37m-manylinux_2_5_x86_64.manylinux1_x86_64.manylinux_2_12_x86_64.manylinux2010_x86_64.whl (1.1 MB)\n",
            "\u001b[K     |████████████████████████████████| 1.1 MB 67.8 MB/s \n",
            "\u001b[?25hRequirement already satisfied: packaging in /usr/local/lib/python3.7/dist-packages (from datasets) (21.3)\n",
            "Requirement already satisfied: requests>=2.19.0 in /usr/local/lib/python3.7/dist-packages (from datasets) (2.23.0)\n",
            "Requirement already satisfied: pandas in /usr/local/lib/python3.7/dist-packages (from datasets) (1.3.5)\n",
            "Collecting fsspec[http]>=2021.05.0\n",
            "  Downloading fsspec-2022.2.0-py3-none-any.whl (134 kB)\n",
            "\u001b[K     |████████████████████████████████| 134 kB 74.6 MB/s \n",
            "\u001b[?25hRequirement already satisfied: dill in /usr/local/lib/python3.7/dist-packages (from datasets) (0.3.4)\n",
            "Collecting responses<0.19\n",
            "  Downloading responses-0.18.0-py3-none-any.whl (38 kB)\n",
            "Requirement already satisfied: tqdm>=4.62.1 in /usr/local/lib/python3.7/dist-packages (from datasets) (4.63.0)\n",
            "Requirement already satisfied: multiprocess in /usr/local/lib/python3.7/dist-packages (from datasets) (0.70.12.2)\n",
            "Requirement already satisfied: huggingface-hub<1.0.0,>=0.1.0 in /usr/local/lib/python3.7/dist-packages (from datasets) (0.4.0)\n",
            "Requirement already satisfied: importlib-metadata in /usr/local/lib/python3.7/dist-packages (from datasets) (2.1.3)\n",
            "Collecting xxhash\n",
            "  Downloading xxhash-3.0.0-cp37-cp37m-manylinux_2_17_x86_64.manylinux2014_x86_64.whl (212 kB)\n",
            "\u001b[K     |████████████████████████████████| 212 kB 53.2 MB/s \n",
            "\u001b[?25hRequirement already satisfied: typing-extensions>=3.7.4.3 in /usr/local/lib/python3.7/dist-packages (from huggingface-hub<1.0.0,>=0.1.0->datasets) (3.10.0.2)\n",
            "Requirement already satisfied: pyyaml in /usr/local/lib/python3.7/dist-packages (from huggingface-hub<1.0.0,>=0.1.0->datasets) (6.0)\n",
            "Requirement already satisfied: filelock in /usr/local/lib/python3.7/dist-packages (from huggingface-hub<1.0.0,>=0.1.0->datasets) (3.6.0)\n",
            "Requirement already satisfied: pyparsing!=3.0.5,>=2.0.2 in /usr/local/lib/python3.7/dist-packages (from packaging->datasets) (3.0.7)\n",
            "Requirement already satisfied: chardet<4,>=3.0.2 in /usr/local/lib/python3.7/dist-packages (from requests>=2.19.0->datasets) (3.0.4)\n",
            "Requirement already satisfied: idna<3,>=2.5 in /usr/local/lib/python3.7/dist-packages (from requests>=2.19.0->datasets) (2.10)\n",
            "Requirement already satisfied: certifi>=2017.4.17 in /usr/local/lib/python3.7/dist-packages (from requests>=2.19.0->datasets) (2021.10.8)\n",
            "Requirement already satisfied: urllib3!=1.25.0,!=1.25.1,<1.26,>=1.21.1 in /usr/local/lib/python3.7/dist-packages (from requests>=2.19.0->datasets) (1.24.3)\n",
            "Collecting urllib3!=1.25.0,!=1.25.1,<1.26,>=1.21.1\n",
            "  Downloading urllib3-1.25.11-py2.py3-none-any.whl (127 kB)\n",
            "\u001b[K     |████████████████████████████████| 127 kB 54.8 MB/s \n",
            "\u001b[?25hCollecting aiosignal>=1.1.2\n",
            "  Downloading aiosignal-1.2.0-py3-none-any.whl (8.2 kB)\n",
            "Collecting yarl<2.0,>=1.0\n",
            "  Downloading yarl-1.7.2-cp37-cp37m-manylinux_2_5_x86_64.manylinux1_x86_64.manylinux_2_12_x86_64.manylinux2010_x86_64.whl (271 kB)\n",
            "\u001b[K     |████████████████████████████████| 271 kB 53.9 MB/s \n",
            "\u001b[?25hCollecting multidict<7.0,>=4.5\n",
            "  Downloading multidict-6.0.2-cp37-cp37m-manylinux_2_17_x86_64.manylinux2014_x86_64.whl (94 kB)\n",
            "\u001b[K     |████████████████████████████████| 94 kB 3.0 MB/s \n",
            "\u001b[?25hRequirement already satisfied: attrs>=17.3.0 in /usr/local/lib/python3.7/dist-packages (from aiohttp->datasets) (21.4.0)\n",
            "Requirement already satisfied: charset-normalizer<3.0,>=2.0 in /usr/local/lib/python3.7/dist-packages (from aiohttp->datasets) (2.0.12)\n",
            "Collecting async-timeout<5.0,>=4.0.0a3\n",
            "  Downloading async_timeout-4.0.2-py3-none-any.whl (5.8 kB)\n",
            "Collecting asynctest==0.13.0\n",
            "  Downloading asynctest-0.13.0-py3-none-any.whl (26 kB)\n",
            "Collecting frozenlist>=1.1.1\n",
            "  Downloading frozenlist-1.3.0-cp37-cp37m-manylinux_2_5_x86_64.manylinux1_x86_64.manylinux_2_17_x86_64.manylinux2014_x86_64.whl (144 kB)\n",
            "\u001b[K     |████████████████████████████████| 144 kB 41.2 MB/s \n",
            "\u001b[?25hRequirement already satisfied: zipp>=0.5 in /usr/local/lib/python3.7/dist-packages (from importlib-metadata->datasets) (3.7.0)\n",
            "Requirement already satisfied: python-dateutil>=2.7.3 in /usr/local/lib/python3.7/dist-packages (from pandas->datasets) (2.8.2)\n",
            "Requirement already satisfied: pytz>=2017.3 in /usr/local/lib/python3.7/dist-packages (from pandas->datasets) (2018.9)\n",
            "Requirement already satisfied: six>=1.5 in /usr/local/lib/python3.7/dist-packages (from python-dateutil>=2.7.3->pandas->datasets) (1.15.0)\n",
            "Installing collected packages: multidict, frozenlist, yarl, urllib3, asynctest, async-timeout, aiosignal, fsspec, aiohttp, xxhash, responses, datasets\n",
            "  Attempting uninstall: urllib3\n",
            "    Found existing installation: urllib3 1.24.3\n",
            "    Uninstalling urllib3-1.24.3:\n",
            "      Successfully uninstalled urllib3-1.24.3\n",
            "\u001b[31mERROR: pip's dependency resolver does not currently take into account all the packages that are installed. This behaviour is the source of the following dependency conflicts.\n",
            "datascience 0.10.6 requires folium==0.2.1, but you have folium 0.8.3 which is incompatible.\u001b[0m\n",
            "Successfully installed aiohttp-3.8.1 aiosignal-1.2.0 async-timeout-4.0.2 asynctest-0.13.0 datasets-2.0.0 frozenlist-1.3.0 fsspec-2022.2.0 multidict-6.0.2 responses-0.18.0 urllib3-1.25.11 xxhash-3.0.0 yarl-1.7.2\n"
          ]
        }
      ]
    },
    {
      "cell_type": "code",
      "source": [
        "%reload_ext watermark\n",
        "%watermark -v -p numpy,pandas,torch,transformers"
      ],
      "metadata": {
        "id": "gXPmQTeXs60u",
        "colab": {
          "base_uri": "https://localhost:8080/"
        },
        "outputId": "7c1b585b-ebaf-4306-f834-283d64527994"
      },
      "execution_count": 4,
      "outputs": [
        {
          "output_type": "stream",
          "name": "stdout",
          "text": [
            "Python implementation: CPython\n",
            "Python version       : 3.7.13\n",
            "IPython version      : 5.5.0\n",
            "\n",
            "numpy       : 1.21.5\n",
            "pandas      : 1.3.5\n",
            "torch       : 1.10.0+cu111\n",
            "transformers: 4.17.0\n",
            "\n"
          ]
        }
      ]
    },
    {
      "cell_type": "code",
      "metadata": {
        "id": "SgPRhuMzi9ot",
        "colab": {
          "base_uri": "https://localhost:8080/"
        },
        "outputId": "fe0e1a47-8ef2-4d28-c581-9fcee7130044"
      },
      "source": [
        "!wget https://drive.google.com/uc?id=1zdmewp7ayS4js4VtrJEHzAheSW-5NBZv \n",
        "!gdown --id 1S6qMioqPJjyBLpLVz4gmRTnJHnjitnuV\n",
        "!gdown --id 1zdmewp7ayS4js4VtrJEHzAheSW-5NBZv"
      ],
      "execution_count": 5,
      "outputs": [
        {
          "output_type": "stream",
          "name": "stdout",
          "text": [
            "--2022-03-27 18:02:58--  https://drive.google.com/uc?id=1zdmewp7ayS4js4VtrJEHzAheSW-5NBZv\n",
            "Resolving drive.google.com (drive.google.com)... 173.194.74.102, 173.194.74.113, 173.194.74.100, ...\n",
            "Connecting to drive.google.com (drive.google.com)|173.194.74.102|:443... connected.\n",
            "HTTP request sent, awaiting response... 303 See Other\n",
            "Location: https://doc-0o-64-docs.googleusercontent.com/docs/securesc/ha0ro937gcuc7l7deffksulhg5h7mbp1/586enclg21tqtmpmc7vsj1jqhqqgk6n9/1648404150000/01328360181817234523/*/1zdmewp7ayS4js4VtrJEHzAheSW-5NBZv [following]\n",
            "Warning: wildcards not supported in HTTP.\n",
            "--2022-03-27 18:03:01--  https://doc-0o-64-docs.googleusercontent.com/docs/securesc/ha0ro937gcuc7l7deffksulhg5h7mbp1/586enclg21tqtmpmc7vsj1jqhqqgk6n9/1648404150000/01328360181817234523/*/1zdmewp7ayS4js4VtrJEHzAheSW-5NBZv\n",
            "Resolving doc-0o-64-docs.googleusercontent.com (doc-0o-64-docs.googleusercontent.com)... 108.177.112.132, 2607:f8b0:4001:c12::84\n",
            "Connecting to doc-0o-64-docs.googleusercontent.com (doc-0o-64-docs.googleusercontent.com)|108.177.112.132|:443... connected.\n",
            "HTTP request sent, awaiting response... 200 OK\n",
            "Length: 7170328 (6.8M) [text/csv]\n",
            "Saving to: ‘uc?id=1zdmewp7ayS4js4VtrJEHzAheSW-5NBZv’\n",
            "\n",
            "uc?id=1zdmewp7ayS4j 100%[===================>]   6.84M  --.-KB/s    in 0.07s   \n",
            "\n",
            "2022-03-27 18:03:01 (96.0 MB/s) - ‘uc?id=1zdmewp7ayS4js4VtrJEHzAheSW-5NBZv’ saved [7170328/7170328]\n",
            "\n",
            "Downloading...\n",
            "From: https://drive.google.com/uc?id=1S6qMioqPJjyBLpLVz4gmRTnJHnjitnuV\n",
            "To: /content/apps.csv\n",
            "100% 134k/134k [00:00<00:00, 74.7MB/s]\n",
            "Downloading...\n",
            "From: https://drive.google.com/uc?id=1zdmewp7ayS4js4VtrJEHzAheSW-5NBZv\n",
            "To: /content/reviews.csv\n",
            "100% 7.17M/7.17M [00:00<00:00, 253MB/s]\n"
          ]
        }
      ]
    },
    {
      "cell_type": "code",
      "metadata": {
        "id": "Z1jvVHb6CaW-"
      },
      "source": [
        "import transformers\n",
        "from transformers import BertModel, AutoTokenizer, BertTokenizer, PreTrainedTokenizerFast, AdamW, get_linear_schedule_with_warmup, DistilBertModel, BertConfig\n",
        "import torch.nn.functional as F\n",
        "\n",
        "import torch\n",
        "import numpy as np\n",
        "import pandas as pd\n",
        "import seaborn as sns\n",
        "from pylab import rcParams\n",
        "import matplotlib.pyplot as plt\n",
        "from matplotlib import rc\n",
        "from sklearn.model_selection import train_test_split\n",
        "from sklearn.metrics import confusion_matrix, classification_report\n",
        "from collections import defaultdict\n",
        "from textwrap import wrap\n",
        "from torch import nn, optim\n",
        "from torch.nn.utils import clip_grad_norm_\n",
        "from torch.utils.data import Dataset, DataLoader\n",
        "from google.colab import data_table\n",
        "data_table.disable_dataframe_formatter()\n",
        "from transformers import AutoTokenizer\n",
        "import datasets\n",
        "from transformers import BertForSequenceClassification, TrainingArguments, Trainer, DataCollatorWithPadding\n",
        "from sklearn.metrics import precision_recall_fscore_support, accuracy_score"
      ],
      "execution_count": 68,
      "outputs": []
    },
    {
      "cell_type": "markdown",
      "source": [
        "Задаем кол-во классов, переводим оценки в классы, как в исходной тетрадке."
      ],
      "metadata": {
        "id": "b7tfFAmRtKMS"
      }
    },
    {
      "cell_type": "code",
      "source": [
        "class_num = 3"
      ],
      "metadata": {
        "id": "FrSSkc4_npxu"
      },
      "execution_count": 7,
      "outputs": []
    },
    {
      "cell_type": "code",
      "metadata": {
        "id": "mUKLyKc7I6Qp"
      },
      "source": [
        "df = pd.read_csv(\"reviews.csv\")"
      ],
      "execution_count": 8,
      "outputs": []
    },
    {
      "cell_type": "code",
      "metadata": {
        "id": "ei0xmdi1Chp0"
      },
      "source": [
        "def to_sentiment(rating):\n",
        "  rating = int(rating)\n",
        "  if rating <= 2:\n",
        "    return 0\n",
        "  elif rating == 3:\n",
        "    return 1\n",
        "  else: \n",
        "    return 2\n",
        "\n",
        "df['sentiment'] = df.score.apply(to_sentiment)"
      ],
      "execution_count": 9,
      "outputs": []
    },
    {
      "cell_type": "markdown",
      "source": [
        "Определяем предобученную модель, пока что я взяла bert-tiny."
      ],
      "metadata": {
        "id": "_S5fnoyMtRPL"
      }
    },
    {
      "cell_type": "code",
      "metadata": {
        "id": "E7Mj-0ne--5t"
      },
      "source": [
        "PRE_TRAINED_MODEL_NAME = 'prajjwal1/bert-tiny'"
      ],
      "execution_count": 10,
      "outputs": []
    },
    {
      "cell_type": "markdown",
      "source": [
        "Загружаем ее токенизатор."
      ],
      "metadata": {
        "id": "UN9bm1o5thPW"
      }
    },
    {
      "cell_type": "code",
      "metadata": {
        "id": "H3AfJSZ8NNLF",
        "colab": {
          "base_uri": "https://localhost:8080/",
          "height": 81,
          "referenced_widgets": [
            "a87298e603a545728ff8532ea45a9cff",
            "3f3df93033a645ea9d38d0ed9a6ecb6c",
            "a99cc94d15ed43ce946842e76dca3f1b",
            "26a763119b5540838ccca96fead70256",
            "91324c82dea64d90bbe67be1fdccc5c7",
            "cd058220bce04c41b61851123d7c09a2",
            "1da0756dc4e84db9b49eedc935f71e87",
            "6ee91988159b4f8abf95fcb63ac436d2",
            "1e692c6842e24a749191ee5bbe990a7f",
            "9ad33343ad684e5ab534ccb7cac5650e",
            "c33f04858ea84ae68f4af038a62ef1a4",
            "775853e2326649a9bbbd9bd7ccd08346",
            "2d0cb80c685f417a88250909f31e859e",
            "ad0351e08ace45a1beef113927e996c1",
            "9522b17610a0403aa8577bbb21eaa1cb",
            "b4d02a4b78784b53b6e869e3b5ebf09e",
            "7fd8139601d348c8abb8da8217ec676d",
            "3808f6fab04f4daab577bc0c40cc27b9",
            "4672fd54286c410db6b0785ed303ef67",
            "2ef0ef4d4a984365a8894948cd2b38b7",
            "4351f89b146a465cab74968cab8b6ffa",
            "91e0d376773f4126b8700a5138fd2653"
          ]
        },
        "outputId": "ee634846-d464-4326-912b-683d749456e5"
      },
      "source": [
        "tokenizer = BertTokenizer.from_pretrained(PRE_TRAINED_MODEL_NAME)"
      ],
      "execution_count": 11,
      "outputs": [
        {
          "output_type": "display_data",
          "data": {
            "text/plain": [
              "Downloading:   0%|          | 0.00/226k [00:00<?, ?B/s]"
            ],
            "application/vnd.jupyter.widget-view+json": {
              "version_major": 2,
              "version_minor": 0,
              "model_id": "a87298e603a545728ff8532ea45a9cff"
            }
          },
          "metadata": {}
        },
        {
          "output_type": "display_data",
          "data": {
            "text/plain": [
              "Downloading:   0%|          | 0.00/285 [00:00<?, ?B/s]"
            ],
            "application/vnd.jupyter.widget-view+json": {
              "version_major": 2,
              "version_minor": 0,
              "model_id": "775853e2326649a9bbbd9bd7ccd08346"
            }
          },
          "metadata": {}
        }
      ]
    },
    {
      "cell_type": "markdown",
      "source": [
        "Трэйн-тест сплит."
      ],
      "metadata": {
        "id": "aZPYgxTxtkcT"
      }
    },
    {
      "cell_type": "code",
      "metadata": {
        "id": "B-vWzoo81dvO"
      },
      "source": [
        "df_train, df_test = train_test_split(df, test_size=0.1)\n",
        "df_val, df_test = train_test_split(df_test, test_size=0.5)"
      ],
      "execution_count": 12,
      "outputs": []
    },
    {
      "cell_type": "markdown",
      "source": [
        "Функция препроцессинга с токенизатором, как в исходной тетрадке. Здесь же определяем паддинг."
      ],
      "metadata": {
        "id": "Mrb3TxSLtphQ"
      }
    },
    {
      "cell_type": "code",
      "source": [
        "def preprocess_function(examples):\n",
        "     return tokenizer(examples[\"text\"], padding=True)"
      ],
      "metadata": {
        "id": "Uwunrs_aXIpT"
      },
      "execution_count": 13,
      "outputs": []
    },
    {
      "cell_type": "markdown",
      "source": [
        "Переименовываю некоторые колонки так, как того ожидает модель, и загружаю датасеты с помощью HugginFace-овских функций."
      ],
      "metadata": {
        "id": "ZQfU7vyxt6X1"
      }
    },
    {
      "cell_type": "code",
      "source": [
        "df_train['text'] = df_train['content']\n",
        "df_test['text'] = df_test['content']\n",
        "df_val['text'] = df_val['content']\n",
        "df_train['labels'] = df_train['sentiment']\n",
        "df_test['labels'] = df_test['sentiment']\n",
        "df_val['labels'] = df_val['sentiment']\n",
        "dataset_train = datasets.Dataset.from_pandas(df_train)\n",
        "dataset_val = datasets.Dataset.from_pandas(df_val)\n",
        "dataset_test = datasets.Dataset.from_pandas(df_test)"
      ],
      "metadata": {
        "id": "imazyG2CXIxY"
      },
      "execution_count": 14,
      "outputs": []
    },
    {
      "cell_type": "markdown",
      "source": [
        "Препроцессим."
      ],
      "metadata": {
        "id": "lzUpQL-WuRZ8"
      }
    },
    {
      "cell_type": "code",
      "source": [
        "train_tok = dataset_train.map(preprocess_function, batched=True)\n",
        "test_tok = dataset_test.map(preprocess_function, batched=True)\n",
        "val_tok = dataset_val.map(preprocess_function, batched=True)"
      ],
      "metadata": {
        "colab": {
          "base_uri": "https://localhost:8080/",
          "height": 112,
          "referenced_widgets": [
            "46f2b5511e6049f7bfe69a986082a343",
            "836c0e1d98ff4052a30265029db252b4",
            "6e1c05e421c04706b6a332888eca4712",
            "b559241de9b04e78a0d3dbabff1801d9",
            "a4e2a6d052944a33a0205d40486898cb",
            "bb31b2c0c59d4ccb95a350028ac5bd1b",
            "2aa02513b0d0455099e7423258b7bbd6",
            "ef33e4e7514848798ea54f47fafc4d1b",
            "fb1a37330e2342d6b88b89e439558d4b",
            "9c774f1b963b43929e541ec8cce2ec85",
            "662ac50990564f23abf1d25610481657",
            "aa17016ab4904e1d950dcc1cf810398a",
            "113dc597ed9a4fc5981fc6e3ee69c977",
            "251f8790117844e7badbbdbdf69ed0ba",
            "51e717f7dc7e45a8a7d7961eed14f85b",
            "bbd03cdceeeb45c18ad40237f024b91c",
            "aaececc1e220403389675a95a4115586",
            "6d8224d59496409cb5e97b3b394f417e",
            "c011bcd725c04e199a33f25d5ec9cac9",
            "5c132a0697de49ff8473c4ca43fc89f4",
            "6baddb259b9447658d0ea21f161d80d8",
            "50b84043a5c24cbc8ff3ea73880390ab",
            "882c759648ac44c29bcfbffd4a6651a1",
            "1f78d61dcff44501b71e4eb7e288729a",
            "4dd8a7467ddf40748de4b4a89fc022bd",
            "c0b3a6ac490143f2beb56c3d6d379640",
            "0856c3d1f74448a9a57483894b6c9348",
            "17c5ca04266a457688951aa61523d777",
            "e2a64cecfed5487abb1de719b3e3f174",
            "8ef1196769624b55977ba9da403df25f",
            "eec3e31f80df461eab3719361ccd5742",
            "aa0393e8ae2f4dbd8ae3dc580ff27cb9",
            "dea67d601509441c87161a3c998b0a00"
          ]
        },
        "id": "JIy_VbQpX4Lc",
        "outputId": "62734547-753b-4278-9637-482d41b672f8"
      },
      "execution_count": 15,
      "outputs": [
        {
          "output_type": "display_data",
          "data": {
            "text/plain": [
              "  0%|          | 0/15 [00:00<?, ?ba/s]"
            ],
            "application/vnd.jupyter.widget-view+json": {
              "version_major": 2,
              "version_minor": 0,
              "model_id": "46f2b5511e6049f7bfe69a986082a343"
            }
          },
          "metadata": {}
        },
        {
          "output_type": "display_data",
          "data": {
            "text/plain": [
              "  0%|          | 0/1 [00:00<?, ?ba/s]"
            ],
            "application/vnd.jupyter.widget-view+json": {
              "version_major": 2,
              "version_minor": 0,
              "model_id": "aa17016ab4904e1d950dcc1cf810398a"
            }
          },
          "metadata": {}
        },
        {
          "output_type": "display_data",
          "data": {
            "text/plain": [
              "  0%|          | 0/1 [00:00<?, ?ba/s]"
            ],
            "application/vnd.jupyter.widget-view+json": {
              "version_major": 2,
              "version_minor": 0,
              "model_id": "882c759648ac44c29bcfbffd4a6651a1"
            }
          },
          "metadata": {}
        }
      ]
    },
    {
      "cell_type": "markdown",
      "source": [
        "Чтобы модель можно было обучать через Trainer, нужно, чтоб она выдавала кортеж, первый элемент которого -- лосс, а второй непосредственно предсказания. Я просто буду считать CrossEntropyLoss прямо внутри forward-a."
      ],
      "metadata": {
        "id": "WWiGuFvSua_D"
      }
    },
    {
      "cell_type": "code",
      "metadata": {
        "id": "m_mRflxPl32F"
      },
      "source": [
        "device = torch.device('cuda:0')\n",
        "loss_fn = nn.CrossEntropyLoss().to(device)\n",
        "\n",
        "class SentimentClassifier(nn.Module):\n",
        "\n",
        "  def __init__(self, n_classes):\n",
        "    super().__init__()\n",
        "    self.bert = BertModel.from_pretrained(PRE_TRAINED_MODEL_NAME)\n",
        "    self.drop = nn.Dropout(p=0.3)\n",
        "    self.out = nn.Linear(self.bert.config.hidden_size, n_classes)\n",
        "  \n",
        "  def forward(self, input_ids, attention_mask, labels):\n",
        "    sequence_output, pooled_output = self.bert(\n",
        "      input_ids=input_ids,\n",
        "      attention_mask=attention_mask,\n",
        "      return_dict=False)\n",
        "    output = self.drop(pooled_output)\n",
        "    return (loss_fn(self.out(output), labels), self.out(output))"
      ],
      "execution_count": 16,
      "outputs": []
    },
    {
      "cell_type": "markdown",
      "source": [
        "Задаем модель, переносим на ГПУ. Задаем data_collator, он тоже нужен для Trainer-a."
      ],
      "metadata": {
        "id": "yYTccjUvupK3"
      }
    },
    {
      "cell_type": "code",
      "metadata": {
        "id": "i0yQnuSFsjDp",
        "colab": {
          "base_uri": "https://localhost:8080/"
        },
        "outputId": "03f6d1c0-86ec-44fa-9ece-a3d8eac87c6c"
      },
      "source": [
        "model = SentimentClassifier(class_num)\n",
        "model = model.to(device)\n",
        "data_collator = DataCollatorWithPadding(tokenizer=tokenizer)"
      ],
      "execution_count": 53,
      "outputs": [
        {
          "output_type": "stream",
          "name": "stderr",
          "text": [
            "loading configuration file https://huggingface.co/prajjwal1/bert-tiny/resolve/main/config.json from cache at /root/.cache/huggingface/transformers/3cf34679007e9fe5d0acd644dcc1f4b26bec5cbc9612364f6da7262aed4ef7a4.a5a11219cf90aae61ff30e1658ccf2cb4aa84d6b6e947336556f887c9828dc6d\n",
            "Model config BertConfig {\n",
            "  \"attention_probs_dropout_prob\": 0.1,\n",
            "  \"classifier_dropout\": null,\n",
            "  \"hidden_act\": \"gelu\",\n",
            "  \"hidden_dropout_prob\": 0.1,\n",
            "  \"hidden_size\": 128,\n",
            "  \"initializer_range\": 0.02,\n",
            "  \"intermediate_size\": 512,\n",
            "  \"layer_norm_eps\": 1e-12,\n",
            "  \"max_position_embeddings\": 512,\n",
            "  \"model_type\": \"bert\",\n",
            "  \"num_attention_heads\": 2,\n",
            "  \"num_hidden_layers\": 2,\n",
            "  \"pad_token_id\": 0,\n",
            "  \"position_embedding_type\": \"absolute\",\n",
            "  \"transformers_version\": \"4.17.0\",\n",
            "  \"type_vocab_size\": 2,\n",
            "  \"use_cache\": true,\n",
            "  \"vocab_size\": 30522\n",
            "}\n",
            "\n",
            "loading weights file https://huggingface.co/prajjwal1/bert-tiny/resolve/main/pytorch_model.bin from cache at /root/.cache/huggingface/transformers/1ee037c9e1a220d5c814779ffe697080d1e6f5b1602e16cf6061aaae41a082c5.038e1aed90492a59d2283f9c44c9fe3ee2380495ff1e7fefb3f1f04af3b685b5\n",
            "Some weights of the model checkpoint at prajjwal1/bert-tiny were not used when initializing BertModel: ['cls.predictions.transform.dense.bias', 'cls.predictions.decoder.bias', 'cls.predictions.transform.dense.weight', 'cls.seq_relationship.weight', 'cls.predictions.bias', 'cls.predictions.decoder.weight', 'cls.predictions.transform.LayerNorm.weight', 'cls.predictions.transform.LayerNorm.bias', 'cls.seq_relationship.bias']\n",
            "- This IS expected if you are initializing BertModel from the checkpoint of a model trained on another task or with another architecture (e.g. initializing a BertForSequenceClassification model from a BertForPreTraining model).\n",
            "- This IS NOT expected if you are initializing BertModel from the checkpoint of a model that you expect to be exactly identical (initializing a BertForSequenceClassification model from a BertForSequenceClassification model).\n",
            "All the weights of BertModel were initialized from the model checkpoint at prajjwal1/bert-tiny.\n",
            "If your task is similar to the task the model of the checkpoint was trained on, you can already use BertModel for predictions without further training.\n"
          ]
        }
      ]
    },
    {
      "cell_type": "markdown",
      "source": [
        "Кастомная функция для подсчета прочих метрик из исходной тетрадки, ее тоже дадим Trainer-у."
      ],
      "metadata": {
        "id": "LHt0WCInvMI-"
      }
    },
    {
      "cell_type": "code",
      "source": [
        "def compute_metrics(pred):\n",
        "    labels = pred.label_ids\n",
        "    preds = pred.predictions.argmax(-1)\n",
        "    precision, recall, f1, _ = precision_recall_fscore_support(labels, preds, average='weighted')\n",
        "    acc = accuracy_score(labels, preds)\n",
        "    return {\n",
        "        'accuracy': acc,\n",
        "        'f1': f1,\n",
        "        'precision': precision,\n",
        "        'recall': recall\n",
        "    }"
      ],
      "metadata": {
        "id": "BsGKrcb3NNTA"
      },
      "execution_count": 54,
      "outputs": []
    },
    {
      "cell_type": "markdown",
      "source": [
        "Задаем TrainingArguments, они у меня будут одинаковыми для всех моделей (как и требовалось в задании)."
      ],
      "metadata": {
        "id": "Thel5PmcvvDJ"
      }
    },
    {
      "cell_type": "code",
      "source": [
        "training_args = TrainingArguments(\n",
        "    output_dir=\"./results\",\n",
        "    evaluation_strategy=\"epoch\",\n",
        "    learning_rate=2e-5,\n",
        "    per_device_train_batch_size=32,\n",
        "    per_device_eval_batch_size=32,\n",
        "    num_train_epochs=8,\n",
        "    weight_decay=0.01,\n",
        "    logging_steps=1\n",
        "    )"
      ],
      "metadata": {
        "id": "0DzCcEZvxONI",
        "colab": {
          "base_uri": "https://localhost:8080/"
        },
        "outputId": "478d892a-108f-4882-c4d9-2e546ce7e463"
      },
      "execution_count": 55,
      "outputs": [
        {
          "output_type": "stream",
          "name": "stderr",
          "text": [
            "PyTorch: setting up devices\n",
            "The default value for the training argument `--report_to` will change in v5 (from all installed integrations to none). In v5, you will need to use `--report_to all` to get the same behavior as now. You should start updating your code and make this info disappear :-).\n"
          ]
        }
      ]
    },
    {
      "cell_type": "code",
      "source": [
        "train_tok.set_format(type='torch', columns=['input_ids', 'attention_mask', 'labels'])\n",
        "test_tok.set_format(type='torch', columns=['input_ids', 'attention_mask', 'labels'])\n",
        "val_tok.set_format(type='torch', columns=['input_ids', 'attention_mask', 'labels'])"
      ],
      "metadata": {
        "id": "jdij0p15jRAM"
      },
      "execution_count": 56,
      "outputs": []
    },
    {
      "cell_type": "markdown",
      "source": [
        "## 1"
      ],
      "metadata": {
        "id": "X39N53P8u831"
      }
    },
    {
      "cell_type": "markdown",
      "source": [
        "Задаем Trainer, обучаемся."
      ],
      "metadata": {
        "id": "f25Vr60NwXr5"
      }
    },
    {
      "cell_type": "code",
      "source": [
        "trainer = Trainer(\n",
        "    model=model,\n",
        "    args=training_args,\n",
        "    train_dataset=train_tok,\n",
        "    eval_dataset=test_tok,\n",
        "    tokenizer=tokenizer,\n",
        "    data_collator=data_collator,\n",
        "    compute_metrics=compute_metrics\n",
        "    )\n",
        "\n",
        "trainer.train()"
      ],
      "metadata": {
        "colab": {
          "base_uri": "https://localhost:8080/",
          "height": 1000
        },
        "id": "8lifRvxvxkRl",
        "outputId": "71ea708a-fb61-47dd-f7e6-ea4321eb42ac"
      },
      "execution_count": 57,
      "outputs": [
        {
          "output_type": "stream",
          "name": "stderr",
          "text": [
            "The following columns in the training set  don't have a corresponding argument in `SentimentClassifier.forward` and have been ignored: score, at, repliedAt, sentiment, __index_level_0__, token_type_ids, content, sortOrder, userName, appId, text, userImage, replyContent, thumbsUpCount, reviewCreatedVersion. If score, at, repliedAt, sentiment, __index_level_0__, token_type_ids, content, sortOrder, userName, appId, text, userImage, replyContent, thumbsUpCount, reviewCreatedVersion are not expected by `SentimentClassifier.forward`,  you can safely ignore this message.\n",
            "/usr/local/lib/python3.7/dist-packages/transformers/optimization.py:309: FutureWarning: This implementation of AdamW is deprecated and will be removed in a future version. Use the PyTorch implementation torch.optim.AdamW instead, or set `no_deprecation_warning=True` to disable this warning\n",
            "  FutureWarning,\n",
            "***** Running training *****\n",
            "  Num examples = 14171\n",
            "  Num Epochs = 8\n",
            "  Instantaneous batch size per device = 32\n",
            "  Total train batch size (w. parallel, distributed & accumulation) = 32\n",
            "  Gradient Accumulation steps = 1\n",
            "  Total optimization steps = 3544\n"
          ]
        },
        {
          "output_type": "display_data",
          "data": {
            "text/plain": [
              "<IPython.core.display.HTML object>"
            ],
            "text/html": [
              "\n",
              "    <div>\n",
              "      \n",
              "      <progress value='3544' max='3544' style='width:300px; height:20px; vertical-align: middle;'></progress>\n",
              "      [3544/3544 03:07, Epoch 8/8]\n",
              "    </div>\n",
              "    <table border=\"1\" class=\"dataframe\">\n",
              "  <thead>\n",
              " <tr style=\"text-align: left;\">\n",
              "      <th>Epoch</th>\n",
              "      <th>Training Loss</th>\n",
              "      <th>Validation Loss</th>\n",
              "      <th>Accuracy</th>\n",
              "      <th>F1</th>\n",
              "      <th>Precision</th>\n",
              "      <th>Recall</th>\n",
              "    </tr>\n",
              "  </thead>\n",
              "  <tbody>\n",
              "    <tr>\n",
              "      <td>1</td>\n",
              "      <td>1.052100</td>\n",
              "      <td>0.974797</td>\n",
              "      <td>0.529188</td>\n",
              "      <td>0.473469</td>\n",
              "      <td>0.479212</td>\n",
              "      <td>0.529188</td>\n",
              "    </tr>\n",
              "    <tr>\n",
              "      <td>2</td>\n",
              "      <td>0.857700</td>\n",
              "      <td>0.852952</td>\n",
              "      <td>0.579949</td>\n",
              "      <td>0.541990</td>\n",
              "      <td>0.546207</td>\n",
              "      <td>0.579949</td>\n",
              "    </tr>\n",
              "    <tr>\n",
              "      <td>3</td>\n",
              "      <td>0.848600</td>\n",
              "      <td>0.816172</td>\n",
              "      <td>0.595178</td>\n",
              "      <td>0.570154</td>\n",
              "      <td>0.568760</td>\n",
              "      <td>0.595178</td>\n",
              "    </tr>\n",
              "    <tr>\n",
              "      <td>4</td>\n",
              "      <td>0.830300</td>\n",
              "      <td>0.801879</td>\n",
              "      <td>0.600254</td>\n",
              "      <td>0.576744</td>\n",
              "      <td>0.573235</td>\n",
              "      <td>0.600254</td>\n",
              "    </tr>\n",
              "    <tr>\n",
              "      <td>5</td>\n",
              "      <td>0.983900</td>\n",
              "      <td>0.779453</td>\n",
              "      <td>0.612944</td>\n",
              "      <td>0.601947</td>\n",
              "      <td>0.597441</td>\n",
              "      <td>0.612944</td>\n",
              "    </tr>\n",
              "    <tr>\n",
              "      <td>6</td>\n",
              "      <td>0.674500</td>\n",
              "      <td>0.770988</td>\n",
              "      <td>0.626904</td>\n",
              "      <td>0.619825</td>\n",
              "      <td>0.616806</td>\n",
              "      <td>0.626904</td>\n",
              "    </tr>\n",
              "    <tr>\n",
              "      <td>7</td>\n",
              "      <td>0.778200</td>\n",
              "      <td>0.771634</td>\n",
              "      <td>0.633249</td>\n",
              "      <td>0.616642</td>\n",
              "      <td>0.614237</td>\n",
              "      <td>0.633249</td>\n",
              "    </tr>\n",
              "    <tr>\n",
              "      <td>8</td>\n",
              "      <td>0.615000</td>\n",
              "      <td>0.769446</td>\n",
              "      <td>0.630711</td>\n",
              "      <td>0.615152</td>\n",
              "      <td>0.612350</td>\n",
              "      <td>0.630711</td>\n",
              "    </tr>\n",
              "  </tbody>\n",
              "</table><p>"
            ]
          },
          "metadata": {}
        },
        {
          "output_type": "stream",
          "name": "stderr",
          "text": [
            "The following columns in the evaluation set  don't have a corresponding argument in `SentimentClassifier.forward` and have been ignored: score, at, repliedAt, sentiment, __index_level_0__, token_type_ids, content, sortOrder, userName, appId, text, userImage, replyContent, thumbsUpCount, reviewCreatedVersion. If score, at, repliedAt, sentiment, __index_level_0__, token_type_ids, content, sortOrder, userName, appId, text, userImage, replyContent, thumbsUpCount, reviewCreatedVersion are not expected by `SentimentClassifier.forward`,  you can safely ignore this message.\n",
            "***** Running Evaluation *****\n",
            "  Num examples = 788\n",
            "  Batch size = 32\n",
            "Saving model checkpoint to ./results/checkpoint-500\n",
            "Trainer.model is not a `PreTrainedModel`, only saving its state dict.\n",
            "tokenizer config file saved in ./results/checkpoint-500/tokenizer_config.json\n",
            "Special tokens file saved in ./results/checkpoint-500/special_tokens_map.json\n",
            "The following columns in the evaluation set  don't have a corresponding argument in `SentimentClassifier.forward` and have been ignored: score, at, repliedAt, sentiment, __index_level_0__, token_type_ids, content, sortOrder, userName, appId, text, userImage, replyContent, thumbsUpCount, reviewCreatedVersion. If score, at, repliedAt, sentiment, __index_level_0__, token_type_ids, content, sortOrder, userName, appId, text, userImage, replyContent, thumbsUpCount, reviewCreatedVersion are not expected by `SentimentClassifier.forward`,  you can safely ignore this message.\n",
            "***** Running Evaluation *****\n",
            "  Num examples = 788\n",
            "  Batch size = 32\n",
            "Saving model checkpoint to ./results/checkpoint-1000\n",
            "Trainer.model is not a `PreTrainedModel`, only saving its state dict.\n",
            "tokenizer config file saved in ./results/checkpoint-1000/tokenizer_config.json\n",
            "Special tokens file saved in ./results/checkpoint-1000/special_tokens_map.json\n",
            "The following columns in the evaluation set  don't have a corresponding argument in `SentimentClassifier.forward` and have been ignored: score, at, repliedAt, sentiment, __index_level_0__, token_type_ids, content, sortOrder, userName, appId, text, userImage, replyContent, thumbsUpCount, reviewCreatedVersion. If score, at, repliedAt, sentiment, __index_level_0__, token_type_ids, content, sortOrder, userName, appId, text, userImage, replyContent, thumbsUpCount, reviewCreatedVersion are not expected by `SentimentClassifier.forward`,  you can safely ignore this message.\n",
            "***** Running Evaluation *****\n",
            "  Num examples = 788\n",
            "  Batch size = 32\n",
            "Saving model checkpoint to ./results/checkpoint-1500\n",
            "Trainer.model is not a `PreTrainedModel`, only saving its state dict.\n",
            "tokenizer config file saved in ./results/checkpoint-1500/tokenizer_config.json\n",
            "Special tokens file saved in ./results/checkpoint-1500/special_tokens_map.json\n",
            "The following columns in the evaluation set  don't have a corresponding argument in `SentimentClassifier.forward` and have been ignored: score, at, repliedAt, sentiment, __index_level_0__, token_type_ids, content, sortOrder, userName, appId, text, userImage, replyContent, thumbsUpCount, reviewCreatedVersion. If score, at, repliedAt, sentiment, __index_level_0__, token_type_ids, content, sortOrder, userName, appId, text, userImage, replyContent, thumbsUpCount, reviewCreatedVersion are not expected by `SentimentClassifier.forward`,  you can safely ignore this message.\n",
            "***** Running Evaluation *****\n",
            "  Num examples = 788\n",
            "  Batch size = 32\n",
            "Saving model checkpoint to ./results/checkpoint-2000\n",
            "Trainer.model is not a `PreTrainedModel`, only saving its state dict.\n",
            "tokenizer config file saved in ./results/checkpoint-2000/tokenizer_config.json\n",
            "Special tokens file saved in ./results/checkpoint-2000/special_tokens_map.json\n",
            "The following columns in the evaluation set  don't have a corresponding argument in `SentimentClassifier.forward` and have been ignored: score, at, repliedAt, sentiment, __index_level_0__, token_type_ids, content, sortOrder, userName, appId, text, userImage, replyContent, thumbsUpCount, reviewCreatedVersion. If score, at, repliedAt, sentiment, __index_level_0__, token_type_ids, content, sortOrder, userName, appId, text, userImage, replyContent, thumbsUpCount, reviewCreatedVersion are not expected by `SentimentClassifier.forward`,  you can safely ignore this message.\n",
            "***** Running Evaluation *****\n",
            "  Num examples = 788\n",
            "  Batch size = 32\n",
            "Saving model checkpoint to ./results/checkpoint-2500\n",
            "Trainer.model is not a `PreTrainedModel`, only saving its state dict.\n",
            "tokenizer config file saved in ./results/checkpoint-2500/tokenizer_config.json\n",
            "Special tokens file saved in ./results/checkpoint-2500/special_tokens_map.json\n",
            "The following columns in the evaluation set  don't have a corresponding argument in `SentimentClassifier.forward` and have been ignored: score, at, repliedAt, sentiment, __index_level_0__, token_type_ids, content, sortOrder, userName, appId, text, userImage, replyContent, thumbsUpCount, reviewCreatedVersion. If score, at, repliedAt, sentiment, __index_level_0__, token_type_ids, content, sortOrder, userName, appId, text, userImage, replyContent, thumbsUpCount, reviewCreatedVersion are not expected by `SentimentClassifier.forward`,  you can safely ignore this message.\n",
            "***** Running Evaluation *****\n",
            "  Num examples = 788\n",
            "  Batch size = 32\n",
            "Saving model checkpoint to ./results/checkpoint-3000\n",
            "Trainer.model is not a `PreTrainedModel`, only saving its state dict.\n",
            "tokenizer config file saved in ./results/checkpoint-3000/tokenizer_config.json\n",
            "Special tokens file saved in ./results/checkpoint-3000/special_tokens_map.json\n",
            "The following columns in the evaluation set  don't have a corresponding argument in `SentimentClassifier.forward` and have been ignored: score, at, repliedAt, sentiment, __index_level_0__, token_type_ids, content, sortOrder, userName, appId, text, userImage, replyContent, thumbsUpCount, reviewCreatedVersion. If score, at, repliedAt, sentiment, __index_level_0__, token_type_ids, content, sortOrder, userName, appId, text, userImage, replyContent, thumbsUpCount, reviewCreatedVersion are not expected by `SentimentClassifier.forward`,  you can safely ignore this message.\n",
            "***** Running Evaluation *****\n",
            "  Num examples = 788\n",
            "  Batch size = 32\n",
            "Saving model checkpoint to ./results/checkpoint-3500\n",
            "Trainer.model is not a `PreTrainedModel`, only saving its state dict.\n",
            "tokenizer config file saved in ./results/checkpoint-3500/tokenizer_config.json\n",
            "Special tokens file saved in ./results/checkpoint-3500/special_tokens_map.json\n",
            "The following columns in the evaluation set  don't have a corresponding argument in `SentimentClassifier.forward` and have been ignored: score, at, repliedAt, sentiment, __index_level_0__, token_type_ids, content, sortOrder, userName, appId, text, userImage, replyContent, thumbsUpCount, reviewCreatedVersion. If score, at, repliedAt, sentiment, __index_level_0__, token_type_ids, content, sortOrder, userName, appId, text, userImage, replyContent, thumbsUpCount, reviewCreatedVersion are not expected by `SentimentClassifier.forward`,  you can safely ignore this message.\n",
            "***** Running Evaluation *****\n",
            "  Num examples = 788\n",
            "  Batch size = 32\n",
            "\n",
            "\n",
            "Training completed. Do not forget to share your model on huggingface.co/models =)\n",
            "\n",
            "\n"
          ]
        },
        {
          "output_type": "execute_result",
          "data": {
            "text/plain": [
              "TrainOutput(global_step=3544, training_loss=0.8546191104445985, metrics={'train_runtime': 187.9154, 'train_samples_per_second': 603.293, 'train_steps_per_second': 18.86, 'total_flos': 0.0, 'train_loss': 0.8546191104445985, 'epoch': 8.0})"
            ]
          },
          "metadata": {},
          "execution_count": 57
        }
      ]
    },
    {
      "cell_type": "code",
      "source": [
        "metrics = trainer.evaluate(eval_dataset=val_tok, metric_key_prefix=\"test\")\n",
        "print(f'''metrics:\\n\n",
        "accuracy: {metrics['test_accuracy']},\\n\n",
        "f1: {metrics['test_f1']},\\n\n",
        "precision: {metrics['test_precision']},\\n\n",
        "recall: {metrics['test_recall']},\\n''')"
      ],
      "metadata": {
        "colab": {
          "base_uri": "https://localhost:8080/",
          "height": 287
        },
        "id": "gMGT-GrsONa6",
        "outputId": "c1639c26-801b-4589-c5f0-b4889b5aba50"
      },
      "execution_count": 58,
      "outputs": [
        {
          "output_type": "stream",
          "name": "stderr",
          "text": [
            "The following columns in the evaluation set  don't have a corresponding argument in `SentimentClassifier.forward` and have been ignored: score, at, repliedAt, sentiment, __index_level_0__, token_type_ids, content, sortOrder, userName, appId, text, userImage, replyContent, thumbsUpCount, reviewCreatedVersion. If score, at, repliedAt, sentiment, __index_level_0__, token_type_ids, content, sortOrder, userName, appId, text, userImage, replyContent, thumbsUpCount, reviewCreatedVersion are not expected by `SentimentClassifier.forward`,  you can safely ignore this message.\n",
            "***** Running Evaluation *****\n",
            "  Num examples = 787\n",
            "  Batch size = 32\n"
          ]
        },
        {
          "output_type": "display_data",
          "data": {
            "text/plain": [
              "<IPython.core.display.HTML object>"
            ],
            "text/html": [
              "\n",
              "    <div>\n",
              "      \n",
              "      <progress value='25' max='25' style='width:300px; height:20px; vertical-align: middle;'></progress>\n",
              "      [25/25 00:00]\n",
              "    </div>\n",
              "    "
            ]
          },
          "metadata": {}
        },
        {
          "output_type": "stream",
          "name": "stdout",
          "text": [
            "metrics:\n",
            "\n",
            "accuracy: 0.6581956797966964,\n",
            "\n",
            "f1: 0.64760094356727,\n",
            "\n",
            "precision: 0.6509942766505324,\n",
            "\n",
            "recall: 0.6581956797966964,\n",
            "\n"
          ]
        }
      ]
    },
    {
      "cell_type": "markdown",
      "source": [
        "## 2"
      ],
      "metadata": {
        "id": "I-qaPQA4vAxm"
      }
    },
    {
      "cell_type": "markdown",
      "source": [
        "Практически такая же модель, но здесь мы еще достаем эмбеддинг CLS-токена и конкатенируем его с выходом пулинг-слоя, прежде чем подать это все на вход дропауту и затем линейному слою."
      ],
      "metadata": {
        "id": "UQcKSX62w0Dl"
      }
    },
    {
      "cell_type": "code",
      "source": [
        "class SentimentClassifier_2(nn.Module):\n",
        "\n",
        "  def __init__(self, n_classes):\n",
        "    super().__init__()\n",
        "    self.bert = BertModel.from_pretrained(PRE_TRAINED_MODEL_NAME)\n",
        "    self.drop = nn.Dropout(p=0.3)\n",
        "    self.out = nn.Linear(self.bert.config.hidden_size*2, n_classes)\n",
        "  \n",
        "  def forward(self, input_ids, attention_mask, labels):\n",
        "    sequence_output, pooled_output = self.bert(\n",
        "      input_ids=input_ids,\n",
        "      attention_mask=attention_mask,\n",
        "      return_dict=False)\n",
        "    cls_emb = sequence_output[:,0,:]\n",
        "    output = self.drop(torch.cat((cls_emb, pooled_output), 1))\n",
        "    return (loss_fn(self.out(output), labels), self.out(output))"
      ],
      "metadata": {
        "id": "1yKiNDBrOYX5"
      },
      "execution_count": 59,
      "outputs": []
    },
    {
      "cell_type": "code",
      "source": [
        "model_2 = SentimentClassifier_2(class_num)\n",
        "model_2 = model_2.to(device)"
      ],
      "metadata": {
        "colab": {
          "base_uri": "https://localhost:8080/"
        },
        "id": "IH3hCYtkUTdw",
        "outputId": "937a2f8c-ec08-4f94-af76-ccaeaea629a5"
      },
      "execution_count": 60,
      "outputs": [
        {
          "output_type": "stream",
          "name": "stderr",
          "text": [
            "loading configuration file https://huggingface.co/prajjwal1/bert-tiny/resolve/main/config.json from cache at /root/.cache/huggingface/transformers/3cf34679007e9fe5d0acd644dcc1f4b26bec5cbc9612364f6da7262aed4ef7a4.a5a11219cf90aae61ff30e1658ccf2cb4aa84d6b6e947336556f887c9828dc6d\n",
            "Model config BertConfig {\n",
            "  \"attention_probs_dropout_prob\": 0.1,\n",
            "  \"classifier_dropout\": null,\n",
            "  \"hidden_act\": \"gelu\",\n",
            "  \"hidden_dropout_prob\": 0.1,\n",
            "  \"hidden_size\": 128,\n",
            "  \"initializer_range\": 0.02,\n",
            "  \"intermediate_size\": 512,\n",
            "  \"layer_norm_eps\": 1e-12,\n",
            "  \"max_position_embeddings\": 512,\n",
            "  \"model_type\": \"bert\",\n",
            "  \"num_attention_heads\": 2,\n",
            "  \"num_hidden_layers\": 2,\n",
            "  \"pad_token_id\": 0,\n",
            "  \"position_embedding_type\": \"absolute\",\n",
            "  \"transformers_version\": \"4.17.0\",\n",
            "  \"type_vocab_size\": 2,\n",
            "  \"use_cache\": true,\n",
            "  \"vocab_size\": 30522\n",
            "}\n",
            "\n",
            "loading weights file https://huggingface.co/prajjwal1/bert-tiny/resolve/main/pytorch_model.bin from cache at /root/.cache/huggingface/transformers/1ee037c9e1a220d5c814779ffe697080d1e6f5b1602e16cf6061aaae41a082c5.038e1aed90492a59d2283f9c44c9fe3ee2380495ff1e7fefb3f1f04af3b685b5\n",
            "Some weights of the model checkpoint at prajjwal1/bert-tiny were not used when initializing BertModel: ['cls.predictions.transform.dense.bias', 'cls.predictions.decoder.bias', 'cls.predictions.transform.dense.weight', 'cls.seq_relationship.weight', 'cls.predictions.bias', 'cls.predictions.decoder.weight', 'cls.predictions.transform.LayerNorm.weight', 'cls.predictions.transform.LayerNorm.bias', 'cls.seq_relationship.bias']\n",
            "- This IS expected if you are initializing BertModel from the checkpoint of a model trained on another task or with another architecture (e.g. initializing a BertForSequenceClassification model from a BertForPreTraining model).\n",
            "- This IS NOT expected if you are initializing BertModel from the checkpoint of a model that you expect to be exactly identical (initializing a BertForSequenceClassification model from a BertForSequenceClassification model).\n",
            "All the weights of BertModel were initialized from the model checkpoint at prajjwal1/bert-tiny.\n",
            "If your task is similar to the task the model of the checkpoint was trained on, you can already use BertModel for predictions without further training.\n"
          ]
        }
      ]
    },
    {
      "cell_type": "code",
      "source": [
        "trainer_2 = Trainer(\n",
        "    model=model_2,\n",
        "    args=training_args,\n",
        "    train_dataset=train_tok,\n",
        "    eval_dataset=test_tok,\n",
        "    tokenizer=tokenizer,\n",
        "    data_collator=data_collator,\n",
        "    compute_metrics=compute_metrics\n",
        "    )\n",
        "\n",
        "trainer_2.train()"
      ],
      "metadata": {
        "colab": {
          "base_uri": "https://localhost:8080/",
          "height": 1000
        },
        "id": "Y-vnibHlUZ4k",
        "outputId": "a5f87c7b-98c9-4d30-e189-08a5d933bd4c"
      },
      "execution_count": 61,
      "outputs": [
        {
          "output_type": "stream",
          "name": "stderr",
          "text": [
            "The following columns in the training set  don't have a corresponding argument in `SentimentClassifier_2.forward` and have been ignored: score, at, repliedAt, sentiment, __index_level_0__, token_type_ids, content, sortOrder, userName, appId, text, userImage, replyContent, thumbsUpCount, reviewCreatedVersion. If score, at, repliedAt, sentiment, __index_level_0__, token_type_ids, content, sortOrder, userName, appId, text, userImage, replyContent, thumbsUpCount, reviewCreatedVersion are not expected by `SentimentClassifier_2.forward`,  you can safely ignore this message.\n",
            "/usr/local/lib/python3.7/dist-packages/transformers/optimization.py:309: FutureWarning: This implementation of AdamW is deprecated and will be removed in a future version. Use the PyTorch implementation torch.optim.AdamW instead, or set `no_deprecation_warning=True` to disable this warning\n",
            "  FutureWarning,\n",
            "***** Running training *****\n",
            "  Num examples = 14171\n",
            "  Num Epochs = 8\n",
            "  Instantaneous batch size per device = 32\n",
            "  Total train batch size (w. parallel, distributed & accumulation) = 32\n",
            "  Gradient Accumulation steps = 1\n",
            "  Total optimization steps = 3544\n"
          ]
        },
        {
          "output_type": "display_data",
          "data": {
            "text/plain": [
              "<IPython.core.display.HTML object>"
            ],
            "text/html": [
              "\n",
              "    <div>\n",
              "      \n",
              "      <progress value='3544' max='3544' style='width:300px; height:20px; vertical-align: middle;'></progress>\n",
              "      [3544/3544 03:07, Epoch 8/8]\n",
              "    </div>\n",
              "    <table border=\"1\" class=\"dataframe\">\n",
              "  <thead>\n",
              " <tr style=\"text-align: left;\">\n",
              "      <th>Epoch</th>\n",
              "      <th>Training Loss</th>\n",
              "      <th>Validation Loss</th>\n",
              "      <th>Accuracy</th>\n",
              "      <th>F1</th>\n",
              "      <th>Precision</th>\n",
              "      <th>Recall</th>\n",
              "    </tr>\n",
              "  </thead>\n",
              "  <tbody>\n",
              "    <tr>\n",
              "      <td>1</td>\n",
              "      <td>0.995200</td>\n",
              "      <td>0.966552</td>\n",
              "      <td>0.531726</td>\n",
              "      <td>0.504113</td>\n",
              "      <td>0.510354</td>\n",
              "      <td>0.531726</td>\n",
              "    </tr>\n",
              "    <tr>\n",
              "      <td>2</td>\n",
              "      <td>0.806700</td>\n",
              "      <td>0.858658</td>\n",
              "      <td>0.588832</td>\n",
              "      <td>0.562656</td>\n",
              "      <td>0.564160</td>\n",
              "      <td>0.588832</td>\n",
              "    </tr>\n",
              "    <tr>\n",
              "      <td>3</td>\n",
              "      <td>0.911200</td>\n",
              "      <td>0.813757</td>\n",
              "      <td>0.625635</td>\n",
              "      <td>0.609794</td>\n",
              "      <td>0.608051</td>\n",
              "      <td>0.625635</td>\n",
              "    </tr>\n",
              "    <tr>\n",
              "      <td>4</td>\n",
              "      <td>0.749300</td>\n",
              "      <td>0.799603</td>\n",
              "      <td>0.621827</td>\n",
              "      <td>0.609037</td>\n",
              "      <td>0.607357</td>\n",
              "      <td>0.621827</td>\n",
              "    </tr>\n",
              "    <tr>\n",
              "      <td>5</td>\n",
              "      <td>0.960000</td>\n",
              "      <td>0.780505</td>\n",
              "      <td>0.640863</td>\n",
              "      <td>0.636191</td>\n",
              "      <td>0.633835</td>\n",
              "      <td>0.640863</td>\n",
              "    </tr>\n",
              "    <tr>\n",
              "      <td>6</td>\n",
              "      <td>0.661200</td>\n",
              "      <td>0.768480</td>\n",
              "      <td>0.643401</td>\n",
              "      <td>0.641325</td>\n",
              "      <td>0.639674</td>\n",
              "      <td>0.643401</td>\n",
              "    </tr>\n",
              "    <tr>\n",
              "      <td>7</td>\n",
              "      <td>0.898500</td>\n",
              "      <td>0.766230</td>\n",
              "      <td>0.644670</td>\n",
              "      <td>0.637134</td>\n",
              "      <td>0.633995</td>\n",
              "      <td>0.644670</td>\n",
              "    </tr>\n",
              "    <tr>\n",
              "      <td>8</td>\n",
              "      <td>0.645900</td>\n",
              "      <td>0.764410</td>\n",
              "      <td>0.647208</td>\n",
              "      <td>0.641270</td>\n",
              "      <td>0.638427</td>\n",
              "      <td>0.647208</td>\n",
              "    </tr>\n",
              "  </tbody>\n",
              "</table><p>"
            ]
          },
          "metadata": {}
        },
        {
          "output_type": "stream",
          "name": "stderr",
          "text": [
            "The following columns in the evaluation set  don't have a corresponding argument in `SentimentClassifier_2.forward` and have been ignored: score, at, repliedAt, sentiment, __index_level_0__, token_type_ids, content, sortOrder, userName, appId, text, userImage, replyContent, thumbsUpCount, reviewCreatedVersion. If score, at, repliedAt, sentiment, __index_level_0__, token_type_ids, content, sortOrder, userName, appId, text, userImage, replyContent, thumbsUpCount, reviewCreatedVersion are not expected by `SentimentClassifier_2.forward`,  you can safely ignore this message.\n",
            "***** Running Evaluation *****\n",
            "  Num examples = 788\n",
            "  Batch size = 32\n",
            "Saving model checkpoint to ./results/checkpoint-500\n",
            "Trainer.model is not a `PreTrainedModel`, only saving its state dict.\n",
            "tokenizer config file saved in ./results/checkpoint-500/tokenizer_config.json\n",
            "Special tokens file saved in ./results/checkpoint-500/special_tokens_map.json\n",
            "The following columns in the evaluation set  don't have a corresponding argument in `SentimentClassifier_2.forward` and have been ignored: score, at, repliedAt, sentiment, __index_level_0__, token_type_ids, content, sortOrder, userName, appId, text, userImage, replyContent, thumbsUpCount, reviewCreatedVersion. If score, at, repliedAt, sentiment, __index_level_0__, token_type_ids, content, sortOrder, userName, appId, text, userImage, replyContent, thumbsUpCount, reviewCreatedVersion are not expected by `SentimentClassifier_2.forward`,  you can safely ignore this message.\n",
            "***** Running Evaluation *****\n",
            "  Num examples = 788\n",
            "  Batch size = 32\n",
            "Saving model checkpoint to ./results/checkpoint-1000\n",
            "Trainer.model is not a `PreTrainedModel`, only saving its state dict.\n",
            "tokenizer config file saved in ./results/checkpoint-1000/tokenizer_config.json\n",
            "Special tokens file saved in ./results/checkpoint-1000/special_tokens_map.json\n",
            "The following columns in the evaluation set  don't have a corresponding argument in `SentimentClassifier_2.forward` and have been ignored: score, at, repliedAt, sentiment, __index_level_0__, token_type_ids, content, sortOrder, userName, appId, text, userImage, replyContent, thumbsUpCount, reviewCreatedVersion. If score, at, repliedAt, sentiment, __index_level_0__, token_type_ids, content, sortOrder, userName, appId, text, userImage, replyContent, thumbsUpCount, reviewCreatedVersion are not expected by `SentimentClassifier_2.forward`,  you can safely ignore this message.\n",
            "***** Running Evaluation *****\n",
            "  Num examples = 788\n",
            "  Batch size = 32\n",
            "Saving model checkpoint to ./results/checkpoint-1500\n",
            "Trainer.model is not a `PreTrainedModel`, only saving its state dict.\n",
            "tokenizer config file saved in ./results/checkpoint-1500/tokenizer_config.json\n",
            "Special tokens file saved in ./results/checkpoint-1500/special_tokens_map.json\n",
            "The following columns in the evaluation set  don't have a corresponding argument in `SentimentClassifier_2.forward` and have been ignored: score, at, repliedAt, sentiment, __index_level_0__, token_type_ids, content, sortOrder, userName, appId, text, userImage, replyContent, thumbsUpCount, reviewCreatedVersion. If score, at, repliedAt, sentiment, __index_level_0__, token_type_ids, content, sortOrder, userName, appId, text, userImage, replyContent, thumbsUpCount, reviewCreatedVersion are not expected by `SentimentClassifier_2.forward`,  you can safely ignore this message.\n",
            "***** Running Evaluation *****\n",
            "  Num examples = 788\n",
            "  Batch size = 32\n",
            "Saving model checkpoint to ./results/checkpoint-2000\n",
            "Trainer.model is not a `PreTrainedModel`, only saving its state dict.\n",
            "tokenizer config file saved in ./results/checkpoint-2000/tokenizer_config.json\n",
            "Special tokens file saved in ./results/checkpoint-2000/special_tokens_map.json\n",
            "The following columns in the evaluation set  don't have a corresponding argument in `SentimentClassifier_2.forward` and have been ignored: score, at, repliedAt, sentiment, __index_level_0__, token_type_ids, content, sortOrder, userName, appId, text, userImage, replyContent, thumbsUpCount, reviewCreatedVersion. If score, at, repliedAt, sentiment, __index_level_0__, token_type_ids, content, sortOrder, userName, appId, text, userImage, replyContent, thumbsUpCount, reviewCreatedVersion are not expected by `SentimentClassifier_2.forward`,  you can safely ignore this message.\n",
            "***** Running Evaluation *****\n",
            "  Num examples = 788\n",
            "  Batch size = 32\n",
            "Saving model checkpoint to ./results/checkpoint-2500\n",
            "Trainer.model is not a `PreTrainedModel`, only saving its state dict.\n",
            "tokenizer config file saved in ./results/checkpoint-2500/tokenizer_config.json\n",
            "Special tokens file saved in ./results/checkpoint-2500/special_tokens_map.json\n",
            "The following columns in the evaluation set  don't have a corresponding argument in `SentimentClassifier_2.forward` and have been ignored: score, at, repliedAt, sentiment, __index_level_0__, token_type_ids, content, sortOrder, userName, appId, text, userImage, replyContent, thumbsUpCount, reviewCreatedVersion. If score, at, repliedAt, sentiment, __index_level_0__, token_type_ids, content, sortOrder, userName, appId, text, userImage, replyContent, thumbsUpCount, reviewCreatedVersion are not expected by `SentimentClassifier_2.forward`,  you can safely ignore this message.\n",
            "***** Running Evaluation *****\n",
            "  Num examples = 788\n",
            "  Batch size = 32\n",
            "Saving model checkpoint to ./results/checkpoint-3000\n",
            "Trainer.model is not a `PreTrainedModel`, only saving its state dict.\n",
            "tokenizer config file saved in ./results/checkpoint-3000/tokenizer_config.json\n",
            "Special tokens file saved in ./results/checkpoint-3000/special_tokens_map.json\n",
            "The following columns in the evaluation set  don't have a corresponding argument in `SentimentClassifier_2.forward` and have been ignored: score, at, repliedAt, sentiment, __index_level_0__, token_type_ids, content, sortOrder, userName, appId, text, userImage, replyContent, thumbsUpCount, reviewCreatedVersion. If score, at, repliedAt, sentiment, __index_level_0__, token_type_ids, content, sortOrder, userName, appId, text, userImage, replyContent, thumbsUpCount, reviewCreatedVersion are not expected by `SentimentClassifier_2.forward`,  you can safely ignore this message.\n",
            "***** Running Evaluation *****\n",
            "  Num examples = 788\n",
            "  Batch size = 32\n",
            "Saving model checkpoint to ./results/checkpoint-3500\n",
            "Trainer.model is not a `PreTrainedModel`, only saving its state dict.\n",
            "tokenizer config file saved in ./results/checkpoint-3500/tokenizer_config.json\n",
            "Special tokens file saved in ./results/checkpoint-3500/special_tokens_map.json\n",
            "The following columns in the evaluation set  don't have a corresponding argument in `SentimentClassifier_2.forward` and have been ignored: score, at, repliedAt, sentiment, __index_level_0__, token_type_ids, content, sortOrder, userName, appId, text, userImage, replyContent, thumbsUpCount, reviewCreatedVersion. If score, at, repliedAt, sentiment, __index_level_0__, token_type_ids, content, sortOrder, userName, appId, text, userImage, replyContent, thumbsUpCount, reviewCreatedVersion are not expected by `SentimentClassifier_2.forward`,  you can safely ignore this message.\n",
            "***** Running Evaluation *****\n",
            "  Num examples = 788\n",
            "  Batch size = 32\n",
            "\n",
            "\n",
            "Training completed. Do not forget to share your model on huggingface.co/models =)\n",
            "\n",
            "\n"
          ]
        },
        {
          "output_type": "execute_result",
          "data": {
            "text/plain": [
              "TrainOutput(global_step=3544, training_loss=0.8633529583736413, metrics={'train_runtime': 187.4338, 'train_samples_per_second': 604.843, 'train_steps_per_second': 18.908, 'total_flos': 0.0, 'train_loss': 0.8633529583736413, 'epoch': 8.0})"
            ]
          },
          "metadata": {},
          "execution_count": 61
        }
      ]
    },
    {
      "cell_type": "code",
      "source": [
        "metrics = trainer_2.evaluate(eval_dataset=val_tok, metric_key_prefix=\"test\")\n",
        "print(f'''metrics:\\n\n",
        "accuracy: {metrics['test_accuracy']},\\n\n",
        "f1: {metrics['test_f1']},\\n\n",
        "precision: {metrics['test_precision']},\\n\n",
        "recall: {metrics['test_recall']},\\n''')"
      ],
      "metadata": {
        "colab": {
          "base_uri": "https://localhost:8080/",
          "height": 287
        },
        "id": "3jedmK4XeSZI",
        "outputId": "7cd96c3e-5752-4273-e215-6e75b0bc4769"
      },
      "execution_count": 62,
      "outputs": [
        {
          "output_type": "stream",
          "name": "stderr",
          "text": [
            "The following columns in the evaluation set  don't have a corresponding argument in `SentimentClassifier_2.forward` and have been ignored: score, at, repliedAt, sentiment, __index_level_0__, token_type_ids, content, sortOrder, userName, appId, text, userImage, replyContent, thumbsUpCount, reviewCreatedVersion. If score, at, repliedAt, sentiment, __index_level_0__, token_type_ids, content, sortOrder, userName, appId, text, userImage, replyContent, thumbsUpCount, reviewCreatedVersion are not expected by `SentimentClassifier_2.forward`,  you can safely ignore this message.\n",
            "***** Running Evaluation *****\n",
            "  Num examples = 787\n",
            "  Batch size = 32\n"
          ]
        },
        {
          "output_type": "display_data",
          "data": {
            "text/plain": [
              "<IPython.core.display.HTML object>"
            ],
            "text/html": [
              "\n",
              "    <div>\n",
              "      \n",
              "      <progress value='25' max='25' style='width:300px; height:20px; vertical-align: middle;'></progress>\n",
              "      [25/25 00:00]\n",
              "    </div>\n",
              "    "
            ]
          },
          "metadata": {}
        },
        {
          "output_type": "stream",
          "name": "stdout",
          "text": [
            "metrics:\n",
            "\n",
            "accuracy: 0.6747141041931385,\n",
            "\n",
            "f1: 0.6689899021559856,\n",
            "\n",
            "precision: 0.6676611928511442,\n",
            "\n",
            "recall: 0.6747141041931385,\n",
            "\n"
          ]
        }
      ]
    },
    {
      "cell_type": "markdown",
      "source": [
        "## 3"
      ],
      "metadata": {
        "id": "nPSYvSJFvDvq"
      }
    },
    {
      "cell_type": "markdown",
      "source": [
        "Теперь третья модель, здесь просто загружаем ту же самую предобученную модель в класс, уже заточенный на классификацию текстов (BertForSequenceClassification)."
      ],
      "metadata": {
        "id": "XzA0Nwi7xF2q"
      }
    },
    {
      "cell_type": "code",
      "source": [
        "model_3 = BertForSequenceClassification.from_pretrained(PRE_TRAINED_MODEL_NAME, num_labels=class_num)"
      ],
      "metadata": {
        "colab": {
          "base_uri": "https://localhost:8080/"
        },
        "id": "qGUAFs5FghSk",
        "outputId": "1cdfe6dd-96c2-4a4c-92f9-5eda0603c4ad"
      },
      "execution_count": 63,
      "outputs": [
        {
          "output_type": "stream",
          "name": "stderr",
          "text": [
            "loading configuration file https://huggingface.co/prajjwal1/bert-tiny/resolve/main/config.json from cache at /root/.cache/huggingface/transformers/3cf34679007e9fe5d0acd644dcc1f4b26bec5cbc9612364f6da7262aed4ef7a4.a5a11219cf90aae61ff30e1658ccf2cb4aa84d6b6e947336556f887c9828dc6d\n",
            "Model config BertConfig {\n",
            "  \"attention_probs_dropout_prob\": 0.1,\n",
            "  \"classifier_dropout\": null,\n",
            "  \"hidden_act\": \"gelu\",\n",
            "  \"hidden_dropout_prob\": 0.1,\n",
            "  \"hidden_size\": 128,\n",
            "  \"id2label\": {\n",
            "    \"0\": \"LABEL_0\",\n",
            "    \"1\": \"LABEL_1\",\n",
            "    \"2\": \"LABEL_2\"\n",
            "  },\n",
            "  \"initializer_range\": 0.02,\n",
            "  \"intermediate_size\": 512,\n",
            "  \"label2id\": {\n",
            "    \"LABEL_0\": 0,\n",
            "    \"LABEL_1\": 1,\n",
            "    \"LABEL_2\": 2\n",
            "  },\n",
            "  \"layer_norm_eps\": 1e-12,\n",
            "  \"max_position_embeddings\": 512,\n",
            "  \"model_type\": \"bert\",\n",
            "  \"num_attention_heads\": 2,\n",
            "  \"num_hidden_layers\": 2,\n",
            "  \"pad_token_id\": 0,\n",
            "  \"position_embedding_type\": \"absolute\",\n",
            "  \"transformers_version\": \"4.17.0\",\n",
            "  \"type_vocab_size\": 2,\n",
            "  \"use_cache\": true,\n",
            "  \"vocab_size\": 30522\n",
            "}\n",
            "\n",
            "loading weights file https://huggingface.co/prajjwal1/bert-tiny/resolve/main/pytorch_model.bin from cache at /root/.cache/huggingface/transformers/1ee037c9e1a220d5c814779ffe697080d1e6f5b1602e16cf6061aaae41a082c5.038e1aed90492a59d2283f9c44c9fe3ee2380495ff1e7fefb3f1f04af3b685b5\n",
            "Some weights of the model checkpoint at prajjwal1/bert-tiny were not used when initializing BertForSequenceClassification: ['cls.predictions.transform.dense.bias', 'cls.predictions.decoder.bias', 'cls.predictions.transform.dense.weight', 'cls.seq_relationship.weight', 'cls.predictions.bias', 'cls.predictions.decoder.weight', 'cls.predictions.transform.LayerNorm.weight', 'cls.predictions.transform.LayerNorm.bias', 'cls.seq_relationship.bias']\n",
            "- This IS expected if you are initializing BertForSequenceClassification from the checkpoint of a model trained on another task or with another architecture (e.g. initializing a BertForSequenceClassification model from a BertForPreTraining model).\n",
            "- This IS NOT expected if you are initializing BertForSequenceClassification from the checkpoint of a model that you expect to be exactly identical (initializing a BertForSequenceClassification model from a BertForSequenceClassification model).\n",
            "Some weights of BertForSequenceClassification were not initialized from the model checkpoint at prajjwal1/bert-tiny and are newly initialized: ['classifier.weight', 'classifier.bias']\n",
            "You should probably TRAIN this model on a down-stream task to be able to use it for predictions and inference.\n"
          ]
        }
      ]
    },
    {
      "cell_type": "code",
      "source": [
        "trainer_3 = Trainer(\n",
        "    model=model_3,\n",
        "    args=training_args,\n",
        "    train_dataset=train_tok,\n",
        "    eval_dataset=test_tok,\n",
        "    tokenizer=tokenizer,\n",
        "    data_collator=data_collator,\n",
        "    compute_metrics=compute_metrics\n",
        "    )\n",
        "\n",
        "trainer_3.train()"
      ],
      "metadata": {
        "colab": {
          "base_uri": "https://localhost:8080/",
          "height": 1000
        },
        "id": "rArZsPkEgti6",
        "outputId": "ca480496-f7e7-4017-fdcf-18a3c01347ad"
      },
      "execution_count": 64,
      "outputs": [
        {
          "output_type": "stream",
          "name": "stderr",
          "text": [
            "The following columns in the training set  don't have a corresponding argument in `BertForSequenceClassification.forward` and have been ignored: score, at, repliedAt, sentiment, __index_level_0__, content, sortOrder, userName, appId, text, userImage, replyContent, thumbsUpCount, reviewCreatedVersion. If score, at, repliedAt, sentiment, __index_level_0__, content, sortOrder, userName, appId, text, userImage, replyContent, thumbsUpCount, reviewCreatedVersion are not expected by `BertForSequenceClassification.forward`,  you can safely ignore this message.\n",
            "/usr/local/lib/python3.7/dist-packages/transformers/optimization.py:309: FutureWarning: This implementation of AdamW is deprecated and will be removed in a future version. Use the PyTorch implementation torch.optim.AdamW instead, or set `no_deprecation_warning=True` to disable this warning\n",
            "  FutureWarning,\n",
            "***** Running training *****\n",
            "  Num examples = 14171\n",
            "  Num Epochs = 8\n",
            "  Instantaneous batch size per device = 32\n",
            "  Total train batch size (w. parallel, distributed & accumulation) = 32\n",
            "  Gradient Accumulation steps = 1\n",
            "  Total optimization steps = 3544\n"
          ]
        },
        {
          "output_type": "display_data",
          "data": {
            "text/plain": [
              "<IPython.core.display.HTML object>"
            ],
            "text/html": [
              "\n",
              "    <div>\n",
              "      \n",
              "      <progress value='3544' max='3544' style='width:300px; height:20px; vertical-align: middle;'></progress>\n",
              "      [3544/3544 03:13, Epoch 8/8]\n",
              "    </div>\n",
              "    <table border=\"1\" class=\"dataframe\">\n",
              "  <thead>\n",
              " <tr style=\"text-align: left;\">\n",
              "      <th>Epoch</th>\n",
              "      <th>Training Loss</th>\n",
              "      <th>Validation Loss</th>\n",
              "      <th>Accuracy</th>\n",
              "      <th>F1</th>\n",
              "      <th>Precision</th>\n",
              "      <th>Recall</th>\n",
              "    </tr>\n",
              "  </thead>\n",
              "  <tbody>\n",
              "    <tr>\n",
              "      <td>1</td>\n",
              "      <td>1.035200</td>\n",
              "      <td>0.982419</td>\n",
              "      <td>0.532995</td>\n",
              "      <td>0.518520</td>\n",
              "      <td>0.515151</td>\n",
              "      <td>0.532995</td>\n",
              "    </tr>\n",
              "    <tr>\n",
              "      <td>2</td>\n",
              "      <td>0.890300</td>\n",
              "      <td>0.874018</td>\n",
              "      <td>0.590102</td>\n",
              "      <td>0.559997</td>\n",
              "      <td>0.568469</td>\n",
              "      <td>0.590102</td>\n",
              "    </tr>\n",
              "    <tr>\n",
              "      <td>3</td>\n",
              "      <td>0.913900</td>\n",
              "      <td>0.833219</td>\n",
              "      <td>0.615482</td>\n",
              "      <td>0.596272</td>\n",
              "      <td>0.598759</td>\n",
              "      <td>0.615482</td>\n",
              "    </tr>\n",
              "    <tr>\n",
              "      <td>4</td>\n",
              "      <td>0.775000</td>\n",
              "      <td>0.813263</td>\n",
              "      <td>0.612944</td>\n",
              "      <td>0.599345</td>\n",
              "      <td>0.596869</td>\n",
              "      <td>0.612944</td>\n",
              "    </tr>\n",
              "    <tr>\n",
              "      <td>5</td>\n",
              "      <td>0.934700</td>\n",
              "      <td>0.798130</td>\n",
              "      <td>0.624365</td>\n",
              "      <td>0.615667</td>\n",
              "      <td>0.613283</td>\n",
              "      <td>0.624365</td>\n",
              "    </tr>\n",
              "    <tr>\n",
              "      <td>6</td>\n",
              "      <td>0.663100</td>\n",
              "      <td>0.787758</td>\n",
              "      <td>0.625635</td>\n",
              "      <td>0.617319</td>\n",
              "      <td>0.615234</td>\n",
              "      <td>0.625635</td>\n",
              "    </tr>\n",
              "    <tr>\n",
              "      <td>7</td>\n",
              "      <td>0.778700</td>\n",
              "      <td>0.782962</td>\n",
              "      <td>0.629442</td>\n",
              "      <td>0.618201</td>\n",
              "      <td>0.616117</td>\n",
              "      <td>0.629442</td>\n",
              "    </tr>\n",
              "    <tr>\n",
              "      <td>8</td>\n",
              "      <td>0.630000</td>\n",
              "      <td>0.781825</td>\n",
              "      <td>0.628173</td>\n",
              "      <td>0.617696</td>\n",
              "      <td>0.616028</td>\n",
              "      <td>0.628173</td>\n",
              "    </tr>\n",
              "  </tbody>\n",
              "</table><p>"
            ]
          },
          "metadata": {}
        },
        {
          "output_type": "stream",
          "name": "stderr",
          "text": [
            "The following columns in the evaluation set  don't have a corresponding argument in `BertForSequenceClassification.forward` and have been ignored: score, at, repliedAt, sentiment, __index_level_0__, content, sortOrder, userName, appId, text, userImage, replyContent, thumbsUpCount, reviewCreatedVersion. If score, at, repliedAt, sentiment, __index_level_0__, content, sortOrder, userName, appId, text, userImage, replyContent, thumbsUpCount, reviewCreatedVersion are not expected by `BertForSequenceClassification.forward`,  you can safely ignore this message.\n",
            "***** Running Evaluation *****\n",
            "  Num examples = 788\n",
            "  Batch size = 32\n",
            "Saving model checkpoint to ./results/checkpoint-500\n",
            "Configuration saved in ./results/checkpoint-500/config.json\n",
            "Model weights saved in ./results/checkpoint-500/pytorch_model.bin\n",
            "tokenizer config file saved in ./results/checkpoint-500/tokenizer_config.json\n",
            "Special tokens file saved in ./results/checkpoint-500/special_tokens_map.json\n",
            "The following columns in the evaluation set  don't have a corresponding argument in `BertForSequenceClassification.forward` and have been ignored: score, at, repliedAt, sentiment, __index_level_0__, content, sortOrder, userName, appId, text, userImage, replyContent, thumbsUpCount, reviewCreatedVersion. If score, at, repliedAt, sentiment, __index_level_0__, content, sortOrder, userName, appId, text, userImage, replyContent, thumbsUpCount, reviewCreatedVersion are not expected by `BertForSequenceClassification.forward`,  you can safely ignore this message.\n",
            "***** Running Evaluation *****\n",
            "  Num examples = 788\n",
            "  Batch size = 32\n",
            "Saving model checkpoint to ./results/checkpoint-1000\n",
            "Configuration saved in ./results/checkpoint-1000/config.json\n",
            "Model weights saved in ./results/checkpoint-1000/pytorch_model.bin\n",
            "tokenizer config file saved in ./results/checkpoint-1000/tokenizer_config.json\n",
            "Special tokens file saved in ./results/checkpoint-1000/special_tokens_map.json\n",
            "The following columns in the evaluation set  don't have a corresponding argument in `BertForSequenceClassification.forward` and have been ignored: score, at, repliedAt, sentiment, __index_level_0__, content, sortOrder, userName, appId, text, userImage, replyContent, thumbsUpCount, reviewCreatedVersion. If score, at, repliedAt, sentiment, __index_level_0__, content, sortOrder, userName, appId, text, userImage, replyContent, thumbsUpCount, reviewCreatedVersion are not expected by `BertForSequenceClassification.forward`,  you can safely ignore this message.\n",
            "***** Running Evaluation *****\n",
            "  Num examples = 788\n",
            "  Batch size = 32\n",
            "Saving model checkpoint to ./results/checkpoint-1500\n",
            "Configuration saved in ./results/checkpoint-1500/config.json\n",
            "Model weights saved in ./results/checkpoint-1500/pytorch_model.bin\n",
            "tokenizer config file saved in ./results/checkpoint-1500/tokenizer_config.json\n",
            "Special tokens file saved in ./results/checkpoint-1500/special_tokens_map.json\n",
            "The following columns in the evaluation set  don't have a corresponding argument in `BertForSequenceClassification.forward` and have been ignored: score, at, repliedAt, sentiment, __index_level_0__, content, sortOrder, userName, appId, text, userImage, replyContent, thumbsUpCount, reviewCreatedVersion. If score, at, repliedAt, sentiment, __index_level_0__, content, sortOrder, userName, appId, text, userImage, replyContent, thumbsUpCount, reviewCreatedVersion are not expected by `BertForSequenceClassification.forward`,  you can safely ignore this message.\n",
            "***** Running Evaluation *****\n",
            "  Num examples = 788\n",
            "  Batch size = 32\n",
            "Saving model checkpoint to ./results/checkpoint-2000\n",
            "Configuration saved in ./results/checkpoint-2000/config.json\n",
            "Model weights saved in ./results/checkpoint-2000/pytorch_model.bin\n",
            "tokenizer config file saved in ./results/checkpoint-2000/tokenizer_config.json\n",
            "Special tokens file saved in ./results/checkpoint-2000/special_tokens_map.json\n",
            "The following columns in the evaluation set  don't have a corresponding argument in `BertForSequenceClassification.forward` and have been ignored: score, at, repliedAt, sentiment, __index_level_0__, content, sortOrder, userName, appId, text, userImage, replyContent, thumbsUpCount, reviewCreatedVersion. If score, at, repliedAt, sentiment, __index_level_0__, content, sortOrder, userName, appId, text, userImage, replyContent, thumbsUpCount, reviewCreatedVersion are not expected by `BertForSequenceClassification.forward`,  you can safely ignore this message.\n",
            "***** Running Evaluation *****\n",
            "  Num examples = 788\n",
            "  Batch size = 32\n",
            "Saving model checkpoint to ./results/checkpoint-2500\n",
            "Configuration saved in ./results/checkpoint-2500/config.json\n",
            "Model weights saved in ./results/checkpoint-2500/pytorch_model.bin\n",
            "tokenizer config file saved in ./results/checkpoint-2500/tokenizer_config.json\n",
            "Special tokens file saved in ./results/checkpoint-2500/special_tokens_map.json\n",
            "The following columns in the evaluation set  don't have a corresponding argument in `BertForSequenceClassification.forward` and have been ignored: score, at, repliedAt, sentiment, __index_level_0__, content, sortOrder, userName, appId, text, userImage, replyContent, thumbsUpCount, reviewCreatedVersion. If score, at, repliedAt, sentiment, __index_level_0__, content, sortOrder, userName, appId, text, userImage, replyContent, thumbsUpCount, reviewCreatedVersion are not expected by `BertForSequenceClassification.forward`,  you can safely ignore this message.\n",
            "***** Running Evaluation *****\n",
            "  Num examples = 788\n",
            "  Batch size = 32\n",
            "Saving model checkpoint to ./results/checkpoint-3000\n",
            "Configuration saved in ./results/checkpoint-3000/config.json\n",
            "Model weights saved in ./results/checkpoint-3000/pytorch_model.bin\n",
            "tokenizer config file saved in ./results/checkpoint-3000/tokenizer_config.json\n",
            "Special tokens file saved in ./results/checkpoint-3000/special_tokens_map.json\n",
            "The following columns in the evaluation set  don't have a corresponding argument in `BertForSequenceClassification.forward` and have been ignored: score, at, repliedAt, sentiment, __index_level_0__, content, sortOrder, userName, appId, text, userImage, replyContent, thumbsUpCount, reviewCreatedVersion. If score, at, repliedAt, sentiment, __index_level_0__, content, sortOrder, userName, appId, text, userImage, replyContent, thumbsUpCount, reviewCreatedVersion are not expected by `BertForSequenceClassification.forward`,  you can safely ignore this message.\n",
            "***** Running Evaluation *****\n",
            "  Num examples = 788\n",
            "  Batch size = 32\n",
            "Saving model checkpoint to ./results/checkpoint-3500\n",
            "Configuration saved in ./results/checkpoint-3500/config.json\n",
            "Model weights saved in ./results/checkpoint-3500/pytorch_model.bin\n",
            "tokenizer config file saved in ./results/checkpoint-3500/tokenizer_config.json\n",
            "Special tokens file saved in ./results/checkpoint-3500/special_tokens_map.json\n",
            "The following columns in the evaluation set  don't have a corresponding argument in `BertForSequenceClassification.forward` and have been ignored: score, at, repliedAt, sentiment, __index_level_0__, content, sortOrder, userName, appId, text, userImage, replyContent, thumbsUpCount, reviewCreatedVersion. If score, at, repliedAt, sentiment, __index_level_0__, content, sortOrder, userName, appId, text, userImage, replyContent, thumbsUpCount, reviewCreatedVersion are not expected by `BertForSequenceClassification.forward`,  you can safely ignore this message.\n",
            "***** Running Evaluation *****\n",
            "  Num examples = 788\n",
            "  Batch size = 32\n",
            "\n",
            "\n",
            "Training completed. Do not forget to share your model on huggingface.co/models =)\n",
            "\n",
            "\n"
          ]
        },
        {
          "output_type": "execute_result",
          "data": {
            "text/plain": [
              "TrainOutput(global_step=3544, training_loss=0.8482522110772187, metrics={'train_runtime': 193.4733, 'train_samples_per_second': 585.962, 'train_steps_per_second': 18.318, 'total_flos': 136078549051302.0, 'train_loss': 0.8482522110772187, 'epoch': 8.0})"
            ]
          },
          "metadata": {},
          "execution_count": 64
        }
      ]
    },
    {
      "cell_type": "code",
      "source": [
        "metrics = trainer_3.evaluate(eval_dataset=val_tok, metric_key_prefix=\"test\")\n",
        "print(f'''metrics:\\n\n",
        "accuracy: {metrics['test_accuracy']},\\n\n",
        "f1: {metrics['test_f1']},\\n\n",
        "precision: {metrics['test_precision']},\\n\n",
        "recall: {metrics['test_recall']},\\n''')"
      ],
      "metadata": {
        "colab": {
          "base_uri": "https://localhost:8080/",
          "height": 287
        },
        "id": "SgeVVnoogyFZ",
        "outputId": "c7e531e8-9a52-4032-c9ba-e532d5f58140"
      },
      "execution_count": 65,
      "outputs": [
        {
          "output_type": "stream",
          "name": "stderr",
          "text": [
            "The following columns in the evaluation set  don't have a corresponding argument in `BertForSequenceClassification.forward` and have been ignored: score, at, repliedAt, sentiment, __index_level_0__, content, sortOrder, userName, appId, text, userImage, replyContent, thumbsUpCount, reviewCreatedVersion. If score, at, repliedAt, sentiment, __index_level_0__, content, sortOrder, userName, appId, text, userImage, replyContent, thumbsUpCount, reviewCreatedVersion are not expected by `BertForSequenceClassification.forward`,  you can safely ignore this message.\n",
            "***** Running Evaluation *****\n",
            "  Num examples = 787\n",
            "  Batch size = 32\n"
          ]
        },
        {
          "output_type": "display_data",
          "data": {
            "text/plain": [
              "<IPython.core.display.HTML object>"
            ],
            "text/html": [
              "\n",
              "    <div>\n",
              "      \n",
              "      <progress value='25' max='25' style='width:300px; height:20px; vertical-align: middle;'></progress>\n",
              "      [25/25 00:00]\n",
              "    </div>\n",
              "    "
            ]
          },
          "metadata": {}
        },
        {
          "output_type": "stream",
          "name": "stdout",
          "text": [
            "metrics:\n",
            "\n",
            "accuracy: 0.6302414231257941,\n",
            "\n",
            "f1: 0.6218474879106397,\n",
            "\n",
            "precision: 0.6250108596871455,\n",
            "\n",
            "recall: 0.6302414231257941,\n",
            "\n"
          ]
        }
      ]
    },
    {
      "cell_type": "markdown",
      "source": [
        "## 5"
      ],
      "metadata": {
        "id": "69vdivjBvHJp"
      }
    },
    {
      "cell_type": "markdown",
      "source": [
        "Тут три рандомных отзыва на Крестного отца. Если посмотрим чуть выше, туда, где переводили оценки в категории, заметим, что 0 -- плохой отзыв, 1 -- нейтральный, 2 -- хороший. BERT это все перевел в лейблы, но так и остально, что LABEL_0 -- плохой, LABEL_1 -- нейтральный, LABEL_2 -- хороший. Подаем последовательно плохой, нейтральный, хороший, ожидаем получить выход 0, 1, 2."
      ],
      "metadata": {
        "id": "pgSnZq0fyXeL"
      }
    },
    {
      "cell_type": "code",
      "source": [
        "good_review = '''The best This film is the best in the world.\n",
        "Not only forr a good story but also for smart words said by Vito Carleone and his son Michel whichs usnabout gangstar, political, and usual life.\n",
        "No one can make such a move about gangstar life.'''\n",
        "bad_review = '''ONLY HALF THE FILM COULD BE WATCHED The film stopped playing at 1:30, that was half way. It just freezed there. waste of money.'''\n",
        "neutral_review = '''Well produced but boring. Still better than scorcese or sopranos rubbish though.'''"
      ],
      "metadata": {
        "id": "HjQUBZvMiyl4"
      },
      "execution_count": 66,
      "outputs": []
    },
    {
      "cell_type": "code",
      "source": [
        "from transformers import TextClassificationPipeline\n",
        "model_3.to('cpu')\n",
        "pipe = TextClassificationPipeline(model=model_3, tokenizer=tokenizer)\n",
        "pred = pipe([bad_review, neutral_review, good_review])\n",
        "pred"
      ],
      "metadata": {
        "colab": {
          "base_uri": "https://localhost:8080/"
        },
        "id": "r26Cy_XGjZTP",
        "outputId": "69715d80-1470-430f-8dac-c2331f4b7ec3"
      },
      "execution_count": 67,
      "outputs": [
        {
          "output_type": "execute_result",
          "data": {
            "text/plain": [
              "[{'label': 'LABEL_0', 'score': 0.720552921295166},\n",
              " {'label': 'LABEL_1', 'score': 0.5583726167678833},\n",
              " {'label': 'LABEL_2', 'score': 0.7636069059371948}]"
            ]
          },
          "metadata": {},
          "execution_count": 67
        }
      ]
    },
    {
      "cell_type": "markdown",
      "source": [
        "Ура, так и получилось! Я осознанно взяла довольно однозначные отзывы, в плохом много негативно окрашенных слов, в хорошем -- позитивно окрашенных, а в нейтральном есть и такие, и такие (кстати, его модель ожидаемо распознала с наименьшей уверенностью). Модель работает :)"
      ],
      "metadata": {
        "id": "ZVjnHpPEy1qP"
      }
    },
    {
      "cell_type": "markdown",
      "source": [
        "## 4 (бонус)"
      ],
      "metadata": {
        "id": "MX4EuPNZvQGT"
      }
    },
    {
      "cell_type": "markdown",
      "source": [
        "То же самое, что в прошлых заданиях, но попросим модель выдать hidden_states для каждого слоя, и с каждого из них (для нас -- трех) возьмем эмбеддинг CLS токена; затем найдем среднее этих трех эмбеддингов для каждого случая, его соконкатенируем с выдачей pooled_output, а дальше обучим модель, как обычно."
      ],
      "metadata": {
        "id": "-eACevpkwR9H"
      }
    },
    {
      "cell_type": "code",
      "source": [
        "class SentimentClassifier_4(nn.Module):\n",
        "\n",
        "  def __init__(self, n_classes):\n",
        "    super().__init__()\n",
        "    config = BertConfig.from_pretrained(PRE_TRAINED_MODEL_NAME, output_hidden_states=True)\n",
        "    self.bert = BertModel.from_pretrained(PRE_TRAINED_MODEL_NAME, config=config)\n",
        "    self.drop = nn.Dropout(p=0.3)\n",
        "    self.out = nn.Linear(self.bert.config.hidden_size*2, n_classes)\n",
        "  \n",
        "  def forward(self, input_ids, attention_mask, labels):\n",
        "    last_hidden_state, pooled_output, hidden_states = self.bert(\n",
        "      input_ids=input_ids,\n",
        "      attention_mask=attention_mask,\n",
        "      return_dict=False)\n",
        "    hidden_cls_tokens = [(x[:,0,:])for x in hidden_states]\n",
        "    hidden_cls_tokens = torch.stack((hidden_cls_tokens))\n",
        "    cls_mean = torch.mean(hidden_cls_tokens, 0)\n",
        "    output = self.drop(torch.cat((cls_mean, pooled_output), 1))\n",
        "    return (loss_fn(self.out(output), labels), self.out(output))"
      ],
      "metadata": {
        "id": "T_99sl7SiyMD"
      },
      "execution_count": 166,
      "outputs": []
    },
    {
      "cell_type": "code",
      "source": [
        "model_4 = SentimentClassifier_4(class_num)\n",
        "model_4 = model_4.to(device)"
      ],
      "metadata": {
        "colab": {
          "base_uri": "https://localhost:8080/"
        },
        "id": "cwwz5ETHpO1J",
        "outputId": "f740b445-4d43-483a-fea6-9913a099c55a"
      },
      "execution_count": 167,
      "outputs": [
        {
          "output_type": "stream",
          "name": "stderr",
          "text": [
            "loading configuration file https://huggingface.co/prajjwal1/bert-tiny/resolve/main/config.json from cache at /root/.cache/huggingface/transformers/3cf34679007e9fe5d0acd644dcc1f4b26bec5cbc9612364f6da7262aed4ef7a4.a5a11219cf90aae61ff30e1658ccf2cb4aa84d6b6e947336556f887c9828dc6d\n",
            "Model config BertConfig {\n",
            "  \"attention_probs_dropout_prob\": 0.1,\n",
            "  \"classifier_dropout\": null,\n",
            "  \"hidden_act\": \"gelu\",\n",
            "  \"hidden_dropout_prob\": 0.1,\n",
            "  \"hidden_size\": 128,\n",
            "  \"initializer_range\": 0.02,\n",
            "  \"intermediate_size\": 512,\n",
            "  \"layer_norm_eps\": 1e-12,\n",
            "  \"max_position_embeddings\": 512,\n",
            "  \"model_type\": \"bert\",\n",
            "  \"num_attention_heads\": 2,\n",
            "  \"num_hidden_layers\": 2,\n",
            "  \"output_hidden_states\": true,\n",
            "  \"pad_token_id\": 0,\n",
            "  \"position_embedding_type\": \"absolute\",\n",
            "  \"transformers_version\": \"4.17.0\",\n",
            "  \"type_vocab_size\": 2,\n",
            "  \"use_cache\": true,\n",
            "  \"vocab_size\": 30522\n",
            "}\n",
            "\n",
            "loading weights file https://huggingface.co/prajjwal1/bert-tiny/resolve/main/pytorch_model.bin from cache at /root/.cache/huggingface/transformers/1ee037c9e1a220d5c814779ffe697080d1e6f5b1602e16cf6061aaae41a082c5.038e1aed90492a59d2283f9c44c9fe3ee2380495ff1e7fefb3f1f04af3b685b5\n",
            "Some weights of the model checkpoint at prajjwal1/bert-tiny were not used when initializing BertModel: ['cls.predictions.transform.dense.bias', 'cls.predictions.decoder.bias', 'cls.predictions.transform.dense.weight', 'cls.seq_relationship.weight', 'cls.predictions.bias', 'cls.predictions.decoder.weight', 'cls.predictions.transform.LayerNorm.weight', 'cls.predictions.transform.LayerNorm.bias', 'cls.seq_relationship.bias']\n",
            "- This IS expected if you are initializing BertModel from the checkpoint of a model trained on another task or with another architecture (e.g. initializing a BertForSequenceClassification model from a BertForPreTraining model).\n",
            "- This IS NOT expected if you are initializing BertModel from the checkpoint of a model that you expect to be exactly identical (initializing a BertForSequenceClassification model from a BertForSequenceClassification model).\n",
            "All the weights of BertModel were initialized from the model checkpoint at prajjwal1/bert-tiny.\n",
            "If your task is similar to the task the model of the checkpoint was trained on, you can already use BertModel for predictions without further training.\n"
          ]
        }
      ]
    },
    {
      "cell_type": "code",
      "source": [
        "trainer_4 = Trainer(\n",
        "    model=model_4,\n",
        "    args=training_args,\n",
        "    train_dataset=train_tok,\n",
        "    eval_dataset=test_tok,\n",
        "    tokenizer=tokenizer,\n",
        "    data_collator=data_collator,\n",
        "    compute_metrics=compute_metrics\n",
        "    )\n",
        "\n",
        "trainer_4.train()"
      ],
      "metadata": {
        "colab": {
          "base_uri": "https://localhost:8080/",
          "height": 1000
        },
        "id": "kXkmmgPMqthe",
        "outputId": "22204ce0-7125-45a5-c75a-4e0108f3d718"
      },
      "execution_count": 168,
      "outputs": [
        {
          "output_type": "stream",
          "name": "stderr",
          "text": [
            "The following columns in the training set  don't have a corresponding argument in `SentimentClassifier_4.forward` and have been ignored: score, at, repliedAt, sentiment, __index_level_0__, token_type_ids, content, sortOrder, userName, appId, text, userImage, replyContent, thumbsUpCount, reviewCreatedVersion. If score, at, repliedAt, sentiment, __index_level_0__, token_type_ids, content, sortOrder, userName, appId, text, userImage, replyContent, thumbsUpCount, reviewCreatedVersion are not expected by `SentimentClassifier_4.forward`,  you can safely ignore this message.\n",
            "/usr/local/lib/python3.7/dist-packages/transformers/optimization.py:309: FutureWarning: This implementation of AdamW is deprecated and will be removed in a future version. Use the PyTorch implementation torch.optim.AdamW instead, or set `no_deprecation_warning=True` to disable this warning\n",
            "  FutureWarning,\n",
            "***** Running training *****\n",
            "  Num examples = 14171\n",
            "  Num Epochs = 8\n",
            "  Instantaneous batch size per device = 32\n",
            "  Total train batch size (w. parallel, distributed & accumulation) = 32\n",
            "  Gradient Accumulation steps = 1\n",
            "  Total optimization steps = 3544\n"
          ]
        },
        {
          "output_type": "display_data",
          "data": {
            "text/plain": [
              "<IPython.core.display.HTML object>"
            ],
            "text/html": [
              "\n",
              "    <div>\n",
              "      \n",
              "      <progress value='3544' max='3544' style='width:300px; height:20px; vertical-align: middle;'></progress>\n",
              "      [3544/3544 03:12, Epoch 8/8]\n",
              "    </div>\n",
              "    <table border=\"1\" class=\"dataframe\">\n",
              "  <thead>\n",
              " <tr style=\"text-align: left;\">\n",
              "      <th>Epoch</th>\n",
              "      <th>Training Loss</th>\n",
              "      <th>Validation Loss</th>\n",
              "      <th>Accuracy</th>\n",
              "      <th>F1</th>\n",
              "      <th>Precision</th>\n",
              "      <th>Recall</th>\n",
              "    </tr>\n",
              "  </thead>\n",
              "  <tbody>\n",
              "    <tr>\n",
              "      <td>1</td>\n",
              "      <td>1.074000</td>\n",
              "      <td>0.955854</td>\n",
              "      <td>0.554569</td>\n",
              "      <td>0.521541</td>\n",
              "      <td>0.527339</td>\n",
              "      <td>0.554569</td>\n",
              "    </tr>\n",
              "    <tr>\n",
              "      <td>2</td>\n",
              "      <td>0.799900</td>\n",
              "      <td>0.840267</td>\n",
              "      <td>0.597716</td>\n",
              "      <td>0.570113</td>\n",
              "      <td>0.571148</td>\n",
              "      <td>0.597716</td>\n",
              "    </tr>\n",
              "    <tr>\n",
              "      <td>3</td>\n",
              "      <td>0.909400</td>\n",
              "      <td>0.803354</td>\n",
              "      <td>0.620558</td>\n",
              "      <td>0.602604</td>\n",
              "      <td>0.601252</td>\n",
              "      <td>0.620558</td>\n",
              "    </tr>\n",
              "    <tr>\n",
              "      <td>4</td>\n",
              "      <td>0.695500</td>\n",
              "      <td>0.787622</td>\n",
              "      <td>0.629442</td>\n",
              "      <td>0.616324</td>\n",
              "      <td>0.613532</td>\n",
              "      <td>0.629442</td>\n",
              "    </tr>\n",
              "    <tr>\n",
              "      <td>5</td>\n",
              "      <td>0.969900</td>\n",
              "      <td>0.776068</td>\n",
              "      <td>0.635787</td>\n",
              "      <td>0.628817</td>\n",
              "      <td>0.625686</td>\n",
              "      <td>0.635787</td>\n",
              "    </tr>\n",
              "    <tr>\n",
              "      <td>6</td>\n",
              "      <td>0.668900</td>\n",
              "      <td>0.768535</td>\n",
              "      <td>0.637056</td>\n",
              "      <td>0.632570</td>\n",
              "      <td>0.630268</td>\n",
              "      <td>0.637056</td>\n",
              "    </tr>\n",
              "    <tr>\n",
              "      <td>7</td>\n",
              "      <td>0.768600</td>\n",
              "      <td>0.764942</td>\n",
              "      <td>0.643401</td>\n",
              "      <td>0.637006</td>\n",
              "      <td>0.634141</td>\n",
              "      <td>0.643401</td>\n",
              "    </tr>\n",
              "    <tr>\n",
              "      <td>8</td>\n",
              "      <td>0.618900</td>\n",
              "      <td>0.763779</td>\n",
              "      <td>0.642132</td>\n",
              "      <td>0.636237</td>\n",
              "      <td>0.633508</td>\n",
              "      <td>0.642132</td>\n",
              "    </tr>\n",
              "  </tbody>\n",
              "</table><p>"
            ]
          },
          "metadata": {}
        },
        {
          "output_type": "stream",
          "name": "stderr",
          "text": [
            "The following columns in the evaluation set  don't have a corresponding argument in `SentimentClassifier_4.forward` and have been ignored: score, at, repliedAt, sentiment, __index_level_0__, token_type_ids, content, sortOrder, userName, appId, text, userImage, replyContent, thumbsUpCount, reviewCreatedVersion. If score, at, repliedAt, sentiment, __index_level_0__, token_type_ids, content, sortOrder, userName, appId, text, userImage, replyContent, thumbsUpCount, reviewCreatedVersion are not expected by `SentimentClassifier_4.forward`,  you can safely ignore this message.\n",
            "***** Running Evaluation *****\n",
            "  Num examples = 788\n",
            "  Batch size = 32\n",
            "Saving model checkpoint to ./results/checkpoint-500\n",
            "Trainer.model is not a `PreTrainedModel`, only saving its state dict.\n",
            "tokenizer config file saved in ./results/checkpoint-500/tokenizer_config.json\n",
            "Special tokens file saved in ./results/checkpoint-500/special_tokens_map.json\n",
            "The following columns in the evaluation set  don't have a corresponding argument in `SentimentClassifier_4.forward` and have been ignored: score, at, repliedAt, sentiment, __index_level_0__, token_type_ids, content, sortOrder, userName, appId, text, userImage, replyContent, thumbsUpCount, reviewCreatedVersion. If score, at, repliedAt, sentiment, __index_level_0__, token_type_ids, content, sortOrder, userName, appId, text, userImage, replyContent, thumbsUpCount, reviewCreatedVersion are not expected by `SentimentClassifier_4.forward`,  you can safely ignore this message.\n",
            "***** Running Evaluation *****\n",
            "  Num examples = 788\n",
            "  Batch size = 32\n",
            "Saving model checkpoint to ./results/checkpoint-1000\n",
            "Trainer.model is not a `PreTrainedModel`, only saving its state dict.\n",
            "tokenizer config file saved in ./results/checkpoint-1000/tokenizer_config.json\n",
            "Special tokens file saved in ./results/checkpoint-1000/special_tokens_map.json\n",
            "The following columns in the evaluation set  don't have a corresponding argument in `SentimentClassifier_4.forward` and have been ignored: score, at, repliedAt, sentiment, __index_level_0__, token_type_ids, content, sortOrder, userName, appId, text, userImage, replyContent, thumbsUpCount, reviewCreatedVersion. If score, at, repliedAt, sentiment, __index_level_0__, token_type_ids, content, sortOrder, userName, appId, text, userImage, replyContent, thumbsUpCount, reviewCreatedVersion are not expected by `SentimentClassifier_4.forward`,  you can safely ignore this message.\n",
            "***** Running Evaluation *****\n",
            "  Num examples = 788\n",
            "  Batch size = 32\n",
            "Saving model checkpoint to ./results/checkpoint-1500\n",
            "Trainer.model is not a `PreTrainedModel`, only saving its state dict.\n",
            "tokenizer config file saved in ./results/checkpoint-1500/tokenizer_config.json\n",
            "Special tokens file saved in ./results/checkpoint-1500/special_tokens_map.json\n",
            "The following columns in the evaluation set  don't have a corresponding argument in `SentimentClassifier_4.forward` and have been ignored: score, at, repliedAt, sentiment, __index_level_0__, token_type_ids, content, sortOrder, userName, appId, text, userImage, replyContent, thumbsUpCount, reviewCreatedVersion. If score, at, repliedAt, sentiment, __index_level_0__, token_type_ids, content, sortOrder, userName, appId, text, userImage, replyContent, thumbsUpCount, reviewCreatedVersion are not expected by `SentimentClassifier_4.forward`,  you can safely ignore this message.\n",
            "***** Running Evaluation *****\n",
            "  Num examples = 788\n",
            "  Batch size = 32\n",
            "Saving model checkpoint to ./results/checkpoint-2000\n",
            "Trainer.model is not a `PreTrainedModel`, only saving its state dict.\n",
            "tokenizer config file saved in ./results/checkpoint-2000/tokenizer_config.json\n",
            "Special tokens file saved in ./results/checkpoint-2000/special_tokens_map.json\n",
            "The following columns in the evaluation set  don't have a corresponding argument in `SentimentClassifier_4.forward` and have been ignored: score, at, repliedAt, sentiment, __index_level_0__, token_type_ids, content, sortOrder, userName, appId, text, userImage, replyContent, thumbsUpCount, reviewCreatedVersion. If score, at, repliedAt, sentiment, __index_level_0__, token_type_ids, content, sortOrder, userName, appId, text, userImage, replyContent, thumbsUpCount, reviewCreatedVersion are not expected by `SentimentClassifier_4.forward`,  you can safely ignore this message.\n",
            "***** Running Evaluation *****\n",
            "  Num examples = 788\n",
            "  Batch size = 32\n",
            "Saving model checkpoint to ./results/checkpoint-2500\n",
            "Trainer.model is not a `PreTrainedModel`, only saving its state dict.\n",
            "tokenizer config file saved in ./results/checkpoint-2500/tokenizer_config.json\n",
            "Special tokens file saved in ./results/checkpoint-2500/special_tokens_map.json\n",
            "The following columns in the evaluation set  don't have a corresponding argument in `SentimentClassifier_4.forward` and have been ignored: score, at, repliedAt, sentiment, __index_level_0__, token_type_ids, content, sortOrder, userName, appId, text, userImage, replyContent, thumbsUpCount, reviewCreatedVersion. If score, at, repliedAt, sentiment, __index_level_0__, token_type_ids, content, sortOrder, userName, appId, text, userImage, replyContent, thumbsUpCount, reviewCreatedVersion are not expected by `SentimentClassifier_4.forward`,  you can safely ignore this message.\n",
            "***** Running Evaluation *****\n",
            "  Num examples = 788\n",
            "  Batch size = 32\n",
            "Saving model checkpoint to ./results/checkpoint-3000\n",
            "Trainer.model is not a `PreTrainedModel`, only saving its state dict.\n",
            "tokenizer config file saved in ./results/checkpoint-3000/tokenizer_config.json\n",
            "Special tokens file saved in ./results/checkpoint-3000/special_tokens_map.json\n",
            "The following columns in the evaluation set  don't have a corresponding argument in `SentimentClassifier_4.forward` and have been ignored: score, at, repliedAt, sentiment, __index_level_0__, token_type_ids, content, sortOrder, userName, appId, text, userImage, replyContent, thumbsUpCount, reviewCreatedVersion. If score, at, repliedAt, sentiment, __index_level_0__, token_type_ids, content, sortOrder, userName, appId, text, userImage, replyContent, thumbsUpCount, reviewCreatedVersion are not expected by `SentimentClassifier_4.forward`,  you can safely ignore this message.\n",
            "***** Running Evaluation *****\n",
            "  Num examples = 788\n",
            "  Batch size = 32\n",
            "Saving model checkpoint to ./results/checkpoint-3500\n",
            "Trainer.model is not a `PreTrainedModel`, only saving its state dict.\n",
            "tokenizer config file saved in ./results/checkpoint-3500/tokenizer_config.json\n",
            "Special tokens file saved in ./results/checkpoint-3500/special_tokens_map.json\n",
            "The following columns in the evaluation set  don't have a corresponding argument in `SentimentClassifier_4.forward` and have been ignored: score, at, repliedAt, sentiment, __index_level_0__, token_type_ids, content, sortOrder, userName, appId, text, userImage, replyContent, thumbsUpCount, reviewCreatedVersion. If score, at, repliedAt, sentiment, __index_level_0__, token_type_ids, content, sortOrder, userName, appId, text, userImage, replyContent, thumbsUpCount, reviewCreatedVersion are not expected by `SentimentClassifier_4.forward`,  you can safely ignore this message.\n",
            "***** Running Evaluation *****\n",
            "  Num examples = 788\n",
            "  Batch size = 32\n",
            "\n",
            "\n",
            "Training completed. Do not forget to share your model on huggingface.co/models =)\n",
            "\n",
            "\n"
          ]
        },
        {
          "output_type": "execute_result",
          "data": {
            "text/plain": [
              "TrainOutput(global_step=3544, training_loss=0.8493161983872106, metrics={'train_runtime': 192.5901, 'train_samples_per_second': 588.649, 'train_steps_per_second': 18.402, 'total_flos': 0.0, 'train_loss': 0.8493161983872106, 'epoch': 8.0})"
            ]
          },
          "metadata": {},
          "execution_count": 168
        }
      ]
    },
    {
      "cell_type": "code",
      "source": [
        "metrics = trainer_4.evaluate(eval_dataset=val_tok, metric_key_prefix=\"test\")\n",
        "print(f'''metrics:\\n\n",
        "accuracy: {metrics['test_accuracy']},\\n\n",
        "f1: {metrics['test_f1']},\\n\n",
        "precision: {metrics['test_precision']},\\n\n",
        "recall: {metrics['test_recall']},\\n''')"
      ],
      "metadata": {
        "colab": {
          "base_uri": "https://localhost:8080/",
          "height": 287
        },
        "id": "m6dhlyDCqyUB",
        "outputId": "8672394e-21bc-430e-c0f2-dde76921561e"
      },
      "execution_count": 153,
      "outputs": [
        {
          "output_type": "stream",
          "name": "stderr",
          "text": [
            "The following columns in the evaluation set  don't have a corresponding argument in `SentimentClassifier_4.forward` and have been ignored: score, at, repliedAt, sentiment, __index_level_0__, token_type_ids, content, sortOrder, userName, appId, text, userImage, replyContent, thumbsUpCount, reviewCreatedVersion. If score, at, repliedAt, sentiment, __index_level_0__, token_type_ids, content, sortOrder, userName, appId, text, userImage, replyContent, thumbsUpCount, reviewCreatedVersion are not expected by `SentimentClassifier_4.forward`,  you can safely ignore this message.\n",
            "***** Running Evaluation *****\n",
            "  Num examples = 787\n",
            "  Batch size = 32\n"
          ]
        },
        {
          "output_type": "display_data",
          "data": {
            "text/plain": [
              "<IPython.core.display.HTML object>"
            ],
            "text/html": [
              "\n",
              "    <div>\n",
              "      \n",
              "      <progress value='25' max='25' style='width:300px; height:20px; vertical-align: middle;'></progress>\n",
              "      [25/25 00:00]\n",
              "    </div>\n",
              "    "
            ]
          },
          "metadata": {}
        },
        {
          "output_type": "stream",
          "name": "stdout",
          "text": [
            "metrics:\n",
            "\n",
            "accuracy: 0.6569250317662008,\n",
            "\n",
            "f1: 0.6524994829624226,\n",
            "\n",
            "precision: 0.6540563574476743,\n",
            "\n",
            "recall: 0.6569250317662008,\n",
            "\n"
          ]
        }
      ]
    }
  ]
}